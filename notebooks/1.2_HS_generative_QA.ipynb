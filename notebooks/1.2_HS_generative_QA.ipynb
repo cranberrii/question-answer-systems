{
 "cells": [
  {
   "cell_type": "code",
   "execution_count": 1,
   "id": "8cda594a",
   "metadata": {},
   "outputs": [],
   "source": [
    "import logging\n",
    "from typing import Dict, List, Optional, Union\n",
    "from pprint import pprint\n",
    "import pandas as pd\n",
    "\n",
    "from haystack.nodes import TextConverter, PDFToTextConverter, DocxToTextConverter, PreProcessor, EmbeddingRetriever, DensePassageRetriever\n",
    "from haystack.utils import convert_files_to_docs, print_answers\n",
    "from haystack.document_stores import InMemoryDocumentStore, FAISSDocumentStore\n",
    "from haystack.nodes import FARMReader, TransformersReader, RAGenerator, Seq2SeqGenerator\n",
    "from haystack.pipelines import GenerativeQAPipeline\n",
    "from haystack.schema import Document\n",
    "\n",
    "import torch\n",
    "from transformers import PreTrainedTokenizer, BatchEncoding\n",
    "import datasets\n",
    "\n",
    "%load_ext autoreload\n",
    "%autoreload 2"
   ]
  },
  {
   "cell_type": "code",
   "execution_count": 2,
   "id": "3aed857f",
   "metadata": {},
   "outputs": [],
   "source": [
    "logging.basicConfig(format=\"%(levelname)s - %(name)s -  %(message)s\", level=logging.WARNING)\n",
    "logging.getLogger(\"haystack\").setLevel(logging.INFO)"
   ]
  },
  {
   "cell_type": "markdown",
   "id": "ee21b677",
   "metadata": {
    "jp-MarkdownHeadingCollapsed": true,
    "tags": []
   },
   "source": [
    "# GET documents"
   ]
  },
  {
   "cell_type": "code",
   "execution_count": 3,
   "id": "63705348-c091-4d24-8a7a-8e2245a4dd2e",
   "metadata": {},
   "outputs": [
    {
     "name": "stderr",
     "output_type": "stream",
     "text": [
      "WARNING:datasets.builder:Found cached dataset wikitext (/home/jerm-xps/.cache/huggingface/datasets/wikitext/wikitext-2-raw-v1/1.0.0/a241db52902eaf2c6aa732210bead40c090019a499ceb13bcbfa3f8ab646a126)\n"
     ]
    },
    {
     "data": {
      "application/vnd.jupyter.widget-view+json": {
       "model_id": "adafff5a50154983b7b6d009467458bc",
       "version_major": 2,
       "version_minor": 0
      },
      "text/plain": [
       "  0%|          | 0/3 [00:00<?, ?it/s]"
      ]
     },
     "metadata": {},
     "output_type": "display_data"
    }
   ],
   "source": [
    "# eli5 = datasets.load_dataset('eli5')\n",
    "\n",
    "# wikitext = datasets.load_dataset('wikitext','wikitext-2-raw-v1')"
   ]
  },
  {
   "cell_type": "code",
   "execution_count": 4,
   "id": "ff3c6a49-fcc3-4514-a0da-8c9e7e7bd426",
   "metadata": {},
   "outputs": [],
   "source": [
    "# wikitext['train']['text'][:30]"
   ]
  },
  {
   "cell_type": "code",
   "execution_count": 3,
   "id": "5521e3ad-826b-4afe-9b0f-4f8c1483aaea",
   "metadata": {},
   "outputs": [],
   "source": [
    "# len(wikitext['train'])"
   ]
  },
  {
   "cell_type": "code",
   "execution_count": 3,
   "id": "a8152f89-2793-418a-be9d-c68df7557f74",
   "metadata": {},
   "outputs": [
    {
     "data": {
      "text/plain": [
       "(2500, 17)"
      ]
     },
     "execution_count": 3,
     "metadata": {},
     "output_type": "execute_result"
    }
   ],
   "source": [
    "DATA_PATH = '../data/bitcoin_articles.csv'\n",
    "\n",
    "df = pd.read_csv(DATA_PATH)\n",
    "df.shape"
   ]
  },
  {
   "cell_type": "code",
   "execution_count": 4,
   "id": "f07e0b4d-2568-496b-bd24-9f45221cb58e",
   "metadata": {},
   "outputs": [
    {
     "data": {
      "text/html": [
       "<div>\n",
       "<style scoped>\n",
       "    .dataframe tbody tr th:only-of-type {\n",
       "        vertical-align: middle;\n",
       "    }\n",
       "\n",
       "    .dataframe tbody tr th {\n",
       "        vertical-align: top;\n",
       "    }\n",
       "\n",
       "    .dataframe thead th {\n",
       "        text-align: right;\n",
       "    }\n",
       "</style>\n",
       "<table border=\"1\" class=\"dataframe\">\n",
       "  <thead>\n",
       "    <tr style=\"text-align: right;\">\n",
       "      <th></th>\n",
       "      <th>article_id</th>\n",
       "      <th>title</th>\n",
       "      <th>author</th>\n",
       "      <th>published_date</th>\n",
       "      <th>link</th>\n",
       "      <th>clean_url</th>\n",
       "      <th>excerpt</th>\n",
       "      <th>summary</th>\n",
       "      <th>rights</th>\n",
       "      <th>article_rank</th>\n",
       "      <th>topic</th>\n",
       "      <th>country</th>\n",
       "      <th>language</th>\n",
       "      <th>authors</th>\n",
       "      <th>media</th>\n",
       "      <th>twitter_account</th>\n",
       "      <th>article_score</th>\n",
       "    </tr>\n",
       "  </thead>\n",
       "  <tbody>\n",
       "    <tr>\n",
       "      <th>0</th>\n",
       "      <td>57a00c1140cbd3af79e77bf0e4e6af48</td>\n",
       "      <td>62% of Bitcoin Has Not Moved in a Year as Long-Term Holders Refuse to Sell</td>\n",
       "      <td>Jamie McNeill</td>\n",
       "      <td>04-10-2022 17:15</td>\n",
       "      <td>https://www.business2community.com/crypto-news/62-of-bitcoin-has-not-moved-i...</td>\n",
       "      <td>business2community.com</td>\n",
       "      <td>Over the course of the last few years, there has been an impressive trend wh...</td>\n",
       "      <td>Over the course of the last few years, there has been an impressive trend wh...</td>\n",
       "      <td>business2community.com</td>\n",
       "      <td>1595</td>\n",
       "      <td>finance</td>\n",
       "      <td>US</td>\n",
       "      <td>en</td>\n",
       "      <td>Jamie McNeill</td>\n",
       "      <td>https://www.business2community.com/wp-content/uploads/2022/10/btcc.webp</td>\n",
       "      <td>@Jamie_DeFi</td>\n",
       "      <td>8.556426</td>\n",
       "    </tr>\n",
       "    <tr>\n",
       "      <th>1</th>\n",
       "      <td>21b48b3731c03466be3fac4be6c7dc67</td>\n",
       "      <td>The Orange Party Issue Playlist</td>\n",
       "      <td>Bitcoin Magazine</td>\n",
       "      <td>05-10-2022 21:17</td>\n",
       "      <td>https://bitcoinmagazine.com/culture/orange-party-issue-playlist</td>\n",
       "      <td>bitcoinmagazine.com</td>\n",
       "      <td>News Links: Russia Legalizing Bitcoin And Crypto Is A Matter Of Time Says Mi...</td>\n",
       "      <td>Russia Legalizing Bitcoin And Crypto Is A Matter Of Time Says Minister Of In...</td>\n",
       "      <td>bitcoinmagazine.com</td>\n",
       "      <td>6284</td>\n",
       "      <td>news</td>\n",
       "      <td>US</td>\n",
       "      <td>en</td>\n",
       "      <td>Bitcoin Magazine</td>\n",
       "      <td>https://bitcoinmagazine.com/.image/t_share/MTkyODIyNDQ0Mjc5NDczMzcz/playlist...</td>\n",
       "      <td>NaN</td>\n",
       "      <td>8.507881</td>\n",
       "    </tr>\n",
       "    <tr>\n",
       "      <th>2</th>\n",
       "      <td>77030740ee160ad68c25e4e63515dd77</td>\n",
       "      <td>How Many Bitcoins Are There?</td>\n",
       "      <td>AOL Staff</td>\n",
       "      <td>04-10-2022 21:44</td>\n",
       "      <td>https://www.gobankingrates.com/investing/crypto/how-many-bitcoins-are-there/</td>\n",
       "      <td>gobankingrates.com</td>\n",
       "      <td>Bitcoin has a maximum supply of 21 million. However, that doesn't tell the w...</td>\n",
       "      <td>Bitcoin has a maximum supply of 21 million. However, that doesn't tell the w...</td>\n",
       "      <td>aol.com</td>\n",
       "      <td>5044</td>\n",
       "      <td>news</td>\n",
       "      <td>US</td>\n",
       "      <td>en</td>\n",
       "      <td>AOL Staff,David Granahan</td>\n",
       "      <td>https://s.yimg.com/ny/api/res/1.2/wPK4V8gjwjrDYoMuUGxoBw--/YXBwaWQ9aGlnaGxhb...</td>\n",
       "      <td>@AOL</td>\n",
       "      <td>8.483973</td>\n",
       "    </tr>\n",
       "    <tr>\n",
       "      <th>3</th>\n",
       "      <td>19285dde79599b6a9b4aa5a58805159b</td>\n",
       "      <td>Bitcoin 2008–2022: From Bouncing Baby To Troubled Teenager</td>\n",
       "      <td>Mark Hooson</td>\n",
       "      <td>03-10-2022 15:45</td>\n",
       "      <td>https://www.forbes.com/advisor/au/investing/bitcoin-2008-2022-from-bouncing-...</td>\n",
       "      <td>forbes.com</td>\n",
       "      <td>Conceived in 2008 and launched in 2009, bitcoin is the world's first and lar...</td>\n",
       "      <td>Conceived in 2008 and launched in 2009, bitcoin is the world's first and lar...</td>\n",
       "      <td>forbes.com</td>\n",
       "      <td>49</td>\n",
       "      <td>business</td>\n",
       "      <td>US</td>\n",
       "      <td>en</td>\n",
       "      <td>Forbes Staff,Kevin Pratt,Mark Hooson,Sophie Venz</td>\n",
       "      <td>https://thumbor.forbes.com/thumbor/fit-in/x/https://www.forbes.com/advisor/a...</td>\n",
       "      <td>NaN</td>\n",
       "      <td>8.466393</td>\n",
       "    </tr>\n",
       "    <tr>\n",
       "      <th>4</th>\n",
       "      <td>ad1822c7ff1bbd7e38f7f9dbdbce245f</td>\n",
       "      <td>Bitcoin Lightning Network capacity strikes 5,000 BTC</td>\n",
       "      <td>Joseph Hall</td>\n",
       "      <td>03-10-2022 12:09</td>\n",
       "      <td>https://cointelegraph.com/news/bitcoin-lightning-network-capacity-strikes-5-...</td>\n",
       "      <td>cointelegraph.com</td>\n",
       "      <td>First created in 2018, the Lighting Network has come under fire recently, wi...</td>\n",
       "      <td>Bear markets are for building out capacity on the layer-2 Lightning Network....</td>\n",
       "      <td>cointelegraph.com</td>\n",
       "      <td>1696</td>\n",
       "      <td>news</td>\n",
       "      <td>US</td>\n",
       "      <td>en</td>\n",
       "      <td>Joseph Hall</td>\n",
       "      <td>https://images.cointelegraph.com/images/1200_aHR0cHM6Ly9zMy5jb2ludGVsZWdyYXB...</td>\n",
       "      <td>@cointelegraph</td>\n",
       "      <td>8.446906</td>\n",
       "    </tr>\n",
       "    <tr>\n",
       "      <th>...</th>\n",
       "      <td>...</td>\n",
       "      <td>...</td>\n",
       "      <td>...</td>\n",
       "      <td>...</td>\n",
       "      <td>...</td>\n",
       "      <td>...</td>\n",
       "      <td>...</td>\n",
       "      <td>...</td>\n",
       "      <td>...</td>\n",
       "      <td>...</td>\n",
       "      <td>...</td>\n",
       "      <td>...</td>\n",
       "      <td>...</td>\n",
       "      <td>...</td>\n",
       "      <td>...</td>\n",
       "      <td>...</td>\n",
       "      <td>...</td>\n",
       "    </tr>\n",
       "    <tr>\n",
       "      <th>2495</th>\n",
       "      <td>2e00dee283798fb5be8339146ddcf9f7</td>\n",
       "      <td>Banks Around the World Have Over $9,200,000,000 in Crypto Asset Exposure: Ne...</td>\n",
       "      <td>NaN</td>\n",
       "      <td>03-10-2022 18:41</td>\n",
       "      <td>https://dailyhodl.com/2022/10/03/banks-around-the-world-have-over-9200000000...</td>\n",
       "      <td>dailyhodl.com</td>\n",
       "      <td>New research published by an international committee formed to develop banki...</td>\n",
       "      <td>New research published by an international committee formed to develop banki...</td>\n",
       "      <td>dailyhodl.com</td>\n",
       "      <td>20705</td>\n",
       "      <td>news</td>\n",
       "      <td>US</td>\n",
       "      <td>en</td>\n",
       "      <td>NaN</td>\n",
       "      <td>https://dailyhodl.com/wp-content/uploads/2022/10/banks-around-asset-exposure...</td>\n",
       "      <td>@thedailyhodl</td>\n",
       "      <td>6.743612</td>\n",
       "    </tr>\n",
       "    <tr>\n",
       "      <th>2496</th>\n",
       "      <td>d198a4ed4d020fc72dd1ecf3be2780d1</td>\n",
       "      <td>Crypto Was the Best Performing Asset in Q3 2022 – October Could Be Even Better</td>\n",
       "      <td>Ali B</td>\n",
       "      <td>04-10-2022 22:12</td>\n",
       "      <td>https://www.business2community.com/crypto-news/crypto-was-the-best-performin...</td>\n",
       "      <td>business2community.com</td>\n",
       "      <td>Crypto was the best performing asset in Q3, 2022, and the cryptocurrency pri...</td>\n",
       "      <td>Crypto was the best performing asset in Q3, 2022, and the cryptocurrency pri...</td>\n",
       "      <td>business2community.com</td>\n",
       "      <td>1595</td>\n",
       "      <td>finance</td>\n",
       "      <td>US</td>\n",
       "      <td>en</td>\n",
       "      <td>Ali B</td>\n",
       "      <td>https://www.business2community.com/wp-content/uploads/2022/10/Screenshot_6-1...</td>\n",
       "      <td>@b2community</td>\n",
       "      <td>6.743447</td>\n",
       "    </tr>\n",
       "    <tr>\n",
       "      <th>2497</th>\n",
       "      <td>632f19b634b80b0882878c21771f36a1</td>\n",
       "      <td>Edu Gov Footer Backlink?</td>\n",
       "      <td>NaN</td>\n",
       "      <td>04-10-2022 01:10</td>\n",
       "      <td>https://www.sitepoint.com/community/t/edu-gov-footer-backlink/397614</td>\n",
       "      <td>sitepoint.com</td>\n",
       "      <td>I wish everyone a good day. I sell footer backlinks from sites with high pa ...</td>\n",
       "      <td>I wish everyone a good day.\\nI sell footer backlinks from sites with high pa...</td>\n",
       "      <td>sitepoint.com</td>\n",
       "      <td>1964</td>\n",
       "      <td>news</td>\n",
       "      <td>AU</td>\n",
       "      <td>en</td>\n",
       "      <td>NaN</td>\n",
       "      <td>https://aws1.discourse-cdn.com/sitepoint/original/3X/c/f/cf11b3ed553d6c359d3...</td>\n",
       "      <td>NaN</td>\n",
       "      <td>6.742429</td>\n",
       "    </tr>\n",
       "    <tr>\n",
       "      <th>2498</th>\n",
       "      <td>9be976e3e4e881588e2b90beaa361843</td>\n",
       "      <td>SEC Chair Gensler Insists Most Crypto Tokens Are Securities — Says 'the Law ...</td>\n",
       "      <td>Kevin Helms</td>\n",
       "      <td>05-10-2022 02:30</td>\n",
       "      <td>https://news.bitcoin.com/sec-chair-gensler-insists-most-crypto-tokens-are-se...</td>\n",
       "      <td>bitcoin.com</td>\n",
       "      <td>SEC Chairman Gary Gensler says that the law is clear and he believes that mo...</td>\n",
       "      <td>The chairman of the U.S. Securities and Exchange Commission (SEC), Gary Gens...</td>\n",
       "      <td>bitcoin.com</td>\n",
       "      <td>2406</td>\n",
       "      <td>news</td>\n",
       "      <td>KN</td>\n",
       "      <td>en</td>\n",
       "      <td>A Student,Kevin Found Bitcoin In,Kevin Helms,Network Effects,Open-Source Sys...</td>\n",
       "      <td>https://static.news.bitcoin.com/wp-content/uploads/2016/12/Kevin-200x200-clo...</td>\n",
       "      <td>NaN</td>\n",
       "      <td>6.741612</td>\n",
       "    </tr>\n",
       "    <tr>\n",
       "      <th>2499</th>\n",
       "      <td>50ea906ab92d5c448aa5cf0eb2e3b356</td>\n",
       "      <td>Top 10 cryptocurrencies in October 2022</td>\n",
       "      <td>Andrew Michael</td>\n",
       "      <td>03-10-2022 10:19</td>\n",
       "      <td>https://www.standard.co.uk/esmoney/investing/cryptocurrency/top-10-cryptocur...</td>\n",
       "      <td>standard.co.uk</td>\n",
       "      <td>Bitcoin, Ethereum, Dogecoin &amp; Tether, there are thousands of different crypt...</td>\n",
       "      <td>Cryptocurrencies are a digital-only form of financial exchange that use cryp...</td>\n",
       "      <td>Copyright 2022, ESI Media Ltd</td>\n",
       "      <td>820</td>\n",
       "      <td>news</td>\n",
       "      <td>GB</td>\n",
       "      <td>en</td>\n",
       "      <td>Andrew Michael</td>\n",
       "      <td>https://static.standard.co.uk/2022/03/22/12/quantitatives-4PljbcYIzyE-unspla...</td>\n",
       "      <td>@standardnews</td>\n",
       "      <td>6.740770</td>\n",
       "    </tr>\n",
       "  </tbody>\n",
       "</table>\n",
       "<p>2500 rows × 17 columns</p>\n",
       "</div>"
      ],
      "text/plain": [
       "                            article_id  \\\n",
       "0     57a00c1140cbd3af79e77bf0e4e6af48   \n",
       "1     21b48b3731c03466be3fac4be6c7dc67   \n",
       "2     77030740ee160ad68c25e4e63515dd77   \n",
       "3     19285dde79599b6a9b4aa5a58805159b   \n",
       "4     ad1822c7ff1bbd7e38f7f9dbdbce245f   \n",
       "...                                ...   \n",
       "2495  2e00dee283798fb5be8339146ddcf9f7   \n",
       "2496  d198a4ed4d020fc72dd1ecf3be2780d1   \n",
       "2497  632f19b634b80b0882878c21771f36a1   \n",
       "2498  9be976e3e4e881588e2b90beaa361843   \n",
       "2499  50ea906ab92d5c448aa5cf0eb2e3b356   \n",
       "\n",
       "                                                                                title  \\\n",
       "0          62% of Bitcoin Has Not Moved in a Year as Long-Term Holders Refuse to Sell   \n",
       "1                                                     The Orange Party Issue Playlist   \n",
       "2                                                        How Many Bitcoins Are There?   \n",
       "3                          Bitcoin 2008–2022: From Bouncing Baby To Troubled Teenager   \n",
       "4                                Bitcoin Lightning Network capacity strikes 5,000 BTC   \n",
       "...                                                                               ...   \n",
       "2495  Banks Around the World Have Over $9,200,000,000 in Crypto Asset Exposure: Ne...   \n",
       "2496   Crypto Was the Best Performing Asset in Q3 2022 – October Could Be Even Better   \n",
       "2497                                                         Edu Gov Footer Backlink?   \n",
       "2498  SEC Chair Gensler Insists Most Crypto Tokens Are Securities — Says 'the Law ...   \n",
       "2499                                          Top 10 cryptocurrencies in October 2022   \n",
       "\n",
       "                author    published_date  \\\n",
       "0        Jamie McNeill  04-10-2022 17:15   \n",
       "1     Bitcoin Magazine  05-10-2022 21:17   \n",
       "2            AOL Staff  04-10-2022 21:44   \n",
       "3          Mark Hooson  03-10-2022 15:45   \n",
       "4          Joseph Hall  03-10-2022 12:09   \n",
       "...                ...               ...   \n",
       "2495               NaN  03-10-2022 18:41   \n",
       "2496             Ali B  04-10-2022 22:12   \n",
       "2497               NaN  04-10-2022 01:10   \n",
       "2498       Kevin Helms  05-10-2022 02:30   \n",
       "2499    Andrew Michael  03-10-2022 10:19   \n",
       "\n",
       "                                                                                 link  \\\n",
       "0     https://www.business2community.com/crypto-news/62-of-bitcoin-has-not-moved-i...   \n",
       "1                     https://bitcoinmagazine.com/culture/orange-party-issue-playlist   \n",
       "2        https://www.gobankingrates.com/investing/crypto/how-many-bitcoins-are-there/   \n",
       "3     https://www.forbes.com/advisor/au/investing/bitcoin-2008-2022-from-bouncing-...   \n",
       "4     https://cointelegraph.com/news/bitcoin-lightning-network-capacity-strikes-5-...   \n",
       "...                                                                               ...   \n",
       "2495  https://dailyhodl.com/2022/10/03/banks-around-the-world-have-over-9200000000...   \n",
       "2496  https://www.business2community.com/crypto-news/crypto-was-the-best-performin...   \n",
       "2497             https://www.sitepoint.com/community/t/edu-gov-footer-backlink/397614   \n",
       "2498  https://news.bitcoin.com/sec-chair-gensler-insists-most-crypto-tokens-are-se...   \n",
       "2499  https://www.standard.co.uk/esmoney/investing/cryptocurrency/top-10-cryptocur...   \n",
       "\n",
       "                   clean_url  \\\n",
       "0     business2community.com   \n",
       "1        bitcoinmagazine.com   \n",
       "2         gobankingrates.com   \n",
       "3                 forbes.com   \n",
       "4          cointelegraph.com   \n",
       "...                      ...   \n",
       "2495           dailyhodl.com   \n",
       "2496  business2community.com   \n",
       "2497           sitepoint.com   \n",
       "2498             bitcoin.com   \n",
       "2499          standard.co.uk   \n",
       "\n",
       "                                                                              excerpt  \\\n",
       "0     Over the course of the last few years, there has been an impressive trend wh...   \n",
       "1     News Links: Russia Legalizing Bitcoin And Crypto Is A Matter Of Time Says Mi...   \n",
       "2     Bitcoin has a maximum supply of 21 million. However, that doesn't tell the w...   \n",
       "3     Conceived in 2008 and launched in 2009, bitcoin is the world's first and lar...   \n",
       "4     First created in 2018, the Lighting Network has come under fire recently, wi...   \n",
       "...                                                                               ...   \n",
       "2495  New research published by an international committee formed to develop banki...   \n",
       "2496  Crypto was the best performing asset in Q3, 2022, and the cryptocurrency pri...   \n",
       "2497  I wish everyone a good day. I sell footer backlinks from sites with high pa ...   \n",
       "2498  SEC Chairman Gary Gensler says that the law is clear and he believes that mo...   \n",
       "2499  Bitcoin, Ethereum, Dogecoin & Tether, there are thousands of different crypt...   \n",
       "\n",
       "                                                                              summary  \\\n",
       "0     Over the course of the last few years, there has been an impressive trend wh...   \n",
       "1     Russia Legalizing Bitcoin And Crypto Is A Matter Of Time Says Minister Of In...   \n",
       "2     Bitcoin has a maximum supply of 21 million. However, that doesn't tell the w...   \n",
       "3     Conceived in 2008 and launched in 2009, bitcoin is the world's first and lar...   \n",
       "4     Bear markets are for building out capacity on the layer-2 Lightning Network....   \n",
       "...                                                                               ...   \n",
       "2495  New research published by an international committee formed to develop banki...   \n",
       "2496  Crypto was the best performing asset in Q3, 2022, and the cryptocurrency pri...   \n",
       "2497  I wish everyone a good day.\\nI sell footer backlinks from sites with high pa...   \n",
       "2498  The chairman of the U.S. Securities and Exchange Commission (SEC), Gary Gens...   \n",
       "2499  Cryptocurrencies are a digital-only form of financial exchange that use cryp...   \n",
       "\n",
       "                             rights  article_rank     topic country language  \\\n",
       "0            business2community.com          1595   finance      US       en   \n",
       "1               bitcoinmagazine.com          6284      news      US       en   \n",
       "2                           aol.com          5044      news      US       en   \n",
       "3                        forbes.com            49  business      US       en   \n",
       "4                 cointelegraph.com          1696      news      US       en   \n",
       "...                             ...           ...       ...     ...      ...   \n",
       "2495                  dailyhodl.com         20705      news      US       en   \n",
       "2496         business2community.com          1595   finance      US       en   \n",
       "2497                  sitepoint.com          1964      news      AU       en   \n",
       "2498                    bitcoin.com          2406      news      KN       en   \n",
       "2499  Copyright 2022, ESI Media Ltd           820      news      GB       en   \n",
       "\n",
       "                                                                              authors  \\\n",
       "0                                                                       Jamie McNeill   \n",
       "1                                                                    Bitcoin Magazine   \n",
       "2                                                            AOL Staff,David Granahan   \n",
       "3                                    Forbes Staff,Kevin Pratt,Mark Hooson,Sophie Venz   \n",
       "4                                                                         Joseph Hall   \n",
       "...                                                                               ...   \n",
       "2495                                                                              NaN   \n",
       "2496                                                                            Ali B   \n",
       "2497                                                                              NaN   \n",
       "2498  A Student,Kevin Found Bitcoin In,Kevin Helms,Network Effects,Open-Source Sys...   \n",
       "2499                                                                   Andrew Michael   \n",
       "\n",
       "                                                                                media  \\\n",
       "0             https://www.business2community.com/wp-content/uploads/2022/10/btcc.webp   \n",
       "1     https://bitcoinmagazine.com/.image/t_share/MTkyODIyNDQ0Mjc5NDczMzcz/playlist...   \n",
       "2     https://s.yimg.com/ny/api/res/1.2/wPK4V8gjwjrDYoMuUGxoBw--/YXBwaWQ9aGlnaGxhb...   \n",
       "3     https://thumbor.forbes.com/thumbor/fit-in/x/https://www.forbes.com/advisor/a...   \n",
       "4     https://images.cointelegraph.com/images/1200_aHR0cHM6Ly9zMy5jb2ludGVsZWdyYXB...   \n",
       "...                                                                               ...   \n",
       "2495  https://dailyhodl.com/wp-content/uploads/2022/10/banks-around-asset-exposure...   \n",
       "2496  https://www.business2community.com/wp-content/uploads/2022/10/Screenshot_6-1...   \n",
       "2497  https://aws1.discourse-cdn.com/sitepoint/original/3X/c/f/cf11b3ed553d6c359d3...   \n",
       "2498  https://static.news.bitcoin.com/wp-content/uploads/2016/12/Kevin-200x200-clo...   \n",
       "2499  https://static.standard.co.uk/2022/03/22/12/quantitatives-4PljbcYIzyE-unspla...   \n",
       "\n",
       "     twitter_account  article_score  \n",
       "0        @Jamie_DeFi       8.556426  \n",
       "1                NaN       8.507881  \n",
       "2               @AOL       8.483973  \n",
       "3                NaN       8.466393  \n",
       "4     @cointelegraph       8.446906  \n",
       "...              ...            ...  \n",
       "2495   @thedailyhodl       6.743612  \n",
       "2496    @b2community       6.743447  \n",
       "2497             NaN       6.742429  \n",
       "2498             NaN       6.741612  \n",
       "2499   @standardnews       6.740770  \n",
       "\n",
       "[2500 rows x 17 columns]"
      ]
     },
     "execution_count": 4,
     "metadata": {},
     "output_type": "execute_result"
    }
   ],
   "source": [
    "df"
   ]
  },
  {
   "cell_type": "code",
   "execution_count": 5,
   "id": "46ea828e-71c0-4af8-a1ea-fa148033c992",
   "metadata": {},
   "outputs": [],
   "source": [
    "# Use data to initialize Document objects\n",
    "ids = list(df[\"article_id\"].values)\n",
    "texts = list(df[\"summary\"].values)\n",
    "titles = list(df[\"title\"].values)\n",
    "dates = list(df[\"published_date\"].values)\n",
    "links = list(df[\"link\"].values)\n",
    "\n",
    "all_docs = []\n",
    "for i, title, text, date, link in zip(ids, titles, texts, dates, links):\n",
    "    all_docs.append(Document(id=i, \n",
    "                             content=text, \n",
    "                             meta={\"article_title\": title or \"\", \"article_link\": link, \"article_date\": date}))\n",
    "\n",
    "\n",
    "# all_docs = [\n",
    "#     {\n",
    "#         'id':i, \n",
    "#         'content': c,\n",
    "#         'meta': {'article_link': l, 'article_title': t, 'article_date': d}\n",
    "#     } for i, c, t, d, l in zip(df['article_id'], df['summary'], df['title'], df['published_date'], df['link'])\n",
    "# ]"
   ]
  },
  {
   "cell_type": "code",
   "execution_count": 6,
   "id": "47988c05-af5b-4ebd-83ab-d265b6db8e79",
   "metadata": {},
   "outputs": [
    {
     "data": {
      "text/plain": [
       "2500"
      ]
     },
     "execution_count": 6,
     "metadata": {},
     "output_type": "execute_result"
    }
   ],
   "source": [
    "len(all_docs)"
   ]
  },
  {
   "cell_type": "code",
   "execution_count": null,
   "id": "d3152e8d",
   "metadata": {},
   "outputs": [],
   "source": [
    "# PDFS_PATH=\"/data/kg_pdfs_test/\"\n",
    "# all_docs = convert_files_to_docs(dir_path=PDFS_PATH)"
   ]
  },
  {
   "cell_type": "code",
   "execution_count": 7,
   "id": "f75b92bc-0b0d-4e56-b277-786b62c5237b",
   "metadata": {},
   "outputs": [
    {
     "data": {
      "text/plain": [
       "'1.12.1+cu113'"
      ]
     },
     "execution_count": 7,
     "metadata": {},
     "output_type": "execute_result"
    }
   ],
   "source": [
    "torch.__version__"
   ]
  },
  {
   "cell_type": "code",
   "execution_count": 8,
   "id": "53a1dc96-31bb-472d-b9e3-d199028cdce1",
   "metadata": {},
   "outputs": [
    {
     "data": {
      "text/plain": [
       "'11.3'"
      ]
     },
     "execution_count": 8,
     "metadata": {},
     "output_type": "execute_result"
    }
   ],
   "source": [
    "torch.version.cuda"
   ]
  },
  {
   "cell_type": "markdown",
   "id": "018a0a99",
   "metadata": {},
   "source": [
    "## Preprocessing "
   ]
  },
  {
   "cell_type": "code",
   "execution_count": 7,
   "id": "da274263",
   "metadata": {},
   "outputs": [
    {
     "data": {
      "application/vnd.jupyter.widget-view+json": {
       "model_id": "f91a3d32bd7c439da0c6add7835c4764",
       "version_major": 2,
       "version_minor": 0
      },
      "text/plain": [
       "Preprocessing:   0%|          | 0/2500 [00:00<?, ?docs/s]"
      ]
     },
     "metadata": {},
     "output_type": "display_data"
    },
    {
     "name": "stdout",
     "output_type": "stream",
     "text": [
      "n_files_input: 2500\n",
      "n_docs_output: 2507\n"
     ]
    }
   ],
   "source": [
    "preprocessor = PreProcessor(\n",
    "    clean_empty_lines=True,\n",
    "    clean_whitespace=True,\n",
    "    clean_header_footer=False,\n",
    "    split_by=\"word\",\n",
    "    split_length=128,  # smaller splits works better? \n",
    "    split_respect_sentence_boundary=True,\n",
    ")\n",
    "\n",
    "all_docs_process = preprocessor.process(all_docs)\n",
    "\n",
    "print(f\"n_files_input: {len(all_docs)}\\nn_docs_output: {len(all_docs_process)}\")"
   ]
  },
  {
   "cell_type": "code",
   "execution_count": 8,
   "id": "3a2e9423",
   "metadata": {},
   "outputs": [
    {
     "data": {
      "text/plain": [
       "[<Document: {'content': \"Bitcoin has a maximum supply of 21 million. However, that doesn't tell the whole story. As time goes on, it becomes increasingly difficult to acquire bitcoin due to the asset's economics. Here is a full breakdown of how bitcoin works and exactly why it has a limited supply.Read: Looking To Diversify In A Bear Market? Consider These 6 Alternative InvestmentsBitcoin Tokenomics: Proof of Work, Mining and Halving CyclesTokenomics, as one can imagine, refers to the economics of a token. Similar to how fiat currencies, like the dollar, are issued by governments and regulated through monetary policy, tokenomics refers to the rules and functions revolving around cryptocurrency.\", 'content_type': 'text', 'score': None, 'meta': {'article_title': 'How Many Bitcoins Are There?', 'article_link': 'https://www.gobankingrates.com/investing/crypto/how-many-bitcoins-are-there/', 'article_date': '04-10-2022 21:44', '_split_id': 0}, 'embedding': None, 'id': '7afbcf9ee51ca07473ee35af09165d3b'}>,\n",
       " <Document: {'content': \"Conceived in\\xa02008\\xa0and launched in\\xa02009, bitcoin is the world's first and largest cryptocurrency.\\xa0 Back in 2010, a single bitcoin could be purchased for roughly $0.0011 Australian dollars. Today, its value is more than 24,000,000% higher—but it hasn't all been gains. In the years since, we've seen prices peak as high as\\xa0almost US$69,000, but we've also seen prices fall by as much as $US22,000\\xa0in as little as three weeks. Here's a brief history of bitcoin's biggest price movements and the milestones along the path, from thousandths of a cent to tens of thousands of US dollars.\", 'content_type': 'text', 'score': None, 'meta': {'article_title': 'Bitcoin 2008–2022: From Bouncing Baby To Troubled Teenager', 'article_link': 'https://www.forbes.com/advisor/au/investing/bitcoin-2008-2022-from-bouncing-baby-to-troubled-teenager/', 'article_date': '03-10-2022 15:45', '_split_id': 0}, 'embedding': None, 'id': 'a25cc76071b03efed19fe3535373d9a9'}>,\n",
       " <Document: {'content': 'Bear markets are for building out capacity on the layer-2 Lightning Network. Despite macroeconomic headwinds and sluggish price action, the Lightning Network, the layer-2 payments solution fo Bitcoin (BTC), continues to flourish.The Bitcoin Lightning Network reached a milestone capacity of 5,000 BTC ($96 million). In effect, more and more Bitcoin is being introduced to Lightning Network payment channels worldwide, as Bitcoiners continue to support the growth of the network.Bitcoin Lightning Network capacity.', 'content_type': 'text', 'score': None, 'meta': {'article_title': 'Bitcoin Lightning Network capacity strikes 5,000 BTC', 'article_link': 'https://cointelegraph.com/news/bitcoin-lightning-network-capacity-strikes-5-000-btc', 'article_date': '03-10-2022 12:09', '_split_id': 0}, 'embedding': None, 'id': '978eb271f962c7a61c006225a6f02fea'}>]"
      ]
     },
     "execution_count": 8,
     "metadata": {},
     "output_type": "execute_result"
    }
   ],
   "source": [
    "all_docs_process[2:5]"
   ]
  },
  {
   "cell_type": "code",
   "execution_count": null,
   "id": "35b2bab2",
   "metadata": {},
   "outputs": [],
   "source": []
  },
  {
   "cell_type": "markdown",
   "id": "56f12716",
   "metadata": {},
   "source": [
    "## Document Store "
   ]
  },
  {
   "cell_type": "code",
   "execution_count": 9,
   "id": "a294348b",
   "metadata": {},
   "outputs": [],
   "source": [
    "# In-Memory Document Store\n",
    "# document_store = InMemoryDocumentStore()\n",
    "\n",
    "\n",
    "# The FAISSDocumentStore uses a SQL(SQLite in-memory be default) database under-the-hood to store the document text and other meta data. \n",
    "# The vector embeddings of the text are indexed on a FAISS Index that later is queried for searching answers.\n",
    "document_store = FAISSDocumentStore(sql_url = \"sqlite:///faiss_document_store.db\", \n",
    "                                    faiss_index_factory_str=\"Flat\", similarity=\"dot_product\", return_embedding=True)"
   ]
  },
  {
   "cell_type": "code",
   "execution_count": 10,
   "id": "bdbd9ad4",
   "metadata": {},
   "outputs": [
    {
     "data": {
      "application/vnd.jupyter.widget-view+json": {
       "model_id": "b3d36145b8c04cd584e8efb9f4ed7ed8",
       "version_major": 2,
       "version_minor": 0
      },
      "text/plain": [
       "Writing Documents:   0%|          | 0/2507 [00:00<?, ?it/s]"
      ]
     },
     "metadata": {},
     "output_type": "display_data"
    }
   ],
   "source": [
    "document_store.write_documents(all_docs_process)"
   ]
  },
  {
   "cell_type": "code",
   "execution_count": 11,
   "id": "665ddb6b",
   "metadata": {},
   "outputs": [
    {
     "data": {
      "text/plain": [
       "1938"
      ]
     },
     "execution_count": 11,
     "metadata": {},
     "output_type": "execute_result"
    }
   ],
   "source": [
    "document_store.get_document_count()"
   ]
  },
  {
   "cell_type": "code",
   "execution_count": 12,
   "id": "13557f3a-fec7-4016-92df-f15702574eea",
   "metadata": {},
   "outputs": [
    {
     "data": {
      "text/plain": [
       "<Document: {'content': \"Paxful, the global peer-to-peer fintech platform, has been announced as one of the lead sponsors for the first annual Africa Bitcoin Conference (ABC), taking place on 5 – 7 December, 2022 in Accra, Ghana. \\xa0 The conference, titled; 'Accelerate Bitcoin Adoption in Africa,' aims to foster collaboration among thousands of Bitcoin developers, technologists, investors, advocates, and educators working in the African bitcoin ecosystem. Additionally, the event hopes to strengthen knowledge and resource sharing and form connections between African influencers and those working around the globe.\", 'content_type': 'text', 'score': None, 'meta': {'article_title': 'Paxful Becomes Africa Bitcoin Conference Major Sponsor', 'article_link': 'https://www.thisdaylive.com/index.php/2022/10/07/paxful-becomes-africa-bitcoin-conference-major-sponsor/', 'article_date': '07-10-2022 00:00', '_split_id': '0'}, 'embedding': None, 'id': '1588e1a5ec55e8a167ec8e9550809461'}>"
      ]
     },
     "execution_count": 12,
     "metadata": {},
     "output_type": "execute_result"
    }
   ],
   "source": [
    "document_store.get_all_documents()[55]"
   ]
  },
  {
   "cell_type": "markdown",
   "id": "35730106-99b8-4b70-b6e1-1f7107d8ec0c",
   "metadata": {},
   "source": [
    "## Retriever\n"
   ]
  },
  {
   "cell_type": "code",
   "execution_count": null,
   "id": "32dc564a-ef44-4b1e-8ced-63f2e67723c1",
   "metadata": {},
   "outputs": [],
   "source": [
    "# Initialize DPR Retriever to encode documents, encode question and query documents\n",
    "\n",
    "dpr_retriever = DensePassageRetriever(\n",
    "    document_store=document_store,\n",
    "    query_embedding_model=\"facebook/dpr-question_encoder-single-nq-base\",\n",
    "    passage_embedding_model=\"facebook/dpr-ctx_encoder-single-nq-base\",\n",
    "    use_gpu=False,\n",
    "    embed_title=True,\n",
    ")"
   ]
  },
  {
   "cell_type": "code",
   "execution_count": 14,
   "id": "8f7ec859",
   "metadata": {},
   "outputs": [
    {
     "name": "stderr",
     "output_type": "stream",
     "text": [
      "INFO:haystack.document_stores.faiss:Updating embeddings for 1938 docs...\n"
     ]
    },
    {
     "data": {
      "application/vnd.jupyter.widget-view+json": {
       "model_id": "34eb6e69409a4cf6b3eea2e5cb75c6f5",
       "version_major": 2,
       "version_minor": 0
      },
      "text/plain": [
       "Updating Embedding:   0%|          | 0/1938 [00:00<?, ? docs/s]"
      ]
     },
     "metadata": {},
     "output_type": "display_data"
    },
    {
     "data": {
      "application/vnd.jupyter.widget-view+json": {
       "model_id": "",
       "version_major": 2,
       "version_minor": 0
      },
      "text/plain": [
       "Create embeddings:   0%|          | 0/1952 [00:00<?, ? Docs/s]"
      ]
     },
     "metadata": {},
     "output_type": "display_data"
    }
   ],
   "source": [
    "# Add / update documents embeddings to index\n",
    "\n",
    "# document_store.update_embeddings(retriever=dpr_retriever)"
   ]
  },
  {
   "cell_type": "markdown",
   "id": "9428d248-6693-4c56-9742-3aa056745024",
   "metadata": {
    "tags": []
   },
   "source": [
    "# CHECKPOINT "
   ]
  },
  {
   "cell_type": "code",
   "execution_count": 3,
   "id": "90109588",
   "metadata": {},
   "outputs": [],
   "source": [
    "# document_store.save(\"my_faiss_index.faiss\")\n",
    "\n",
    "document_store = FAISSDocumentStore.load(\"my_faiss_index.faiss\",\"my_faiss_index.json\")"
   ]
  },
  {
   "cell_type": "markdown",
   "id": "69c81719",
   "metadata": {},
   "source": [
    "## Retriever\n"
   ]
  },
  {
   "cell_type": "code",
   "execution_count": 4,
   "id": "1c36e927",
   "metadata": {},
   "outputs": [
    {
     "name": "stderr",
     "output_type": "stream",
     "text": [
      "INFO:haystack.modeling.utils:Using devices: CPU - Number of GPUs: 0\n",
      "INFO:haystack.modeling.model.language_model:Auto-detected model language: english\n",
      "The tokenizer class you load from this checkpoint is not the same type as the class this function is called from. It may result in unexpected tokenization. \n",
      "The tokenizer class you load from this checkpoint is 'DPRQuestionEncoderTokenizer'. \n",
      "The class this function is called from is 'DPRContextEncoderTokenizerFast'.\n",
      "INFO:haystack.modeling.model.language_model:Auto-detected model language: english\n"
     ]
    }
   ],
   "source": [
    "# Initialize DPR Retriever to encode documents, encode question and query documents\n",
    "\n",
    "dpr_retriever = DensePassageRetriever(\n",
    "    document_store=document_store,\n",
    "    query_embedding_model=\"facebook/dpr-question_encoder-single-nq-base\",\n",
    "    passage_embedding_model=\"facebook/dpr-ctx_encoder-single-nq-base\",\n",
    "    use_gpu=False,\n",
    "    embed_title=True,\n",
    ")"
   ]
  },
  {
   "cell_type": "code",
   "execution_count": 6,
   "id": "7530bdca",
   "metadata": {},
   "outputs": [
    {
     "data": {
      "text/plain": [
       "<Document: {'content': \"Paxful, the global peer-to-peer fintech platform, has been announced as one of the lead sponsors for the first annual Africa Bitcoin Conference (ABC), taking place on 5 – 7 December, 2022 in Accra, Ghana. \\xa0 The conference, titled; 'Accelerate Bitcoin Adoption in Africa,' aims to foster collaboration among thousands of Bitcoin developers, technologists, investors, advocates, and educators working in the African bitcoin ecosystem. Additionally, the event hopes to strengthen knowledge and resource sharing and form connections between African influencers and those working around the globe.\", 'content_type': 'text', 'score': None, 'meta': {'vector_id': '55', 'article_title': 'Paxful Becomes Africa Bitcoin Conference Major Sponsor', 'article_link': 'https://www.thisdaylive.com/index.php/2022/10/07/paxful-becomes-africa-bitcoin-conference-major-sponsor/', 'article_date': '07-10-2022 00:00', '_split_id': '0'}, 'embedding': '<embedding of shape (768,)>', 'id': '1588e1a5ec55e8a167ec8e9550809461'}>"
      ]
     },
     "execution_count": 6,
     "metadata": {},
     "output_type": "execute_result"
    }
   ],
   "source": [
    "document_store.get_all_documents()[55] #.embedding.shape"
   ]
  },
  {
   "cell_type": "code",
   "execution_count": null,
   "id": "417ddbdf-0092-435e-be13-aa3dc68e687f",
   "metadata": {},
   "outputs": [],
   "source": []
  },
  {
   "cell_type": "raw",
   "id": "4827cc4f",
   "metadata": {},
   "source": [
    "# Sentence BERT embeddings retriever\n",
    "SENT_TRANS_MODEL = \"sentence-transformers/multi-qa-mpnet-base-dot-v1\"\n",
    "\n",
    "embedd_ret = EmbeddingRetriever(\n",
    "    document_store=document_store,\n",
    "    embedding_model=SENT_TRANS_MODEL,\n",
    "    model_format=\"sentence_transformers\",\n",
    ")\n",
    "\n",
    "# Important:\n",
    "# Now that we initialized the Retriever, we need to call update_embeddings() to iterate over all previously indexed documents \n",
    "# and update their embedding representation.\n",
    "# While this can be a time consuming operation (depending on the corpus size), it only needs to be done once.\n",
    "# At query time, we only need to embed the query and compare it to the existing document embeddings, which is very fast.\n",
    "\n",
    "document_store.update_embeddings(embedd_ret)"
   ]
  },
  {
   "cell_type": "code",
   "execution_count": 5,
   "id": "cfbe9fd4",
   "metadata": {},
   "outputs": [],
   "source": [
    "query = \"When was bitcoin created?\"\n",
    "query1 = \"How to use the lightining network?\"\n",
    "query2 = \"What is bitcoin mining?\""
   ]
  },
  {
   "cell_type": "code",
   "execution_count": 6,
   "id": "2e4df848",
   "metadata": {
    "tags": []
   },
   "outputs": [
    {
     "name": "stdout",
     "output_type": "stream",
     "text": [
      "[('Bitcoin has come a long way since its inception in 2008, becoming the most '\n",
      "  'popular and valued cryptocurrency of all time. But with time, its '\n",
      "  'inefficiencies were also exposed -- lack of consumer protection leading to '\n",
      "  'money laundering and black market trading. Perhaps the most concerning '\n",
      "  'issue is the huge impact its production has on the environment.\\n'\n",
      "  '\\n'\n",
      "  'Mining Bitcoins could be worse than extracting gold and is as bad as '\n",
      "  \"industries related to cattle farming and crude oil. At least that's what \"\n",
      "  'the latest study published in the journal Scientific Reports suggests.',\n",
      "  {'_split_id': '0',\n",
      "   'article_date': '04-10-2022 05:53',\n",
      "   'article_link': 'https://www.gizbot.com/amphtml/internet/features/bitcoin-mining-might-be-as-grave-as-oil-drilling-for-earth-082900.html',\n",
      "   'article_title': 'Bitcoin Mining Might Be As Grave As Oil Drilling For '\n",
      "                    'Earth',\n",
      "   'vector_id': '516'}),\n",
      " ('Bitcoin mining is the process used to generate new coins and verify new '\n",
      "  'transactions. The process involves vast, decentralized networks of '\n",
      "  'computers …\\n'\n",
      "  'Read Full Story',\n",
      "  {'_split_id': '0',\n",
      "   'article_date': '06-10-2022 03:31',\n",
      "   'article_link': 'https://forextv.com/bitcoin-news/how-bitcoin-mining-can-help-power-companies-optimize-generation-assets/',\n",
      "   'article_title': 'How Bitcoin Mining Can Help Power Companies Optimize '\n",
      "                    'Generation Assets',\n",
      "   'vector_id': '1628'}),\n",
      " ('According to a study that was published in Scientific Reports, the '\n",
      "  'environmental costs of mining the digital currency Bitcoin are more '\n",
      "  'equivalent to the climatic harm caused by raising beef than they are to the '\n",
      "  'costs of mining gold when expressed as a percentage of the market price.\\n'\n",
      "  'According to the authors, Bitcoin should be compared to considerably more '\n",
      "  'energy-intensive goods like meat, natural gas, and crude oil rather than '\n",
      "  \"being likened to 'digital gold.'Bitcoin had a market cap of around 960 \"\n",
      "  'billion US dollars in December 2021 and accounted for almost 41% of all '\n",
      "  'cryptocurrencies worldwide.',\n",
      "  {'_split_id': '0',\n",
      "   'article_date': '03-10-2022 13:30',\n",
      "   'article_link': 'https://www.popularmechanics.co.za/science/bitcoin-as-dangerous-to-the-environment-as-production-of-beef/',\n",
      "   'article_title': 'Bitcoin as dangerous to the environment as production of '\n",
      "                    'beef',\n",
      "   'vector_id': '1447'}),\n",
      " (\"Bitcoin mining's climate impact is comparable to farming cattle or burning \"\n",
      "  'gasoline when taken as a proportion of market value, according to '\n",
      "  'researchers at the University of New Mexico in Albuquerque. Cryptocurrency '\n",
      "  'mining is energy intensive because it requires highly specialized computers '\n",
      "  '- and most of the electricity it consumes is generated by burning '\n",
      "  'planet-warming fossil fuels. The climate-related economic damage caused by '\n",
      "  'mining the popular digital token, bitcoin, exceeded its market value on 6.',\n",
      "  {'_split_id': '0',\n",
      "   'article_date': '08-10-2022 04:00',\n",
      "   'article_link': 'https://www.iol.co.za/business-report/markets/commodities/bitcoin-could-be-as-bad-for-the-planet-as-beef-049eff15-f992-4e94-a4d6-76f4599c165c',\n",
      "   'article_title': 'Bitcoin could be as bad for the planet as beef',\n",
      "   'vector_id': '781'}),\n",
      " (\"Bitcoin mining's climate impact is comparable to farming cattle or burning \"\n",
      "  'gasoline when taken as a proportion of market value, according to '\n",
      "  'researchers at the University of New Mexico in Albuquerque.\\n'\n",
      "  'Cryptocurrency mining is energy intensive because it requires highly '\n",
      "  'specialized computers - and most of the electricity it consumes is '\n",
      "  'generated by burning planet-warming fossil fuels. The climate-related '\n",
      "  'economic damage caused by mining the popular digital token, bitcoin, '\n",
      "  'exceeded its market value on 6.',\n",
      "  {'_split_id': '0',\n",
      "   'article_date': '05-10-2022 13:25',\n",
      "   'article_link': 'https://syndication.washingtonpost.com/nss/stories/eba13cde-44b0-11ed-be17-89cbe6b8c0a5',\n",
      "   'article_title': 'Bitcoin could be as bad for the planet as beef',\n",
      "   'vector_id': '0'})]\n"
     ]
    }
   ],
   "source": [
    "dpr_ls = [(doc.content, doc.meta) for doc in dpr_retriever.retrieve(query2, top_k=5)]\n",
    "\n",
    "pprint(dpr_ls)"
   ]
  },
  {
   "cell_type": "code",
   "execution_count": null,
   "id": "b46b03cf",
   "metadata": {},
   "outputs": [],
   "source": []
  },
  {
   "cell_type": "markdown",
   "id": "55ae598f",
   "metadata": {},
   "source": [
    "# Generator"
   ]
  },
  {
   "cell_type": "markdown",
   "id": "20b6f038",
   "metadata": {
    "tags": []
   },
   "source": [
    "## Retrieval Augmented Generator"
   ]
  },
  {
   "cell_type": "code",
   "execution_count": null,
   "id": "5ec90833",
   "metadata": {},
   "outputs": [],
   "source": [
    "# Initialize RAG Generator\n",
    "\n",
    "rag_generator = RAGenerator(\n",
    "    model_name_or_path=\"facebook/rag-token-nq\",\n",
    "    use_gpu=True,\n",
    "    top_k=1,\n",
    "    max_length=100,\n",
    "    min_length=2,\n",
    "    embed_title=True,\n",
    "    num_beams=2,\n",
    ")"
   ]
  },
  {
   "cell_type": "code",
   "execution_count": null,
   "id": "6ff2c85e",
   "metadata": {},
   "outputs": [],
   "source": [
    "Q = query2\n",
    "\n",
    "ans = rag_generator.predict(Q, \n",
    "                            documents=dpr_retriever.retrieve(Q, top_k=5), \n",
    "                            top_k=3)\n",
    "\n",
    "# pprint(ans.get('answers'))\n",
    "pprint(ans)"
   ]
  },
  {
   "cell_type": "code",
   "execution_count": null,
   "id": "447f5167",
   "metadata": {},
   "outputs": [],
   "source": []
  },
  {
   "cell_type": "markdown",
   "id": "dcb5fba8",
   "metadata": {},
   "source": [
    "## T5-large"
   ]
  },
  {
   "cell_type": "code",
   "execution_count": 7,
   "id": "24d15029",
   "metadata": {},
   "outputs": [],
   "source": [
    "class _T5Converter:\n",
    "    \"\"\"\n",
    "    A sequence-to-sequence model input converter (https://huggingface.co/yjernite/bart_eli5) based on the BART architecture fine-tuned on ELI5 dataset (https://arxiv.org/abs/1907.09190).\n",
    "    The converter takes documents and a query as input and formats them into a single sequence that a seq2seq model can use it as input for its generation step.\n",
    "    This includes model-specific prefixes, separation tokens and the actual conversion into tensors. \n",
    "    For more details refer to Yacine Jernite's excellent LFQA contributions at https://yjernite.github.io/lfqa.html\n",
    "    \"\"\"\n",
    "    def __call__(self, tokenizer: PreTrainedTokenizer, query: str, documents: List[Document], top_k: Optional[int] = None) -> BatchEncoding:\n",
    "        conditioned_doc = \"<P> \" + \" <P> \".join([d.content for d in documents])\n",
    "        # print(conditioned_doc)\n",
    "\n",
    "        # concatenate question and support document into BART input\n",
    "        query_and_docs = \"question: {} context: {}\".format(query, conditioned_doc)\n",
    "        max_source_length = 512\n",
    "\n",
    "        # return tokenizer([(query_and_docs, \"A\")], truncation=True, padding=True, max_length=max_source_length, return_tensors=\"pt\")\n",
    "        return tokenizer([query_and_docs], truncation=True, padding=True, max_length=max_source_length, return_tensors=\"pt\")"
   ]
  },
  {
   "cell_type": "code",
   "execution_count": 8,
   "id": "e3953ea6",
   "metadata": {},
   "outputs": [
    {
     "name": "stderr",
     "output_type": "stream",
     "text": [
      "INFO:haystack.modeling.utils:Using devices: CUDA:0 - Number of GPUs: 1\n",
      "/home/jerm-xps/venv_qna/lib/python3.9/site-packages/transformers/models/t5/tokenization_t5_fast.py:156: FutureWarning: This tokenizer was incorrectly instantiated with a model max length of 512 which will be corrected in Transformers v5.\n",
      "For now, this behavior is kept to avoid breaking backwards compatibility when padding/encoding with `truncation is True`.\n",
      "- Be aware that you SHOULD NOT rely on t5-small automatically truncating your input to 512 when padding/encoding.\n",
      "- If you want to encode/pad to sequences longer than 512 you can either instantiate this tokenizer with `model_max_length` or pass `max_length` when encoding/padding.\n",
      "- To avoid this warning, please instantiate this tokenizer with `model_max_length` set to your preferred value.\n",
      "  warnings.warn(\n"
     ]
    }
   ],
   "source": [
    "# /data/t5-large; google/t5-large-lm-adapt\n",
    "\n",
    "t5_generator = Seq2SeqGenerator(\n",
    "    model_name_or_path=\"t5-small\",\n",
    "    input_converter=_T5Converter(),\n",
    "    use_gpu=True,\n",
    "    top_k=1,\n",
    "    max_length=100,\n",
    "    min_length=2,\n",
    "    num_beams=2,\n",
    ")"
   ]
  },
  {
   "cell_type": "code",
   "execution_count": 9,
   "id": "44ed5f12",
   "metadata": {},
   "outputs": [
    {
     "name": "stderr",
     "output_type": "stream",
     "text": [
      "WARNING:haystack.nodes.answer_generator.transformers:top_k value should not be greater than num_beams, hence setting it to 2\n"
     ]
    },
    {
     "name": "stdout",
     "output_type": "stream",
     "text": [
      "{'answers': [<Answer {'answer': 'the process used to generate new coins and verify new transactions', 'type': 'generative', 'score': None, 'context': None, 'offsets_in_document': None, 'offsets_in_context': None, 'document_id': None, 'meta': {'doc_ids': ['5323100ade27d773eec3ebcc4b65521', 'da3d945c6fa1283e0701d984dce654ad', 'c5cc43a36291e5923c46b7e83780336a', '7411498bc20c0fc50fd5550b0282acf5', '10133cab79a62fdb758453c62bd05d5b'], 'doc_scores': [0.6976991824052634, 0.6934953021726374, 0.6927373812673804, 0.6916624142932156, 0.6916624142932156], 'content': [\"Bitcoin has come a long way since its inception in 2008, becoming the most popular and valued cryptocurrency of all time. But with time, its inefficiencies were also exposed -- lack of consumer protection leading to money laundering and black market trading. Perhaps the most concerning issue is the huge impact its production has on the environment.\\n\\nMining Bitcoins could be worse than extracting gold and is as bad as industries related to cattle farming and crude oil. At least that's what the latest study published in the journal Scientific Reports suggests.\", 'Bitcoin mining is the process used to generate new coins and verify new transactions. The process involves vast, decentralized networks of computers …\\nRead Full Story', \"According to a study that was published in Scientific Reports, the environmental costs of mining the digital currency Bitcoin are more equivalent to the climatic harm caused by raising beef than they are to the costs of mining gold when expressed as a percentage of the market price.\\nAccording to the authors, Bitcoin should be compared to considerably more energy-intensive goods like meat, natural gas, and crude oil rather than being likened to 'digital gold.'Bitcoin had a market cap of around 960 billion US dollars in December 2021 and accounted for almost 41% of all cryptocurrencies worldwide.\", \"Bitcoin mining's climate impact is comparable to farming cattle or burning gasoline when taken as a proportion of market value, according to researchers at the University of New Mexico in Albuquerque. Cryptocurrency mining is energy intensive because it requires highly specialized computers - and most of the electricity it consumes is generated by burning planet-warming fossil fuels. The climate-related economic damage caused by mining the popular digital token, bitcoin, exceeded its market value on 6.\", \"Bitcoin mining's climate impact is comparable to farming cattle or burning gasoline when taken as a proportion of market value, according to researchers at the University of New Mexico in Albuquerque.\\nCryptocurrency mining is energy intensive because it requires highly specialized computers - and most of the electricity it consumes is generated by burning planet-warming fossil fuels. The climate-related economic damage caused by mining the popular digital token, bitcoin, exceeded its market value on 6.\"], 'titles': ['', '', '', '', '']}}>,\n",
      "             <Answer {'answer': 'process used to generate new coins and verify new transactions', 'type': 'generative', 'score': None, 'context': None, 'offsets_in_document': None, 'offsets_in_context': None, 'document_id': None, 'meta': {'doc_ids': ['5323100ade27d773eec3ebcc4b65521', 'da3d945c6fa1283e0701d984dce654ad', 'c5cc43a36291e5923c46b7e83780336a', '7411498bc20c0fc50fd5550b0282acf5', '10133cab79a62fdb758453c62bd05d5b'], 'doc_scores': [0.6976991824052634, 0.6934953021726374, 0.6927373812673804, 0.6916624142932156, 0.6916624142932156], 'content': [\"Bitcoin has come a long way since its inception in 2008, becoming the most popular and valued cryptocurrency of all time. But with time, its inefficiencies were also exposed -- lack of consumer protection leading to money laundering and black market trading. Perhaps the most concerning issue is the huge impact its production has on the environment.\\n\\nMining Bitcoins could be worse than extracting gold and is as bad as industries related to cattle farming and crude oil. At least that's what the latest study published in the journal Scientific Reports suggests.\", 'Bitcoin mining is the process used to generate new coins and verify new transactions. The process involves vast, decentralized networks of computers …\\nRead Full Story', \"According to a study that was published in Scientific Reports, the environmental costs of mining the digital currency Bitcoin are more equivalent to the climatic harm caused by raising beef than they are to the costs of mining gold when expressed as a percentage of the market price.\\nAccording to the authors, Bitcoin should be compared to considerably more energy-intensive goods like meat, natural gas, and crude oil rather than being likened to 'digital gold.'Bitcoin had a market cap of around 960 billion US dollars in December 2021 and accounted for almost 41% of all cryptocurrencies worldwide.\", \"Bitcoin mining's climate impact is comparable to farming cattle or burning gasoline when taken as a proportion of market value, according to researchers at the University of New Mexico in Albuquerque. Cryptocurrency mining is energy intensive because it requires highly specialized computers - and most of the electricity it consumes is generated by burning planet-warming fossil fuels. The climate-related economic damage caused by mining the popular digital token, bitcoin, exceeded its market value on 6.\", \"Bitcoin mining's climate impact is comparable to farming cattle or burning gasoline when taken as a proportion of market value, according to researchers at the University of New Mexico in Albuquerque.\\nCryptocurrency mining is energy intensive because it requires highly specialized computers - and most of the electricity it consumes is generated by burning planet-warming fossil fuels. The climate-related economic damage caused by mining the popular digital token, bitcoin, exceeded its market value on 6.\"], 'titles': ['', '', '', '', '']}}>],\n",
      " 'query': 'What is bitcoin mining?'}\n"
     ]
    }
   ],
   "source": [
    "Q = query2\n",
    "\n",
    "ans = t5_generator.predict(Q, \n",
    "                           documents=dpr_retriever.retrieve(Q, top_k=5), \n",
    "                           top_k=3)\n",
    "\n",
    "# pprint(ans.get('answers'))\n",
    "pprint(ans)"
   ]
  },
  {
   "cell_type": "code",
   "execution_count": null,
   "id": "2ed84fd8",
   "metadata": {},
   "outputs": [],
   "source": []
  },
  {
   "cell_type": "markdown",
   "id": "6a95144f",
   "metadata": {},
   "source": [
    "## Pipeline"
   ]
  },
  {
   "cell_type": "code",
   "execution_count": 23,
   "id": "87e63cf6",
   "metadata": {},
   "outputs": [],
   "source": [
    "QUESTIONS = [\n",
    "    \"When was bitcoin created?\",\n",
    "    \"How do I use the lightining network?\",\n",
    "    \"What is bitcoin mining?\",\n",
    "    \"What is the difference between bitcoin and ethereum?\",\n",
    "    \"How to buy bitcoin?\",\n",
    "    \"What are bitcoin whales?\",\n",
    "    \"What was bitcoin's price in 2020?\",\n",
    "    \"How much was bitcoin's price in 2021?\",\n",
    "    \"What is the market cap of btc?\"\n",
    "]"
   ]
  },
  {
   "cell_type": "code",
   "execution_count": 24,
   "id": "9bf929df",
   "metadata": {},
   "outputs": [
    {
     "name": "stdout",
     "output_type": "stream",
     "text": [
      "\n",
      "Query: When was bitcoin created?\n",
      "Answers:\n",
      "[   <Answer {'answer': '2009', 'type': 'generative', 'score': None, 'context': None, 'offsets_in_document': None, 'offsets_in_context': None, 'document_id': None, 'meta': {'doc_ids': ['de2e2bc7d6532714d5ad2334942149c9', '3107a00846fef491728266abbabb5c59', 'a25cc76071b03efed19fe3535373d9a9', '49d82e74e302615bdbb8ee19a9b35291', 'edd3c9c1fd287eb22d2a730539d82d42'], 'doc_scores': [0.6950108059107912, 0.6878239914940308, 0.6878239914940308, 0.6878239914940308, 0.6874300817937259], 'content': ['Released on April 31st, 2009, Bitcoin is a cryptocurrency (a.k.a. digital money) that allows users to facilitate pseudonymous transactions over the internet. Unlike Fiat money, Bitcoin is decentralized, which means that it is not regulated by a central governing body. Bitcoin users can, therefore, facilitate peer-to-peer cash transactions without the approval of any financial institution.\\nGamers enjoy numerous benefits by using Bitcoin. For instance, this cryptocurrency allows you to enjoy minimum transaction fees when transacting at your favorite bookie.', \"Conceived in\\xa02008\\xa0and launched in\\xa02009, bitcoin is the world's first and largest cryptocurrency.\\xa0Back in 2010, a single bitcoin could be purchased for roughly $0.0011 Australian dollars. Today, its value is more than 24,000,000% higher—but it hasn't all been gains.In the years since, we've seen prices peak as high as\\xa0almost US$69,000, but we've also seen prices fall by as much as $US22,000\\xa0in as little as three weeks.Here's a brief history of bitcoin's biggest price movements and the milestones along the path, from thousandths of a cent to tens of thousands of US dollars.\", \"Conceived in\\xa02008\\xa0and launched in\\xa02009, bitcoin is the world's first and largest cryptocurrency.\\xa0 Back in 2010, a single bitcoin could be purchased for roughly $0.0011 Australian dollars. Today, its value is more than 24,000,000% higher—but it hasn't all been gains. In the years since, we've seen prices peak as high as\\xa0almost US$69,000, but we've also seen prices fall by as much as $US22,000\\xa0in as little as three weeks. Here's a brief history of bitcoin's biggest price movements and the milestones along the path, from thousandths of a cent to tens of thousands of US dollars.\", \"Conceived in\\xa02008\\xa0and launched in\\xa02009, bitcoin is the world's first and largest cryptocurrency.\\nBack in 2010, a single bitcoin could be purchased for roughly $0.0011 Australian dollars. Today, its value is more than 24,000,000% higher—but it hasn't all been gains.\\nIn the years since, we've seen prices peak as high as\\xa0almost US$69,000, but we've also seen prices fall by as much as $US22,000\\xa0in as little as three weeks.\\nHere's a brief history of bitcoin's biggest price movements and the milestones along the path, from thousandths of a cent to tens of thousands of US dollars.\", 'Altcoins are cryptocurrencies other than bitcoin. Bitcoin was known to be invented in 2009 by the legendary Satoshi Nakamoto. It was the first time when people of the world saw and experience digital currency systems that has no physical presence. After that, followed by this model numerous other cryptocurrencies have been created. All of them are known as bitcoin excluding the first crypto bitcoin.\\nHowever, another cryptocurrency known as ether is also sometimes excluded from this list of an altcoin.'], 'titles': ['', '', '', '', '']}}>]\n",
      "\n",
      "Query: How do I use the lightining network?\n",
      "Answers:\n",
      "[   <Answer {'answer': 'a scaling solution', 'type': 'generative', 'score': None, 'context': None, 'offsets_in_document': None, 'offsets_in_context': None, 'document_id': None, 'meta': {'doc_ids': ['27cd0beeb996647097d0f2a71f42998f', '60f8ff7cde10b42596184c40a9768db9', 'a30d17036c33104210ea7067327f203b', '6826678aa4c1cf452e73758d11b8b351', '6a8f054c3c65c8accb241c3510b824fc'], 'doc_scores': [0.6671435580780988, 0.65761142092541, 0.6571170664760231, 0.6560770692717549, 0.6555889638403793], 'content': ['Lighting Network is a scaling solution that allows transactions on the Bitcoin network to be faster and cheaper. With a larger Lightning Network capacity, more Bitcoin can be tran …\\nRead Full Story', \"Source: Neutronpay\\n\\nNeutronpay, a Vancouver, Canada and Ho Chi Minh City, Vietnam based startup that enables consumers and businesses to send and receive payments on Bitcoin's Lightning Network raised USD$2.25M in Seed funding on June 1, 2022.\\n\\nThe Lightning Network is a 'layer 2' payment protocol which sits atop Bitcoin and facilitates instantly settled payments measured in milliseconds, is capable of millions of transactions per second and allows for exceptionally low fees, which all combined makes it the ideal payment network of any type, period.\", 'eclipse_images/E+ via Getty Images CleanSpark (NASDAQ:CLSK) mined 448 bitcoins (BTC-USD) in September, a 13% rise from August. At the same time, the company, in an effort to fund its growth, sold 380 BTC at an average price of $19,783 for $7.5M in proceeds. \"The growth in our HODL balance is a direct reflection of our free cash flow resulting from our recent acquisitions, low operating costs and minimal debt service,\\' said CleanSpark CFO Gary A. Vecchiarelli. Its deployed fleet of over 42K bitcoin (BTC-USD) miners has a hashrate of 4.', 'luza studios/E+ via Getty Images Bitfarms\\' (NASDAQ:BITF) bitcoin (BTC-USD) production fell nearly 10% to 481 in September vs. August due to a higher network difficulty as well as a shorter month and a brief farm outage, it said Monday. That figure it still up 57% from a year earlier. Nevertheless, with 229 megawatts of mining capacity expected to be developed by the end of 2022, \"we are well positioned to further grow production in 2023.\\'said Ben Gagnon, chief mining officer of Bitfarms. The bitcoin (BTC-USD) miner\\'s operating hashrate reached 4.', 'GettyEuropa Press via Getty Images\\nProof-of-Stake (PoS), is seeing an uptick in attention and investment, and with good reason. With the recent upgrade of Ethereum ETH resulting in the second-largest blockchain and crypto adopting a PoS consensus protocol, this concept is gaining momentum. PoS is one of the two major methods of adding transactions to a blockchain As with the earlier proof of work (PoW) approach, both require that each and every piece of information added to a blockchain be agreed upon by multiple members of the network.'], 'titles': ['', '', '', '', '']}}>]\n",
      "\n",
      "Query: What is bitcoin mining?\n",
      "Answers:\n",
      "[   <Answer {'answer': 'the process used to generate new coins and verify new transactions', 'type': 'generative', 'score': None, 'context': None, 'offsets_in_document': None, 'offsets_in_context': None, 'document_id': None, 'meta': {'doc_ids': ['5323100ade27d773eec3ebcc4b65521', 'da3d945c6fa1283e0701d984dce654ad', 'c5cc43a36291e5923c46b7e83780336a', '7411498bc20c0fc50fd5550b0282acf5', '10133cab79a62fdb758453c62bd05d5b'], 'doc_scores': [0.6976991824052634, 0.6934953021726374, 0.6927373812673804, 0.6916624142932156, 0.6916624142932156], 'content': [\"Bitcoin has come a long way since its inception in 2008, becoming the most popular and valued cryptocurrency of all time. But with time, its inefficiencies were also exposed -- lack of consumer protection leading to money laundering and black market trading. Perhaps the most concerning issue is the huge impact its production has on the environment.\\n\\nMining Bitcoins could be worse than extracting gold and is as bad as industries related to cattle farming and crude oil. At least that's what the latest study published in the journal Scientific Reports suggests.\", 'Bitcoin mining is the process used to generate new coins and verify new transactions. The process involves vast, decentralized networks of computers …\\nRead Full Story', \"According to a study that was published in Scientific Reports, the environmental costs of mining the digital currency Bitcoin are more equivalent to the climatic harm caused by raising beef than they are to the costs of mining gold when expressed as a percentage of the market price.\\nAccording to the authors, Bitcoin should be compared to considerably more energy-intensive goods like meat, natural gas, and crude oil rather than being likened to 'digital gold.'Bitcoin had a market cap of around 960 billion US dollars in December 2021 and accounted for almost 41% of all cryptocurrencies worldwide.\", \"Bitcoin mining's climate impact is comparable to farming cattle or burning gasoline when taken as a proportion of market value, according to researchers at the University of New Mexico in Albuquerque. Cryptocurrency mining is energy intensive because it requires highly specialized computers - and most of the electricity it consumes is generated by burning planet-warming fossil fuels. The climate-related economic damage caused by mining the popular digital token, bitcoin, exceeded its market value on 6.\", \"Bitcoin mining's climate impact is comparable to farming cattle or burning gasoline when taken as a proportion of market value, according to researchers at the University of New Mexico in Albuquerque.\\nCryptocurrency mining is energy intensive because it requires highly specialized computers - and most of the electricity it consumes is generated by burning planet-warming fossil fuels. The climate-related economic damage caused by mining the popular digital token, bitcoin, exceeded its market value on 6.\"], 'titles': ['', '', '', '', '']}}>]\n",
      "\n",
      "Query: What is the difference between bitcoin and ethereum?\n",
      "Answers:\n",
      "[   <Answer {'answer': '1.7% higher', 'type': 'generative', 'score': None, 'context': None, 'offsets_in_document': None, 'offsets_in_context': None, 'document_id': None, 'meta': {'doc_ids': ['8e8fc301f51702774a9cb14d896bdc91', '81d2a24cd2398ebce0417d0a60e2d74a', 'cb1828af23b93179ecb343ffe1918923', '891e6494a659d6c8156ade0d4a2195bb', '2fea7924eb953cf898f93b2ec8538646'], 'doc_scores': [0.6890580211893421, 0.6867317134501916, 0.6858819670978911, 0.6841344203370276, 0.6837793213116116], 'content': [\"Cryptocurrency prices: Check today's rates of Bitcoin, Ethereum, Cardano, XRP Oct 03, 2022, 10:51 am 3 min read Ethereum's value has gone down by 0.4% since last week Bitcoin has shed 1.1% over the last 24 hours, trading at $19,121.40. It is 1.7% higher than the previous week. The second most popular token, Ethereum, has dropped 1.8% from yesterday and is trading at $1,289.19. From the previous week, it is down 0.4%. The market capitalization of Bitcoin and Ethereum is now at $366.53 billion and $155.\", \"1 / 6Bitcoin | The world's largest and most popular virtual currency, Bitcoin, rose 1.6 percent to $20,280. Its market value stood at $388.3 billion. The trade volume was at $35.1 billion.2 / 6Ethereum | The second largest virtual currency, Ethererum or Ether, climbed 1.2 percent to $1,355 with a market capitalisation of $166.2 billion. The trade volume of Ethereum was almost $9.5 billion in the last 24 hours.3 / 6Dogecoin | Meme-based virtual currency, Dogecoin, jumped 7.5 percent to $0.1. Its market value stood at $8.\", \"Ethereum is the most well-known altcoin, and for many investors and fans, it is much more than just another cryptocurrency. Though it had a terrible first half of the year, investors expect Ethereum price to rise above $4,000 in 2022. Ether (ETH), Ethereum's native asset, has seen phenomenal growth in value since its inception in 2015.\\n\\nEther, the cryptocurrency created by programmer Vitalik Buterin, has seen its value rise from $0.311 in 2015 to approximately $4,800 at its peak late last year, albeit with significant price swings.\", \"Ethereum has been following the general trend in the crypto market, giving back its profit obtained over the past week. The cryptocurrency was moving in tandem with Bitcoin and large cryptocurrencies, but now ETH's price is reacting to new economic data published in the United States.\\nAt the time of writing, Ethereum trades at $1,300 with a 2% loss and sideways movement in the last week. Other cryptocurrencies in the top 10 by market capitalization record similar price action with the exception of XRP.\", \"1 Min(s) ReadMajor cryptocurrencies extended gains/losses on Friday. Bitcoin prices declined, but remained above the crucial $20,000. Bitcoin | The world's largest and most popular virtual currency, Bitcoin, fell by 0.8 percent to $20,027 . Its market value stood at $383 billion. The trade volume was at $31.9 billion. Ethereum | The second largest virtual currency, Ethererum or Ether, climbed 0.16 percent to $1356.5 with a market capitalisation of $166.5 billion. The trade volume of Ethereum was almost $10.\"], 'titles': ['', '', '', '', '']}}>]\n",
      "\n",
      "Query: How to buy bitcoin?\n",
      "Answers:\n",
      "[   <Answer {'answer': 'a short-lived bullish price action', 'type': 'generative', 'score': None, 'context': None, 'offsets_in_document': None, 'offsets_in_context': None, 'document_id': None, 'meta': {'doc_ids': ['6b62132efdd8d476494cdfd74228a5f3', '6d705a09b3c203e9671ea0c3e07a2c92', 'c2163989f25032aecf301ef2a15c8c0f', 'ae53227a774cdcffd656e84ba112500b', 'de2e2bc7d6532714d5ad2334942149c9'], 'doc_scores': [0.7015454058031979, 0.7015238079866916, 0.701066369029549, 0.7010301044919596, 0.7006160496213697], 'content': [\"Bitcoin is popular, and presumably many investors might have weighed the option of putting money into it. Many might have decided against it, but there are also loyal supporters, also known as 'hodlers'. But all of this makes Bitcoin and later cryptocurrencies like Ether speculative assets. Was this why the creator(s) of Bitcoin introduced this blockchain-based 'currency' in 2009?\\nThere's a reason cryptocurrencies have 'currency' in their name. The first half, crypto, refers to cryptography or the technique of storing information and data.\", \"Bitcoin is losing steam on low timeframes as the price is rejected from the $20,000 and seems poised to re-test previous support levels. The cryptocurrency enjoys a short-lived bullish price action, but buyers have been unable to push further.\\xa0 At the time of writing, Bitcoin (BTC) trades at $20,000 moving sideways in the last 24 hours and with a 5% profit in the last 7 days. Other cryptocurrencies in the top 10 by market cap record negative performance and steeper losses than BTC's price except for Dogecoin and XRP.\", \"Bitcoin is popular, and it can be assumed that many investors might have weighed the option of parking some money in it. Many might have decided not to, but there are also some staunch backers, also referred to as ‘hodlers'. But all this makes Bitcoin and later cryptocurrencies like Ether speculative assets. Was this the reason why Bitcoin's creator/s introduced this blockchain-based ‘currency' in 2009?\\nThere is a reason why cryptocurrencies have ‘currency' in their name. The first half, crypto, refers to cryptography or the technique to store information and data.\", 'Bitcoin is the currency of the Internet: a distributed, worldwide, decentralized digital money. Unlike traditional currencies such as dollars, bitcoins are issued and managed without any central authority whatsoever: there is no government, company, or bank in charge of Bitcoin. As such, it is more resistant to wild inflation and corrupt banks. With Bitcoin, you can be your own bank.', 'Released on April 31st, 2009, Bitcoin is a cryptocurrency (a.k.a. digital money) that allows users to facilitate pseudonymous transactions over the internet. Unlike Fiat money, Bitcoin is decentralized, which means that it is not regulated by a central governing body. Bitcoin users can, therefore, facilitate peer-to-peer cash transactions without the approval of any financial institution.\\nGamers enjoy numerous benefits by using Bitcoin. For instance, this cryptocurrency allows you to enjoy minimum transaction fees when transacting at your favorite bookie.'], 'titles': ['', '', '', '', '']}}>]\n",
      "\n",
      "Query: What are bitcoin whales?\n",
      "Answers:\n",
      "[   <Answer {'answer': 'wallets', 'type': 'generative', 'score': None, 'context': None, 'offsets_in_document': None, 'offsets_in_context': None, 'document_id': None, 'meta': {'doc_ids': ['28b4298b552172e5437f40982394dbe7', 'af27664cc144a92deb1ebf58a3892ae5', 'c4c74872db1e4db38c6867c3b3c87467', 'cd5347b76b43ff36e0b177a571140f68', '62d835d02f76eb6bd35bc16611a5453c'], 'doc_scores': [0.688029908883174, 0.6800469180442165, 0.6795533067844876, 0.6742403720063386, 0.6721280415608125], 'content': [\"Bitcoin's price appears to be stuck in a relatively wide range between $18,000 and $24,000 for the past couple of months, and it's unable to escape.\\nMeanwhile, data from the popular cryptocurrency analytics resource, Glassnode, revealed the average price that whales have been accumulating since January 2017.\\n\\nAccording to Glassnode, Bitcoin whales bought Bitcoin at an average price of about $15,800 for the period between now and January 2017.\\nTo be precise, these are wallets that have more than 1,000 BTC.\", 'Bitcoin (BTC) worth millions of dollars is suddenly being purchased by a crypto whale.In early Q4, 2022, Bitcoin, like all the other major cryptocurrencies, failed to end its recession.Some whales, though, are certain that dips are for purchase and the statistics of an unusual address on the Bitcoin network were revealed by anonymous Bitcoin analyst and investor @Capital15C on Twitter.The unknown address began making a lot of aggressive purchases of digital gold on September 17, 2022. They typically purchase BTC for 100–200 coins.', 'Bitcoin whales have accumulated the asset in a sustained manner since September 27. Large wallet investors holding 100 to 10,000 Bitcoins have added upwards of $931 million in BTC to their portfolio.\\nRead Full Story', \"Disclaimer: The opinion expressed here is not investment advice – it is provided for informational purposes only. It does not necessarily reflect the opinion of U.Today. Every investment and all trading involves risk, so you should always perform your own research prior to making decisions. We do not recommend investing money you cannot afford to lose.\\n\\nAs reported by crypto analytics agency Santiment, Bitcoin's price at the moment seems attractive enough for whales to accumulate. Large holders of the cryptocurrency, whose wallets range in size from 100 to 10,000 BTC, have added 46,173 BTC to their balance since Sept.\", \"Cryptocurrency analytics platform Santiment says Bitcoin (BTC) whales have accumulated heavily over the past nine days.\\nSantiment says that since Tuesday last week, Bitcoin whales have added Bitcoin worth approximately $931,309,410 at time of writing. According to the crypto analytics platform, this is the longest period of sustained accumulation by Bitcoin whales since May.\\n'Bitcoin whales are showing signs of sustained accumulation, which has been a rarity in 2022. Since September 27th, addresses holding 100 to 10,000 BTC have collectively added back 46,173 BTC back to their wallets as large USDT [Tether] holdings have dropped.\"], 'titles': ['', '', '', '', '']}}>]\n",
      "\n",
      "Query: What was bitcoin's price in 2020?\n",
      "Answers:\n",
      "[   <Answer {'answer': '$19549.48', 'type': 'generative', 'score': None, 'context': None, 'offsets_in_document': None, 'offsets_in_context': None, 'document_id': None, 'meta': {'doc_ids': ['a11c3bff56164e2b37d1a1b8e8efc4de', '11685ab3e9b3a7273352884550b4a92e', '585c9fc801467c62815650bccefba2d5', '1447b0ffc268117da5431d8e59937181', 'fccbdc53c17c3a092cefc8ab96301460'], 'doc_scores': [0.6924401376159526, 0.6919910537498312, 0.6897113900264176, 0.6896345959284748, 0.687775351267321], 'content': ['Bitcoin is down $499.22 today or 2.49% to $19549.48\\n\\n--Largest percentage decrease since Sept. 20, 2022, when it dropped 2.81%\\n--Down two of the past three days\\n--Up 0.67% month-to-date\\n--Down 57.8% year-to-date\\n--Down 71.17% from its all-time high of $67802.30 on Nov. 9, 2021 (based on 5 p.m. levels)\\n--Down 63.76% from 52 weeks ago (Oct. 8, 2021), when it traded at $53950.58\\n--Down 71.17% from its 52-week high of $67802.30 on Nov. 9, 2021 (based on 5 p.m. levels)\\n--Up 10.28% from its 52-week low of $17726.', 'Bitcoin is down $328.29 today or 1.61% to $20022.15\\n\\n--Largest percentage decrease since Sept. 23, 2022, when it dropped 2.05%\\n--Snaps a two day winning streak\\n--Down 56.78% year-to-date\\n--Down 70.47% from its all-time high of $67802.30 on Nov. 9, 2021 (based on 5 p.m. levels)\\n--Down 63.53% from 52 weeks ago (Oct. 6, 2021), when it traded at $54903.22\\n--Down 70.47% from its 52-week high of $67802.30 on Nov. 9, 2021 (based on 5 p.m. levels)\\n--Up 12.95% from its 52-week low of $17726.', 'Bitcoin is up $358.47 today or 1.86% to $19589.94\\n\\n--Highest 5 p.m. level since Sept. 18, 2022, when it traded at $19720.55\\n--Snaps a four day losing streak\\n--Down 57.71% year-to-date\\n--Down 71.11% from its all-time high of $67802.30 on Nov. 9, 2021 (based on 5 p.m. levels)\\n--Down 60.03% from 52 weeks ago (Oct. 4, 2021), when it traded at $49016.05\\n--Down 71.11% from its 52-week high of $67802.30 on Nov. 9, 2021 (based on 5 p.m. levels)\\n--Up 10.51% from its 52-week low of $17726.51 on June 18, 2022 (based on 5 p.', 'Bitcoin is up $26.55 today or 0.13% to $20048.70\\n\\n--Up three of the past four days\\n--Down 56.72% year-to-date\\n--Down 70.43% from its all-time high of $67802.30 on Nov. 9, 2021 (based on 5 p.m. levels)\\n--Down 63.01% from 52 weeks ago (Oct. 7, 2021), when it traded at $54204.61\\n--Down 70.43% from its 52-week high of $67802.30 on Nov. 9, 2021 (based on 5 p.m. levels)\\n--Up 13.10% from its 52-week low of $17726.51 on June 18, 2022 (based on 5 p.m. levels)\\n--Traded as high as 20437.78; highest intraday level since Sept.', \"Bitcoin's price is down roughly 56% since January but crypto-related stocks such as MicroStrategy, Riot Blockchain, Coinbase, and Hut8 Mining are down up to 74%.The orange line in the chart below shows Bitcoin's decline in 2022 as a percentage of the January price. The other lines represent major Bitcoin equities, none of which have had a good year in terms of stock price.Source: TradingViewCoinbaseCoinbase reported a $1.1 billion loss in Q2 2022 as assets held on the exchange fell to just $96 million.\"], 'titles': ['', '', '', '', '']}}>]\n",
      "\n",
      "Query: How much was bitcoin's price in 2021?\n",
      "Answers:\n",
      "[   <Answer {'answer': '$328.29', 'type': 'generative', 'score': None, 'context': None, 'offsets_in_document': None, 'offsets_in_context': None, 'document_id': None, 'meta': {'doc_ids': ['11685ab3e9b3a7273352884550b4a92e', 'a11c3bff56164e2b37d1a1b8e8efc4de', '585c9fc801467c62815650bccefba2d5', '8e00e5ebe45cc1a8758823363f8ab856', '1447b0ffc268117da5431d8e59937181'], 'doc_scores': [0.6836979871042409, 0.6830865654769515, 0.6814280363627622, 0.6808858266812858, 0.680028674068024], 'content': ['Bitcoin is down $328.29 today or 1.61% to $20022.15\\n\\n--Largest percentage decrease since Sept. 23, 2022, when it dropped 2.05%\\n--Snaps a two day winning streak\\n--Down 56.78% year-to-date\\n--Down 70.47% from its all-time high of $67802.30 on Nov. 9, 2021 (based on 5 p.m. levels)\\n--Down 63.53% from 52 weeks ago (Oct. 6, 2021), when it traded at $54903.22\\n--Down 70.47% from its 52-week high of $67802.30 on Nov. 9, 2021 (based on 5 p.m. levels)\\n--Up 12.95% from its 52-week low of $17726.', 'Bitcoin is down $499.22 today or 2.49% to $19549.48\\n\\n--Largest percentage decrease since Sept. 20, 2022, when it dropped 2.81%\\n--Down two of the past three days\\n--Up 0.67% month-to-date\\n--Down 57.8% year-to-date\\n--Down 71.17% from its all-time high of $67802.30 on Nov. 9, 2021 (based on 5 p.m. levels)\\n--Down 63.76% from 52 weeks ago (Oct. 8, 2021), when it traded at $53950.58\\n--Down 71.17% from its 52-week high of $67802.30 on Nov. 9, 2021 (based on 5 p.m. levels)\\n--Up 10.28% from its 52-week low of $17726.', 'Bitcoin is up $358.47 today or 1.86% to $19589.94\\n\\n--Highest 5 p.m. level since Sept. 18, 2022, when it traded at $19720.55\\n--Snaps a four day losing streak\\n--Down 57.71% year-to-date\\n--Down 71.11% from its all-time high of $67802.30 on Nov. 9, 2021 (based on 5 p.m. levels)\\n--Down 60.03% from 52 weeks ago (Oct. 4, 2021), when it traded at $49016.05\\n--Down 71.11% from its 52-week high of $67802.30 on Nov. 9, 2021 (based on 5 p.m. levels)\\n--Up 10.51% from its 52-week low of $17726.51 on June 18, 2022 (based on 5 p.', \"s of 9:11am today, the price of Bitcoin (BTC) is £17,854, according to CoinMarketCap. That's down 1.94% on yesterday's figure of £18,200, 0.57% on last week and up 5.88% on one month ago. The 24-hour …\\nRead Full Story\", 'Bitcoin is up $26.55 today or 0.13% to $20048.70\\n\\n--Up three of the past four days\\n--Down 56.72% year-to-date\\n--Down 70.43% from its all-time high of $67802.30 on Nov. 9, 2021 (based on 5 p.m. levels)\\n--Down 63.01% from 52 weeks ago (Oct. 7, 2021), when it traded at $54204.61\\n--Down 70.43% from its 52-week high of $67802.30 on Nov. 9, 2021 (based on 5 p.m. levels)\\n--Up 13.10% from its 52-week low of $17726.51 on June 18, 2022 (based on 5 p.m. levels)\\n--Traded as high as 20437.78; highest intraday level since Sept.'], 'titles': ['', '', '', '', '']}}>]\n",
      "\n",
      "Query: What is the market cap of btc?\n",
      "Answers:\n",
      "[   <Answer {'answer': '41%', 'type': 'generative', 'score': None, 'context': None, 'offsets_in_document': None, 'offsets_in_context': None, 'document_id': None, 'meta': {'doc_ids': ['a96db17c09015c5b1450ce558903e5d2', '159700ae048958151db904999f347ecc', '1e444c230067cdd86bb90d02a03c9ff3', 'df0567b7a5686983cc4706a5e30d742f', 'b8cf7b18bdd7562ec4e2e4dcd3c83851'], 'doc_scores': [0.671761294555486, 0.6715925242086909, 0.6701938554514567, 0.6700275426005444, 0.6682949729349441], 'content': ['Shares of Grayscale Bitcoin Trust (BTC) (OTCMKTS:GBTC – Get Rating) passed below its 50-day moving average during trading on Thursday . The stock has a 50-day moving average of $12.99 and traded as low as $11.78. Grayscale Bitcoin Trust (BTC) shares last traded at $11.95, with a volume of 2,006,882 shares.\\nGrayscale Bitcoin Trust (BTC) Trading Down 5.0 %\\nThe firm has a fifty day moving average price of $12.92 and a 200-day moving average price of $18.02.\\nGrayscale Bitcoin Trust (BTC) Company Profile\\n(Get Rating)\\nGrayscale Bitcoin Trust (BTC) is an investment vehicle that enables investors to gain access and exposure to Bitcoin in the form of a security without the challenges of buying, storing, and safekeeping Bitcoin directly.', \"For those who don't know, BTC is the code for Bitcoin. BTC was founded in and around 2009 by Satoshi Nakamoto. It is a decentralized digital currency that does not require a central bank or single administrator and can be transmitted from user to user over the peer-to-peer Bitcoin network without intermediaries. Transactions are verified by the network nodes through cryptography and recorded on a publicly distributed ledger called a blockchain. However, while trading Bitcoin it is also important to know about the popularity of bitcoin.\", \"Bitcoin (BTC) was still trading above $20,000, roughly flat from 24 hours earlier, as the largest cryptocurrency by market capitalization continues to trade in a tight range. BTC tested highs of $20,440, before retreating to current levels. Bitcoin dominance, a measure of the BTC's market cap relative to the market cap for all cryptocurrencies, has increased to 41% since hitting a 2022 bottom of 39% on Sept 10. The uptick in BTC dominance highlights a shift in overall investment in cryptocurrencies, to bitcoin.\", \"Bitcoin (BTC) is flashing a metric reminiscent of previous bear-market bottoms, according to Ki Young Ju, the chief executive of on-chain insights firm CryptoQuant.\\nJu notes on Twitter that BTC's accumulation level has reached a seven-year high. 'Over 6-month-old Bitcoins now take 74% of the realized cap. It was 70%, and 77% at the last bottoms in 2019, and 2015 respectively. Imagine you buy Bitcoins and do nothing over six months. You know how hard it is…'\\nSource: ki_young_ju/Twitter\\nThe CEO clarifies that he's not saying that 74% of BTC supply hasn't moved in six months.\", \"As of 9:11am today, the price of Bitcoin (BTC) is £17,113, according to CoinMarketCap. It's down 1.06% on yesterday's figure of £17,294, 1.31% on last week and 3.28% on one month ago.The 24-hour trading volume is around £22.0 billion, and it has a market cap of about £328.0 billion.The 52-week high of Bitcoin is £50,843, while the 52-week low is £14,485.Buy 70+ crypto assets with a fixed & transparent 1% fee on a highly secure platform.Join 25M UsersCryptoassets are highly volatile and unregulated in the UK.\"], 'titles': ['', '', '', '', '']}}>]\n"
     ]
    }
   ],
   "source": [
    "pipe_GQA = GenerativeQAPipeline(generator=t5_generator, retriever=dpr_retriever)\n",
    "\n",
    "for question in QUESTIONS:\n",
    "    res = pipe_GQA.run(query=question, \n",
    "                       params={\"Generator\": {\"top_k\": 1}, \"Retriever\": {\"top_k\": 5}})\n",
    "    \n",
    "    (print_answers(res, details=\"all\"))"
   ]
  },
  {
   "cell_type": "code",
   "execution_count": null,
   "id": "6ca3b26a",
   "metadata": {},
   "outputs": [],
   "source": []
  },
  {
   "cell_type": "code",
   "execution_count": null,
   "id": "07dcffe3",
   "metadata": {},
   "outputs": [],
   "source": []
  },
  {
   "cell_type": "code",
   "execution_count": null,
   "id": "001222a9",
   "metadata": {},
   "outputs": [],
   "source": []
  }
 ],
 "metadata": {
  "kernelspec": {
   "display_name": "Python 3 (ipykernel)",
   "language": "python",
   "name": "python3"
  },
  "language_info": {
   "codemirror_mode": {
    "name": "ipython",
    "version": 3
   },
   "file_extension": ".py",
   "mimetype": "text/x-python",
   "name": "python",
   "nbconvert_exporter": "python",
   "pygments_lexer": "ipython3",
   "version": "3.9.5"
  }
 },
 "nbformat": 4,
 "nbformat_minor": 5
}
