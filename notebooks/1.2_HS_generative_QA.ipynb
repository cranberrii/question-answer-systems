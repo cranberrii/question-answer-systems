{
 "cells": [
  {
   "cell_type": "code",
   "execution_count": 1,
   "id": "8cda594a",
   "metadata": {},
   "outputs": [],
   "source": [
    "import logging\n",
    "from typing import Dict, List, Optional, Union\n",
    "from pprint import pprint\n",
    "import pandas as pd\n",
    "\n",
    "from haystack.nodes import TextConverter, PDFToTextConverter, DocxToTextConverter, PreProcessor, EmbeddingRetriever, DensePassageRetriever\n",
    "from haystack.utils import convert_files_to_docs, print_answers\n",
    "from haystack.document_stores import InMemoryDocumentStore, FAISSDocumentStore\n",
    "from haystack.nodes import FARMReader, TransformersReader, RAGenerator, Seq2SeqGenerator\n",
    "from haystack.pipelines import GenerativeQAPipeline\n",
    "from haystack.schema import Document\n",
    "\n",
    "import torch\n",
    "from transformers import PreTrainedTokenizer, BatchEncoding\n",
    "import datasets\n",
    "\n",
    "%load_ext autoreload\n",
    "%autoreload 2"
   ]
  },
  {
   "cell_type": "code",
   "execution_count": 2,
   "id": "3aed857f",
   "metadata": {},
   "outputs": [],
   "source": [
    "logging.basicConfig(format=\"%(levelname)s - %(name)s -  %(message)s\", level=logging.WARNING)\n",
    "logging.getLogger(\"haystack\").setLevel(logging.INFO)"
   ]
  },
  {
   "cell_type": "code",
   "execution_count": 3,
   "id": "f75b92bc-0b0d-4e56-b277-786b62c5237b",
   "metadata": {},
   "outputs": [
    {
     "data": {
      "text/plain": [
       "'1.12.1+cu113'"
      ]
     },
     "execution_count": 3,
     "metadata": {},
     "output_type": "execute_result"
    }
   ],
   "source": [
    "torch.__version__"
   ]
  },
  {
   "cell_type": "code",
   "execution_count": 4,
   "id": "53a1dc96-31bb-472d-b9e3-d199028cdce1",
   "metadata": {},
   "outputs": [
    {
     "data": {
      "text/plain": [
       "'11.3'"
      ]
     },
     "execution_count": 4,
     "metadata": {},
     "output_type": "execute_result"
    }
   ],
   "source": [
    "torch.version.cuda"
   ]
  },
  {
   "cell_type": "markdown",
   "id": "ee21b677",
   "metadata": {
    "tags": []
   },
   "source": [
    "# GET documents"
   ]
  },
  {
   "cell_type": "code",
   "execution_count": 3,
   "id": "63705348-c091-4d24-8a7a-8e2245a4dd2e",
   "metadata": {},
   "outputs": [
    {
     "name": "stderr",
     "output_type": "stream",
     "text": [
      "WARNING:datasets.builder:Found cached dataset wikitext (/home/jerm-xps/.cache/huggingface/datasets/wikitext/wikitext-2-raw-v1/1.0.0/a241db52902eaf2c6aa732210bead40c090019a499ceb13bcbfa3f8ab646a126)\n"
     ]
    },
    {
     "data": {
      "application/vnd.jupyter.widget-view+json": {
       "model_id": "adafff5a50154983b7b6d009467458bc",
       "version_major": 2,
       "version_minor": 0
      },
      "text/plain": [
       "  0%|          | 0/3 [00:00<?, ?it/s]"
      ]
     },
     "metadata": {},
     "output_type": "display_data"
    }
   ],
   "source": [
    "# eli5 = datasets.load_dataset('eli5')\n",
    "\n",
    "# wikitext = datasets.load_dataset('wikitext','wikitext-2-raw-v1')"
   ]
  },
  {
   "cell_type": "code",
   "execution_count": 4,
   "id": "ff3c6a49-fcc3-4514-a0da-8c9e7e7bd426",
   "metadata": {},
   "outputs": [],
   "source": [
    "# wikitext['train']['text'][:30]"
   ]
  },
  {
   "cell_type": "code",
   "execution_count": 3,
   "id": "5521e3ad-826b-4afe-9b0f-4f8c1483aaea",
   "metadata": {},
   "outputs": [],
   "source": [
    "# len(wikitext['train'])"
   ]
  },
  {
   "cell_type": "code",
   "execution_count": 5,
   "id": "a8152f89-2793-418a-be9d-c68df7557f74",
   "metadata": {},
   "outputs": [
    {
     "data": {
      "text/plain": [
       "(2500, 17)"
      ]
     },
     "execution_count": 5,
     "metadata": {},
     "output_type": "execute_result"
    }
   ],
   "source": [
    "DATA_PATH = '../data/bitcoin_articles.csv'\n",
    "\n",
    "df = pd.read_csv(DATA_PATH)\n",
    "df.shape"
   ]
  },
  {
   "cell_type": "code",
   "execution_count": 6,
   "id": "f07e0b4d-2568-496b-bd24-9f45221cb58e",
   "metadata": {},
   "outputs": [
    {
     "data": {
      "text/html": [
       "<div>\n",
       "<style scoped>\n",
       "    .dataframe tbody tr th:only-of-type {\n",
       "        vertical-align: middle;\n",
       "    }\n",
       "\n",
       "    .dataframe tbody tr th {\n",
       "        vertical-align: top;\n",
       "    }\n",
       "\n",
       "    .dataframe thead th {\n",
       "        text-align: right;\n",
       "    }\n",
       "</style>\n",
       "<table border=\"1\" class=\"dataframe\">\n",
       "  <thead>\n",
       "    <tr style=\"text-align: right;\">\n",
       "      <th></th>\n",
       "      <th>article_id</th>\n",
       "      <th>title</th>\n",
       "      <th>author</th>\n",
       "      <th>published_date</th>\n",
       "      <th>link</th>\n",
       "      <th>clean_url</th>\n",
       "      <th>excerpt</th>\n",
       "      <th>summary</th>\n",
       "      <th>rights</th>\n",
       "      <th>article_rank</th>\n",
       "      <th>topic</th>\n",
       "      <th>country</th>\n",
       "      <th>language</th>\n",
       "      <th>authors</th>\n",
       "      <th>media</th>\n",
       "      <th>twitter_account</th>\n",
       "      <th>article_score</th>\n",
       "    </tr>\n",
       "  </thead>\n",
       "  <tbody>\n",
       "    <tr>\n",
       "      <th>0</th>\n",
       "      <td>57a00c1140cbd3af79e77bf0e4e6af48</td>\n",
       "      <td>62% of Bitcoin Has Not Moved in a Year as Long-Term Holders Refuse to Sell</td>\n",
       "      <td>Jamie McNeill</td>\n",
       "      <td>04-10-2022 17:15</td>\n",
       "      <td>https://www.business2community.com/crypto-news/62-of-bitcoin-has-not-moved-i...</td>\n",
       "      <td>business2community.com</td>\n",
       "      <td>Over the course of the last few years, there has been an impressive trend wh...</td>\n",
       "      <td>Over the course of the last few years, there has been an impressive trend wh...</td>\n",
       "      <td>business2community.com</td>\n",
       "      <td>1595</td>\n",
       "      <td>finance</td>\n",
       "      <td>US</td>\n",
       "      <td>en</td>\n",
       "      <td>Jamie McNeill</td>\n",
       "      <td>https://www.business2community.com/wp-content/uploads/2022/10/btcc.webp</td>\n",
       "      <td>@Jamie_DeFi</td>\n",
       "      <td>8.556426</td>\n",
       "    </tr>\n",
       "    <tr>\n",
       "      <th>1</th>\n",
       "      <td>21b48b3731c03466be3fac4be6c7dc67</td>\n",
       "      <td>The Orange Party Issue Playlist</td>\n",
       "      <td>Bitcoin Magazine</td>\n",
       "      <td>05-10-2022 21:17</td>\n",
       "      <td>https://bitcoinmagazine.com/culture/orange-party-issue-playlist</td>\n",
       "      <td>bitcoinmagazine.com</td>\n",
       "      <td>News Links: Russia Legalizing Bitcoin And Crypto Is A Matter Of Time Says Mi...</td>\n",
       "      <td>Russia Legalizing Bitcoin And Crypto Is A Matter Of Time Says Minister Of In...</td>\n",
       "      <td>bitcoinmagazine.com</td>\n",
       "      <td>6284</td>\n",
       "      <td>news</td>\n",
       "      <td>US</td>\n",
       "      <td>en</td>\n",
       "      <td>Bitcoin Magazine</td>\n",
       "      <td>https://bitcoinmagazine.com/.image/t_share/MTkyODIyNDQ0Mjc5NDczMzcz/playlist...</td>\n",
       "      <td>NaN</td>\n",
       "      <td>8.507881</td>\n",
       "    </tr>\n",
       "    <tr>\n",
       "      <th>2</th>\n",
       "      <td>77030740ee160ad68c25e4e63515dd77</td>\n",
       "      <td>How Many Bitcoins Are There?</td>\n",
       "      <td>AOL Staff</td>\n",
       "      <td>04-10-2022 21:44</td>\n",
       "      <td>https://www.gobankingrates.com/investing/crypto/how-many-bitcoins-are-there/</td>\n",
       "      <td>gobankingrates.com</td>\n",
       "      <td>Bitcoin has a maximum supply of 21 million. However, that doesn't tell the w...</td>\n",
       "      <td>Bitcoin has a maximum supply of 21 million. However, that doesn't tell the w...</td>\n",
       "      <td>aol.com</td>\n",
       "      <td>5044</td>\n",
       "      <td>news</td>\n",
       "      <td>US</td>\n",
       "      <td>en</td>\n",
       "      <td>AOL Staff,David Granahan</td>\n",
       "      <td>https://s.yimg.com/ny/api/res/1.2/wPK4V8gjwjrDYoMuUGxoBw--/YXBwaWQ9aGlnaGxhb...</td>\n",
       "      <td>@AOL</td>\n",
       "      <td>8.483973</td>\n",
       "    </tr>\n",
       "    <tr>\n",
       "      <th>3</th>\n",
       "      <td>19285dde79599b6a9b4aa5a58805159b</td>\n",
       "      <td>Bitcoin 2008–2022: From Bouncing Baby To Troubled Teenager</td>\n",
       "      <td>Mark Hooson</td>\n",
       "      <td>03-10-2022 15:45</td>\n",
       "      <td>https://www.forbes.com/advisor/au/investing/bitcoin-2008-2022-from-bouncing-...</td>\n",
       "      <td>forbes.com</td>\n",
       "      <td>Conceived in 2008 and launched in 2009, bitcoin is the world's first and lar...</td>\n",
       "      <td>Conceived in 2008 and launched in 2009, bitcoin is the world's first and lar...</td>\n",
       "      <td>forbes.com</td>\n",
       "      <td>49</td>\n",
       "      <td>business</td>\n",
       "      <td>US</td>\n",
       "      <td>en</td>\n",
       "      <td>Forbes Staff,Kevin Pratt,Mark Hooson,Sophie Venz</td>\n",
       "      <td>https://thumbor.forbes.com/thumbor/fit-in/x/https://www.forbes.com/advisor/a...</td>\n",
       "      <td>NaN</td>\n",
       "      <td>8.466393</td>\n",
       "    </tr>\n",
       "    <tr>\n",
       "      <th>4</th>\n",
       "      <td>ad1822c7ff1bbd7e38f7f9dbdbce245f</td>\n",
       "      <td>Bitcoin Lightning Network capacity strikes 5,000 BTC</td>\n",
       "      <td>Joseph Hall</td>\n",
       "      <td>03-10-2022 12:09</td>\n",
       "      <td>https://cointelegraph.com/news/bitcoin-lightning-network-capacity-strikes-5-...</td>\n",
       "      <td>cointelegraph.com</td>\n",
       "      <td>First created in 2018, the Lighting Network has come under fire recently, wi...</td>\n",
       "      <td>Bear markets are for building out capacity on the layer-2 Lightning Network....</td>\n",
       "      <td>cointelegraph.com</td>\n",
       "      <td>1696</td>\n",
       "      <td>news</td>\n",
       "      <td>US</td>\n",
       "      <td>en</td>\n",
       "      <td>Joseph Hall</td>\n",
       "      <td>https://images.cointelegraph.com/images/1200_aHR0cHM6Ly9zMy5jb2ludGVsZWdyYXB...</td>\n",
       "      <td>@cointelegraph</td>\n",
       "      <td>8.446906</td>\n",
       "    </tr>\n",
       "  </tbody>\n",
       "</table>\n",
       "</div>"
      ],
      "text/plain": [
       "                         article_id  \\\n",
       "0  57a00c1140cbd3af79e77bf0e4e6af48   \n",
       "1  21b48b3731c03466be3fac4be6c7dc67   \n",
       "2  77030740ee160ad68c25e4e63515dd77   \n",
       "3  19285dde79599b6a9b4aa5a58805159b   \n",
       "4  ad1822c7ff1bbd7e38f7f9dbdbce245f   \n",
       "\n",
       "                                                                        title  \\\n",
       "0  62% of Bitcoin Has Not Moved in a Year as Long-Term Holders Refuse to Sell   \n",
       "1                                             The Orange Party Issue Playlist   \n",
       "2                                                How Many Bitcoins Are There?   \n",
       "3                  Bitcoin 2008–2022: From Bouncing Baby To Troubled Teenager   \n",
       "4                        Bitcoin Lightning Network capacity strikes 5,000 BTC   \n",
       "\n",
       "             author    published_date  \\\n",
       "0     Jamie McNeill  04-10-2022 17:15   \n",
       "1  Bitcoin Magazine  05-10-2022 21:17   \n",
       "2         AOL Staff  04-10-2022 21:44   \n",
       "3       Mark Hooson  03-10-2022 15:45   \n",
       "4       Joseph Hall  03-10-2022 12:09   \n",
       "\n",
       "                                                                              link  \\\n",
       "0  https://www.business2community.com/crypto-news/62-of-bitcoin-has-not-moved-i...   \n",
       "1                  https://bitcoinmagazine.com/culture/orange-party-issue-playlist   \n",
       "2     https://www.gobankingrates.com/investing/crypto/how-many-bitcoins-are-there/   \n",
       "3  https://www.forbes.com/advisor/au/investing/bitcoin-2008-2022-from-bouncing-...   \n",
       "4  https://cointelegraph.com/news/bitcoin-lightning-network-capacity-strikes-5-...   \n",
       "\n",
       "                clean_url  \\\n",
       "0  business2community.com   \n",
       "1     bitcoinmagazine.com   \n",
       "2      gobankingrates.com   \n",
       "3              forbes.com   \n",
       "4       cointelegraph.com   \n",
       "\n",
       "                                                                           excerpt  \\\n",
       "0  Over the course of the last few years, there has been an impressive trend wh...   \n",
       "1  News Links: Russia Legalizing Bitcoin And Crypto Is A Matter Of Time Says Mi...   \n",
       "2  Bitcoin has a maximum supply of 21 million. However, that doesn't tell the w...   \n",
       "3  Conceived in 2008 and launched in 2009, bitcoin is the world's first and lar...   \n",
       "4  First created in 2018, the Lighting Network has come under fire recently, wi...   \n",
       "\n",
       "                                                                           summary  \\\n",
       "0  Over the course of the last few years, there has been an impressive trend wh...   \n",
       "1  Russia Legalizing Bitcoin And Crypto Is A Matter Of Time Says Minister Of In...   \n",
       "2  Bitcoin has a maximum supply of 21 million. However, that doesn't tell the w...   \n",
       "3  Conceived in 2008 and launched in 2009, bitcoin is the world's first and lar...   \n",
       "4  Bear markets are for building out capacity on the layer-2 Lightning Network....   \n",
       "\n",
       "                   rights  article_rank     topic country language  \\\n",
       "0  business2community.com          1595   finance      US       en   \n",
       "1     bitcoinmagazine.com          6284      news      US       en   \n",
       "2                 aol.com          5044      news      US       en   \n",
       "3              forbes.com            49  business      US       en   \n",
       "4       cointelegraph.com          1696      news      US       en   \n",
       "\n",
       "                                            authors  \\\n",
       "0                                     Jamie McNeill   \n",
       "1                                  Bitcoin Magazine   \n",
       "2                          AOL Staff,David Granahan   \n",
       "3  Forbes Staff,Kevin Pratt,Mark Hooson,Sophie Venz   \n",
       "4                                       Joseph Hall   \n",
       "\n",
       "                                                                             media  \\\n",
       "0          https://www.business2community.com/wp-content/uploads/2022/10/btcc.webp   \n",
       "1  https://bitcoinmagazine.com/.image/t_share/MTkyODIyNDQ0Mjc5NDczMzcz/playlist...   \n",
       "2  https://s.yimg.com/ny/api/res/1.2/wPK4V8gjwjrDYoMuUGxoBw--/YXBwaWQ9aGlnaGxhb...   \n",
       "3  https://thumbor.forbes.com/thumbor/fit-in/x/https://www.forbes.com/advisor/a...   \n",
       "4  https://images.cointelegraph.com/images/1200_aHR0cHM6Ly9zMy5jb2ludGVsZWdyYXB...   \n",
       "\n",
       "  twitter_account  article_score  \n",
       "0     @Jamie_DeFi       8.556426  \n",
       "1             NaN       8.507881  \n",
       "2            @AOL       8.483973  \n",
       "3             NaN       8.466393  \n",
       "4  @cointelegraph       8.446906  "
      ]
     },
     "execution_count": 6,
     "metadata": {},
     "output_type": "execute_result"
    }
   ],
   "source": [
    "df.head()"
   ]
  },
  {
   "cell_type": "code",
   "execution_count": 7,
   "id": "46ea828e-71c0-4af8-a1ea-fa148033c992",
   "metadata": {},
   "outputs": [],
   "source": [
    "# Use data to initialize Document objects\n",
    "\n",
    "ids = list(df[\"article_id\"].values)\n",
    "texts = list(df[\"summary\"].values)\n",
    "titles = list(df[\"title\"].values)\n",
    "dates = list(df[\"published_date\"].values)\n",
    "links = list(df[\"link\"].values)\n",
    "\n",
    "all_docs = []\n",
    "for i, title, text, date, link in zip(ids, titles, texts, dates, links):\n",
    "    all_docs.append(Document(id=i, \n",
    "                             content=text, \n",
    "                             meta={\"name\": title or \"\", \n",
    "                                   \"link\": link or \"\", \n",
    "                                   \"date\": date or \"\"}))\n",
    "\n",
    "\n",
    "# all_docs = [\n",
    "#     {\n",
    "#         'id':i, \n",
    "#         'content': c,\n",
    "#         'meta': {'article_link': l, 'article_title': t, 'article_date': d}\n",
    "#     } for i, c, t, d, l in zip(df['article_id'], df['summary'], df['title'], df['published_date'], df['link'])\n",
    "# ]"
   ]
  },
  {
   "cell_type": "code",
   "execution_count": 8,
   "id": "47988c05-af5b-4ebd-83ab-d265b6db8e79",
   "metadata": {},
   "outputs": [
    {
     "data": {
      "text/plain": [
       "2500"
      ]
     },
     "execution_count": 8,
     "metadata": {},
     "output_type": "execute_result"
    }
   ],
   "source": [
    "len(all_docs)"
   ]
  },
  {
   "cell_type": "code",
   "execution_count": null,
   "id": "d3152e8d",
   "metadata": {},
   "outputs": [],
   "source": [
    "# PDFS_PATH=\"/data/kg_pdfs_test/\"\n",
    "# all_docs = convert_files_to_docs(dir_path=PDFS_PATH)"
   ]
  },
  {
   "cell_type": "markdown",
   "id": "018a0a99",
   "metadata": {
    "jp-MarkdownHeadingCollapsed": true,
    "tags": []
   },
   "source": [
    "## Preprocessing "
   ]
  },
  {
   "cell_type": "code",
   "execution_count": 9,
   "id": "da274263",
   "metadata": {},
   "outputs": [
    {
     "data": {
      "application/vnd.jupyter.widget-view+json": {
       "model_id": "5f3c43f5a59446ab9a57e2f454adf693",
       "version_major": 2,
       "version_minor": 0
      },
      "text/plain": [
       "Preprocessing:   0%|          | 0/2500 [00:00<?, ?docs/s]"
      ]
     },
     "metadata": {},
     "output_type": "display_data"
    },
    {
     "name": "stdout",
     "output_type": "stream",
     "text": [
      "n_files_input: 2500\n",
      "n_docs_output: 2500\n"
     ]
    }
   ],
   "source": [
    "preprocessor = PreProcessor(\n",
    "    clean_empty_lines=True,\n",
    "    clean_whitespace=True,\n",
    "    clean_header_footer=False,\n",
    "    split_by=\"word\",\n",
    "    split_length=256,  # smaller splits works better? \n",
    "    split_respect_sentence_boundary=True,\n",
    ")\n",
    "\n",
    "all_docs_process = preprocessor.process(all_docs)\n",
    "\n",
    "print(f\"n_files_input: {len(all_docs)}\\nn_docs_output: {len(all_docs_process)}\")"
   ]
  },
  {
   "cell_type": "code",
   "execution_count": 10,
   "id": "3a2e9423",
   "metadata": {},
   "outputs": [
    {
     "data": {
      "text/plain": [
       "[<Document: {'content': \"Bitcoin has a maximum supply of 21 million. However, that doesn't tell the whole story. As time goes on, it becomes increasingly difficult to acquire bitcoin due to the asset's economics. Here is a full breakdown of how bitcoin works and exactly why it has a limited supply.Read: Looking To Diversify In A Bear Market? Consider These 6 Alternative InvestmentsBitcoin Tokenomics: Proof of Work, Mining and Halving CyclesTokenomics, as one can imagine, refers to the economics of a token. Similar to how fiat currencies, like the dollar, are issued by governments and regulated through monetary policy, tokenomics refers to the rules and functions revolving around cryptocurrency.\", 'content_type': 'text', 'score': None, 'meta': {'name': 'How Many Bitcoins Are There?', 'link': 'https://www.gobankingrates.com/investing/crypto/how-many-bitcoins-are-there/', 'date': '04-10-2022 21:44', '_split_id': 0}, 'embedding': None, 'id': '7afbcf9ee51ca07473ee35af09165d3b'}>,\n",
       " <Document: {'content': \"Conceived in\\xa02008\\xa0and launched in\\xa02009, bitcoin is the world's first and largest cryptocurrency.\\xa0 Back in 2010, a single bitcoin could be purchased for roughly $0.0011 Australian dollars. Today, its value is more than 24,000,000% higher—but it hasn't all been gains. In the years since, we've seen prices peak as high as\\xa0almost US$69,000, but we've also seen prices fall by as much as $US22,000\\xa0in as little as three weeks. Here's a brief history of bitcoin's biggest price movements and the milestones along the path, from thousandths of a cent to tens of thousands of US dollars.\", 'content_type': 'text', 'score': None, 'meta': {'name': 'Bitcoin 2008–2022: From Bouncing Baby To Troubled Teenager', 'link': 'https://www.forbes.com/advisor/au/investing/bitcoin-2008-2022-from-bouncing-baby-to-troubled-teenager/', 'date': '03-10-2022 15:45', '_split_id': 0}, 'embedding': None, 'id': 'a25cc76071b03efed19fe3535373d9a9'}>,\n",
       " <Document: {'content': 'Bear markets are for building out capacity on the layer-2 Lightning Network. Despite macroeconomic headwinds and sluggish price action, the Lightning Network, the layer-2 payments solution fo Bitcoin (BTC), continues to flourish.The Bitcoin Lightning Network reached a milestone capacity of 5,000 BTC ($96 million). In effect, more and more Bitcoin is being introduced to Lightning Network payment channels worldwide, as Bitcoiners continue to support the growth of the network.Bitcoin Lightning Network capacity.', 'content_type': 'text', 'score': None, 'meta': {'name': 'Bitcoin Lightning Network capacity strikes 5,000 BTC', 'link': 'https://cointelegraph.com/news/bitcoin-lightning-network-capacity-strikes-5-000-btc', 'date': '03-10-2022 12:09', '_split_id': 0}, 'embedding': None, 'id': '978eb271f962c7a61c006225a6f02fea'}>]"
      ]
     },
     "execution_count": 10,
     "metadata": {},
     "output_type": "execute_result"
    }
   ],
   "source": [
    "all_docs_process[2:5]"
   ]
  },
  {
   "cell_type": "code",
   "execution_count": null,
   "id": "35b2bab2",
   "metadata": {},
   "outputs": [],
   "source": []
  },
  {
   "cell_type": "markdown",
   "id": "56f12716",
   "metadata": {
    "jp-MarkdownHeadingCollapsed": true,
    "tags": []
   },
   "source": [
    "## Document Store "
   ]
  },
  {
   "cell_type": "code",
   "execution_count": 12,
   "id": "a294348b",
   "metadata": {},
   "outputs": [],
   "source": [
    "# In-Memory Document Store\n",
    "# document_store = InMemoryDocumentStore()\n",
    "\n",
    "\n",
    "# The FAISSDocumentStore uses a SQL(SQLite in-memory be default) database under-the-hood to store the document text and other meta data. \n",
    "# The vector embeddings of the text are indexed on a FAISS Index that later is queried for searching answers.\n",
    "\n",
    "doc_store_dpr = FAISSDocumentStore(sql_url = \"sqlite:///faiss_document_store_dpr.db\", \n",
    "                                    faiss_index_factory_str=\"Flat\", similarity=\"dot_product\", return_embedding=True)\n",
    "\n",
    "# doc_store_sbertr = FAISSDocumentStore(sql_url = \"sqlite:///faiss_document_store_SB.db\", \n",
    "#                                     faiss_index_factory_str=\"Flat\", similarity=\"dot_product\", return_embedding=False)"
   ]
  },
  {
   "cell_type": "code",
   "execution_count": 13,
   "id": "bdbd9ad4",
   "metadata": {},
   "outputs": [
    {
     "data": {
      "application/vnd.jupyter.widget-view+json": {
       "model_id": "f795b912856f4ba9a1e07f9736412a21",
       "version_major": 2,
       "version_minor": 0
      },
      "text/plain": [
       "Writing Documents:   0%|          | 0/2500 [00:00<?, ?it/s]"
      ]
     },
     "metadata": {},
     "output_type": "display_data"
    },
    {
     "name": "stdout",
     "output_type": "stream",
     "text": [
      "1932\n"
     ]
    },
    {
     "data": {
      "text/plain": [
       "<Document: {'content': 'Bitcoin is the most valuable and well-known cryptocurrency in the world. But this popularity has given way to a lot of traffic on the Bitcoin blockchain, which, in turn, has led to long transaction times. Because of this, Bitcoin transaction accelerators have become widely used. But what is a Bitcoin transaction accelerator, and which is best for you? What Is a Bitcoin Transaction Accelerator? Bitcoin transaction accelerators are websites you can use to hopefully process a Bitcoin transaction faster.', 'content_type': 'text', 'score': None, 'meta': {'name': 'The Best Bitcoin Accelerators to Speed Up Your Transactions', 'link': 'https://www.makeuseof.com/best-bitcoin-accelerators/', 'date': '04-10-2022 11:45', '_split_id': '0'}, 'embedding': None, 'id': '1adc1f10d5d8a889be8079fc401d725e'}>"
      ]
     },
     "execution_count": 13,
     "metadata": {},
     "output_type": "execute_result"
    }
   ],
   "source": [
    "doc_store_dpr.write_documents(all_docs_process)\n",
    "\n",
    "print(doc_store_dpr.get_document_count())\n",
    "\n",
    "doc_store_dpr.get_all_documents()[101]"
   ]
  },
  {
   "cell_type": "code",
   "execution_count": null,
   "id": "665ddb6b",
   "metadata": {},
   "outputs": [],
   "source": [
    "doc_store_sbertr.write_documents(all_docs_process)\n",
    "\n",
    "print(doc_store_sbertr.get_document_count())\n",
    "\n",
    "doc_store_sbertr.get_all_documents()[101]"
   ]
  },
  {
   "cell_type": "markdown",
   "id": "35730106-99b8-4b70-b6e1-1f7107d8ec0c",
   "metadata": {},
   "source": [
    "## Retriever\n"
   ]
  },
  {
   "cell_type": "code",
   "execution_count": 14,
   "id": "32dc564a-ef44-4b1e-8ced-63f2e67723c1",
   "metadata": {},
   "outputs": [
    {
     "name": "stderr",
     "output_type": "stream",
     "text": [
      "INFO:haystack.modeling.utils:Using devices: CPU - Number of GPUs: 0\n",
      "INFO:haystack.modeling.model.language_model:Auto-detected model language: english\n",
      "The tokenizer class you load from this checkpoint is not the same type as the class this function is called from. It may result in unexpected tokenization. \n",
      "The tokenizer class you load from this checkpoint is 'DPRQuestionEncoderTokenizer'. \n",
      "The class this function is called from is 'DPRContextEncoderTokenizerFast'.\n",
      "INFO:haystack.modeling.model.language_model:Auto-detected model language: english\n"
     ]
    }
   ],
   "source": [
    "# Initialize DPR Retriever to encode documents, encode question and query documents\n",
    "\n",
    "dpr_retriever = DensePassageRetriever(\n",
    "    document_store=doc_store_dpr,\n",
    "    query_embedding_model=\"facebook/dpr-question_encoder-single-nq-base\",\n",
    "    passage_embedding_model=\"facebook/dpr-ctx_encoder-single-nq-base\",\n",
    "    use_gpu=False,\n",
    "    embed_title=True,\n",
    ")"
   ]
  },
  {
   "cell_type": "code",
   "execution_count": 15,
   "id": "8f7ec859",
   "metadata": {},
   "outputs": [
    {
     "name": "stderr",
     "output_type": "stream",
     "text": [
      "INFO:haystack.document_stores.faiss:Updating embeddings for 1932 docs...\n"
     ]
    },
    {
     "data": {
      "application/vnd.jupyter.widget-view+json": {
       "model_id": "a5f10e70b2e0487c923712e2755d13ea",
       "version_major": 2,
       "version_minor": 0
      },
      "text/plain": [
       "Updating Embedding:   0%|          | 0/1932 [00:00<?, ? docs/s]"
      ]
     },
     "metadata": {},
     "output_type": "display_data"
    },
    {
     "data": {
      "application/vnd.jupyter.widget-view+json": {
       "model_id": "",
       "version_major": 2,
       "version_minor": 0
      },
      "text/plain": [
       "Create embeddings:   0%|          | 0/1936 [00:00<?, ? Docs/s]"
      ]
     },
     "metadata": {},
     "output_type": "display_data"
    }
   ],
   "source": [
    "# Add / update documents embeddings to index\n",
    "\n",
    "doc_store_dpr.update_embeddings(retriever=dpr_retriever)"
   ]
  },
  {
   "cell_type": "code",
   "execution_count": null,
   "id": "da012756-4938-4ea1-b71f-3430bd9cf441",
   "metadata": {},
   "outputs": [],
   "source": [
    "# Sentence BERT embeddings retriever\n",
    "\n",
    "# SENT_TRANS_MODEL = \"sentence-transformers/all-mpnet-base-v2\"\n",
    "SENT_TRANS_MODEL = \"sentence-transformers/multi-qa-mpnet-base-dot-v1\"\n",
    "\n",
    "embedd_retriever = EmbeddingRetriever(\n",
    "    document_store=doc_store_sbertr,\n",
    "    embedding_model=SENT_TRANS_MODEL,\n",
    "    model_format=\"sentence_transformers\",\n",
    "    use_gpu=True,\n",
    "    #embed_meta_fields=False\n",
    ")"
   ]
  },
  {
   "cell_type": "code",
   "execution_count": null,
   "id": "6a9af0c9-a579-4583-a3cb-b982cb36cb9e",
   "metadata": {},
   "outputs": [],
   "source": [
    "# Important:\n",
    "# Now that we initialized the Retriever, we need to call update_embeddings() to iterate over all previously indexed documents \n",
    "# and update their embedding representation.\n",
    "# While this can be a time consuming operation (depending on the corpus size), it only needs to be done once.\n",
    "# At query time, we only need to embed the query and compare it to the existing document embeddings, which is very fast.\n",
    "\n",
    "doc_store_sbertr.update_embeddings(embedd_retriever)"
   ]
  },
  {
   "cell_type": "code",
   "execution_count": 16,
   "id": "5993279c-47d7-4266-9957-fecd1528f865",
   "metadata": {},
   "outputs": [],
   "source": [
    "# save doc store\n",
    "\n",
    "# doc_store_sbertr.save(\"faiss_index_SB.faiss\")\n",
    "doc_store_dpr.save(\"faiss_index_DPR.faiss\")"
   ]
  },
  {
   "cell_type": "code",
   "execution_count": null,
   "id": "1c6c4c7e-cf5f-4d7b-a372-2e399343e849",
   "metadata": {},
   "outputs": [],
   "source": []
  },
  {
   "cell_type": "code",
   "execution_count": 9,
   "id": "cfbe9fd4",
   "metadata": {},
   "outputs": [],
   "source": [
    "query = \"When will the mining difficulty of bitcoin increase?\"\n",
    "query1 = \"How to use the Lightining Network?\"\n",
    "query2 = \"What are some ethical considerations of Bitcoin?\""
   ]
  },
  {
   "cell_type": "markdown",
   "id": "55af36cd-e49c-415d-92f7-f6c6ae76cd09",
   "metadata": {},
   "source": [
    "DPR retrieve"
   ]
  },
  {
   "cell_type": "code",
   "execution_count": 32,
   "id": "2e4df848",
   "metadata": {
    "collapsed": true,
    "jupyter": {
     "outputs_hidden": true
    },
    "tags": []
   },
   "outputs": [
    {
     "name": "stdout",
     "output_type": "stream",
     "text": [
      "[('According to a study that was published in Scientific Reports, the '\n",
      "  'environmental costs of mining the digital currency Bitcoin are more '\n",
      "  'equivalent to the climatic harm caused by raising beef than they are to the '\n",
      "  'costs of mining gold when expressed as a percentage of the market price.\\n'\n",
      "  'According to the authors, Bitcoin should be compared to considerably more '\n",
      "  'energy-intensive goods like meat, natural gas, and crude oil rather than '\n",
      "  \"being likened to 'digital gold.'Bitcoin had a market cap of around 960 \"\n",
      "  'billion US dollars in December 2021 and accounted for almost 41% of all '\n",
      "  'cryptocurrencies worldwide.',\n",
      "  {'_split_id': '0',\n",
      "   'date': '03-10-2022 13:30',\n",
      "   'link': 'https://www.popularmechanics.co.za/science/bitcoin-as-dangerous-to-the-environment-as-production-of-beef/',\n",
      "   'name': 'Bitcoin as dangerous to the environment as production of beef',\n",
      "   'vector_id': '1447'}),\n",
      " ('Bitcoin is the currency of the Internet: a distributed, worldwide, '\n",
      "  'decentralized digital money. Unlike traditional currencies such as dollars, '\n",
      "  'bitcoins are issued and managed without any central authority whatsoever: '\n",
      "  'there is no government, company, or bank in charge of Bitcoin. As such, it '\n",
      "  'is more resistant to wild inflation and corrupt banks. With Bitcoin, you '\n",
      "  'can be your own bank.',\n",
      "  {'_split_id': '0',\n",
      "   'date': '07-10-2022 13:32',\n",
      "   'link': 'https://www.reddit.com/r/Bitcoin/comments/xxz9du/celsius_published_a_14000page_document_detailing',\n",
      "   'name': \"Celsius published a 14,000-page document detailing every user's \"\n",
      "           'full name, linked to timestamp & amount of each '\n",
      "           'deposit/withdrawal/liquidation',\n",
      "   'vector_id': '1256'}),\n",
      " ('Bitcoin is a major Cryptocurrency that dominates 40% of the cryptocurrency '\n",
      "  \"market share. Most times, this crypto asset determines the market's \"\n",
      "  'sentiments – either bullish or bearish. Many crypto traders and enthusiasts '\n",
      "  'show interest in bitcoin as it offers one of the most reliable investments '\n",
      "  'they can bank on. If crypto traders want to get more bitcoin for '\n",
      "  'themselves, they use special machines to mine bitcoin. This mining '\n",
      "  'operation enables them to become validators, which means they can validate '\n",
      "  'transactions in a block, create transaction blocks, and mint new crypto '\n",
      "  'coins.',\n",
      "  {'_split_id': '0',\n",
      "   'date': '07-10-2022 19:22',\n",
      "   'link': 'https://washingtoncitypaper.com/article/574775/bitcoin-price-is-tanking-because-of-the-environment-impt-token-offers-sustainable-alternative/',\n",
      "   'name': 'Bitcoin Price is Tanking Because of the Environment; IMPT Token '\n",
      "           'Offers Sustainable Alternative',\n",
      "   'vector_id': '1728'}),\n",
      " ('With a thing getting popular there come to some misconceptions about it. It '\n",
      "  'is a well-known proverb that the more popular the more myths about it. One '\n",
      "  'of the most popular items in the digital world is cryptocurrency. Crypto '\n",
      "  'and the technology associated with it are so popular that every second '\n",
      "  'person knows about it. They know cryptocurrency to be a source of easy '\n",
      "  'money. Traders that are associated with the digital market are very aware '\n",
      "  'of the fluctuations that a digital market goes through. He is very well '\n",
      "  'aware that some assets in the digital market will jump to the top or can '\n",
      "  'get buried in low sands within no time.',\n",
      "  {'_split_id': '0',\n",
      "   'date': '06-10-2022 18:00',\n",
      "   'link': 'https://gisuser.com/2022/10/common-myths-and-lies-about-bitcoin/',\n",
      "   'name': 'Common Myths and Lies about Bitcoin',\n",
      "   'vector_id': '1698'}),\n",
      " ('Disclaimer: The opinion expressed here is not investment advice – it is '\n",
      "  'provided for informational purposes only. It does not necessarily reflect '\n",
      "  'the opinion of U.Today. Every investment and all trading involves risk, so '\n",
      "  'you should always perform your own research prior to making decisions. We '\n",
      "  'do not recommend investing money you cannot afford to lose.\\n'\n",
      "  '\\n'\n",
      "  \"As reported by crypto analytics agency Santiment, Bitcoin's price at the \"\n",
      "  'moment seems attractive enough for whales to accumulate. Large holders of '\n",
      "  'the cryptocurrency, whose wallets range in size from 100 to 10,000 BTC, '\n",
      "  'have added 46,173 BTC to their balance since Sept.',\n",
      "  {'_split_id': '0',\n",
      "   'date': '05-10-2022 11:33',\n",
      "   'link': 'https://u.today/bitcoin-whales-smart-tactics-revealed-heres-how-they-act-right-now',\n",
      "   'name': \"Bitcoin Whales' Smart Tactics Revealed, Here's How They Act Right \"\n",
      "           'Now',\n",
      "   'vector_id': '1510'})]\n"
     ]
    }
   ],
   "source": [
    "dpr_ls = [(doc.content, doc.meta) for doc in dpr_retriever.retrieve(query2, top_k=5)]\n",
    "\n",
    "pprint(dpr_ls)"
   ]
  },
  {
   "cell_type": "markdown",
   "id": "fca4f2b7-c257-46db-886f-88ae20e1092a",
   "metadata": {},
   "source": [
    "sbert retrieve"
   ]
  },
  {
   "cell_type": "code",
   "execution_count": 33,
   "id": "565ac447-15ac-45dd-9141-e9bdf5de3299",
   "metadata": {
    "collapsed": true,
    "jupyter": {
     "outputs_hidden": true
    },
    "tags": []
   },
   "outputs": [
    {
     "data": {
      "application/vnd.jupyter.widget-view+json": {
       "model_id": "35f89f76a1f541ca9b7e1617bc976ac7",
       "version_major": 2,
       "version_minor": 0
      },
      "text/plain": [
       "Batches:   0%|          | 0/1 [00:00<?, ?it/s]"
      ]
     },
     "metadata": {},
     "output_type": "display_data"
    },
    {
     "name": "stdout",
     "output_type": "stream",
     "text": [
      "[('It is important to stay safe when navigating the crypto ecosystem. Looking '\n",
      "  'out for projects like Big Eyes Coin with security verification or Bitcoin '\n",
      "  'with their user-verified reports of safety is crucial, as without them, you '\n",
      "  'could be at risk.\\n'\n",
      "  'Scams, rug-pulls and other nefarious activity is an unfortunate side effect '\n",
      "  'of an economy that is run anonymously through the Internet with little '\n",
      "  'governance, making it crucial to know how to spot red flags in projects and '\n",
      "  'which projects to turn to instead for a secure investment.',\n",
      "  {'_split_id': '0',\n",
      "   'date': '08-10-2022 01:04',\n",
      "   'link': 'https://techtelegraph.co.uk/three-crypto-projects-keeping-your-investments-safe-in-2022-bitcoin-big-eyes-coin-and-algorand/',\n",
      "   'name': 'Three Crypto Projects Keeping Your Investments Safe In 2022: '\n",
      "           'Bitcoin, Big Eyes Coin, and Algorand',\n",
      "   'vector_id': '1454'}),\n",
      " ('Bitcoin has come a long way since its inception in 2008, becoming the most '\n",
      "  'popular and valued cryptocurrency of all time. But with time, its '\n",
      "  'inefficiencies were also exposed -- lack of consumer protection leading to '\n",
      "  'money laundering and black market trading. Perhaps the most concerning '\n",
      "  'issue is the huge impact its production has on the environment.\\n'\n",
      "  '\\n'\n",
      "  'Mining Bitcoins could be worse than extracting gold and is as bad as '\n",
      "  \"industries related to cattle farming and crude oil. At least that's what \"\n",
      "  'the latest study published in the journal Scientific Reports suggests.',\n",
      "  {'_split_id': '0',\n",
      "   'date': '04-10-2022 05:53',\n",
      "   'link': 'https://www.gizbot.com/amphtml/internet/features/bitcoin-mining-might-be-as-grave-as-oil-drilling-for-earth-082900.html',\n",
      "   'name': 'Bitcoin Mining Might Be As Grave As Oil Drilling For Earth',\n",
      "   'vector_id': '517'}),\n",
      " ('This is an opinion editorial by Nikita Chashchinskii, a software developer '\n",
      "  'working on BIP300 sidechains.Today, Bitcoin faces a challenge. There are '\n",
      "  'two contradicting requirements necessary for success, and if we want to '\n",
      "  'win, we have to find a way to satisfy both. First there is the requirement '\n",
      "  'for security — it is paramount when billions of dollars are at stake. In '\n",
      "  'the world of security professional paranoia and conservatism are a '\n",
      "  'necessity. Any single change introduced into Bitcoin software is a '\n",
      "  'potential security vulnerability.',\n",
      "  {'_split_id': '0',\n",
      "   'date': '07-10-2022 00:30',\n",
      "   'link': 'https://bitcoinmagazine.com/technical/drivechain-could-ossify-bitcoin-blockchain',\n",
      "   'name': \"Drivechain Could Ossify Bitcoin's Blockchain For Good\",\n",
      "   'vector_id': '1323'}),\n",
      " ('Terms of UsePrivacy PolicyDo Not Sell My InfoHelp CenterAboutRead full '\n",
      "  'article on original websiteIt is important to stay safe when navigating the '\n",
      "  'crypto ecosystem. Looking out for projects like Big Eyes Coin with security '\n",
      "  'verification or Bitcoin with their user-verified reports of safety is '\n",
      "  'crucial, as without them, you could be at risk. Scams, rug-pulls and other '\n",
      "  'nefarious activity is an unfortunate side...After months of bearish action, '\n",
      "  'the cryptocurrency markets are finally looking slightly optimistic.',\n",
      "  {'_split_id': '0',\n",
      "   'date': '03-10-2022 18:20',\n",
      "   'link': 'https://www.newsbreak.com/news/2771177975930/big-eyes-coin-cardano-and-polkadot-are-three-cryptos-with-the-potential-to-become-big-players',\n",
      "   'name': 'Big Eyes Coin, Cardano, And Polkadot, Are Three Cryptos With The '\n",
      "           'Potential to Become Big Players',\n",
      "   'vector_id': '155'}),\n",
      " ('Story at a glance\\n'\n",
      "  '\\n'\n",
      "  'Online crypto currencies can use an enormous amount of energy.\\n'\n",
      "  '\\n'\n",
      "  'To better estimate the environmental impacts of Bitcoin mining, researchers '\n",
      "  \"assessed its ‘social cost of carbon' value.\\n\"\n",
      "  '\\n'\n",
      "  \"Damages from Bitcoin's carbon dioxide emissions are similar to those \"\n",
      "  'inflicted by the beef industry and burning of crude oil.\\n'\n",
      "  '\\n'\n",
      "  'New research puts the climate damage of Bitcoin on par with pollution from '\n",
      "  'the beef production industry and crude oil burned as gasoline, suggesting '\n",
      "  'the crypto currency could worsen climate change if the status quo '\n",
      "  'continues.',\n",
      "  {'_split_id': '0',\n",
      "   'date': '03-10-2022 18:18',\n",
      "   'link': 'https://news.yahoo.com/environmental-toll-bitcoin-similar-beef-181803155.html',\n",
      "   'name': 'Environmental toll of Bitcoin similar to beef production, crude '\n",
      "           'oil: study',\n",
      "   'vector_id': '218'})]\n"
     ]
    }
   ],
   "source": [
    "sb_ls = [(doc.content, doc.meta) for doc in embedd_retriever.retrieve(query2, top_k=5)]\n",
    "\n",
    "pprint(sb_ls)"
   ]
  },
  {
   "cell_type": "markdown",
   "id": "9428d248-6693-4c56-9742-3aa056745024",
   "metadata": {
    "tags": []
   },
   "source": [
    "# CHECKPOINT "
   ]
  },
  {
   "cell_type": "code",
   "execution_count": 5,
   "id": "90109588",
   "metadata": {},
   "outputs": [],
   "source": [
    "document_store = FAISSDocumentStore.load(\"faiss_index_DPR.faiss\", \n",
    "                                         \"faiss_index_DPR.json\")"
   ]
  },
  {
   "cell_type": "markdown",
   "id": "69c81719",
   "metadata": {},
   "source": [
    "## Retriever\n"
   ]
  },
  {
   "cell_type": "code",
   "execution_count": 6,
   "id": "1c36e927",
   "metadata": {},
   "outputs": [
    {
     "name": "stderr",
     "output_type": "stream",
     "text": [
      "INFO:haystack.modeling.utils:Using devices: CPU - Number of GPUs: 0\n",
      "INFO:haystack.modeling.model.language_model:Auto-detected model language: english\n",
      "The tokenizer class you load from this checkpoint is not the same type as the class this function is called from. It may result in unexpected tokenization. \n",
      "The tokenizer class you load from this checkpoint is 'DPRQuestionEncoderTokenizer'. \n",
      "The class this function is called from is 'DPRContextEncoderTokenizerFast'.\n",
      "INFO:haystack.modeling.model.language_model:Auto-detected model language: english\n"
     ]
    }
   ],
   "source": [
    "# Initialize DPR Retriever to encode documents, encode question and query documents\n",
    "\n",
    "dpr_retriever = DensePassageRetriever(\n",
    "    document_store=document_store,\n",
    "    query_embedding_model=\"facebook/dpr-question_encoder-single-nq-base\",\n",
    "    passage_embedding_model=\"facebook/dpr-ctx_encoder-single-nq-base\",\n",
    "    use_gpu=False,\n",
    "    embed_title=True,\n",
    ")"
   ]
  },
  {
   "cell_type": "code",
   "execution_count": 7,
   "id": "7530bdca",
   "metadata": {},
   "outputs": [
    {
     "data": {
      "text/plain": [
       "<Document: {'content': 'A drug trafficking group allegedly used cryptocurrency, including Bitcoin, to launder more than $5.35 million in a scheme that also allegedly involved the distribution of fake prescription drugs and other illegal substances.According to the statement, Khuu is charged with distributing phoney prescription medicines and other banned narcotics across the country using the dark web as a marketing channel.A federal grand jury accused John Khuu, 27, of San Francisco, California, on counts of conspiring to launder money, according to a statement released by the Department of Justice on Friday (Oct.', 'content_type': 'text', 'score': None, 'meta': {'vector_id': '555', 'name': 'Alleged $5.4M Drug Conspiracy Case Using Crypto', 'link': 'https://www.bollyinside.com/news/alleged-5-4m-drug-conspiracy-case-using-crypto', 'date': '08-10-2022 05:18', '_split_id': '0'}, 'embedding': '<embedding of shape (768,)>', 'id': '58eb8dad443a0e269add55baaae7153'}>"
      ]
     },
     "execution_count": 7,
     "metadata": {},
     "output_type": "execute_result"
    }
   ],
   "source": [
    "document_store.get_all_documents()[555] #.embedding.shape"
   ]
  },
  {
   "cell_type": "code",
   "execution_count": null,
   "id": "417ddbdf-0092-435e-be13-aa3dc68e687f",
   "metadata": {},
   "outputs": [],
   "source": []
  },
  {
   "cell_type": "code",
   "execution_count": null,
   "id": "b46b03cf",
   "metadata": {},
   "outputs": [],
   "source": []
  },
  {
   "cell_type": "markdown",
   "id": "55ae598f",
   "metadata": {},
   "source": [
    "# Generator"
   ]
  },
  {
   "cell_type": "markdown",
   "id": "20b6f038",
   "metadata": {
    "jp-MarkdownHeadingCollapsed": true,
    "tags": []
   },
   "source": [
    "## Retrieval Augmented Generator"
   ]
  },
  {
   "cell_type": "code",
   "execution_count": null,
   "id": "5ec90833",
   "metadata": {},
   "outputs": [],
   "source": [
    "# Initialize RAG Generator\n",
    "\n",
    "rag_generator = RAGenerator(\n",
    "    model_name_or_path=\"facebook/rag-token-nq\",\n",
    "    use_gpu=True,\n",
    "    top_k=1,\n",
    "    max_length=100,\n",
    "    min_length=2,\n",
    "    embed_title=True,\n",
    "    num_beams=2,\n",
    ")"
   ]
  },
  {
   "cell_type": "code",
   "execution_count": null,
   "id": "6ff2c85e",
   "metadata": {},
   "outputs": [],
   "source": [
    "Q = query2\n",
    "\n",
    "ans = rag_generator.predict(Q, \n",
    "                            documents=dpr_retriever.retrieve(Q, top_k=5), \n",
    "                            top_k=3)\n",
    "\n",
    "# pprint(ans.get('answers'))\n",
    "pprint(ans)"
   ]
  },
  {
   "cell_type": "code",
   "execution_count": null,
   "id": "447f5167",
   "metadata": {},
   "outputs": [],
   "source": []
  },
  {
   "cell_type": "markdown",
   "id": "dcb5fba8",
   "metadata": {},
   "source": [
    "## T5-large"
   ]
  },
  {
   "cell_type": "code",
   "execution_count": 7,
   "id": "24d15029",
   "metadata": {},
   "outputs": [],
   "source": [
    "class _T5Converter:\n",
    "    \"\"\"\n",
    "    A sequence-to-sequence model input converter (https://huggingface.co/yjernite/bart_eli5) based on the BART architecture fine-tuned on ELI5 dataset (https://arxiv.org/abs/1907.09190).\n",
    "    The converter takes documents and a query as input and formats them into a single sequence that a seq2seq model can use it as input for its generation step.\n",
    "    This includes model-specific prefixes, separation tokens and the actual conversion into tensors. \n",
    "    For more details refer to Yacine Jernite's excellent LFQA contributions at https://yjernite.github.io/lfqa.html\n",
    "    \"\"\"\n",
    "    def __call__(self, tokenizer: PreTrainedTokenizer, query: str, documents: List[Document], top_k: Optional[int] = None) -> BatchEncoding:\n",
    "        conditioned_doc = \"<P> \" + \" <P> \".join([d.content for d in documents])\n",
    "        # print(conditioned_doc)\n",
    "\n",
    "        # concatenate question and support document into T5 input\n",
    "        query_and_docs = \"question: {} context: {}\".format(query, conditioned_doc)\n",
    "        max_source_length = 512\n",
    "\n",
    "        # return tokenizer([(query_and_docs, \"A\")], truncation=True, padding=True, max_length=max_source_length, return_tensors=\"pt\")\n",
    "        return tokenizer([query_and_docs], truncation=True, padding=True, max_length=max_source_length, return_tensors=\"pt\")"
   ]
  },
  {
   "cell_type": "code",
   "execution_count": 8,
   "id": "e3953ea6",
   "metadata": {},
   "outputs": [
    {
     "name": "stderr",
     "output_type": "stream",
     "text": [
      "INFO:haystack.modeling.utils:Using devices: CUDA:0 - Number of GPUs: 1\n",
      "/home/jerm-xps/venv_qna/lib/python3.9/site-packages/transformers/models/t5/tokenization_t5_fast.py:156: FutureWarning: This tokenizer was incorrectly instantiated with a model max length of 512 which will be corrected in Transformers v5.\n",
      "For now, this behavior is kept to avoid breaking backwards compatibility when padding/encoding with `truncation is True`.\n",
      "- Be aware that you SHOULD NOT rely on t5-large automatically truncating your input to 512 when padding/encoding.\n",
      "- If you want to encode/pad to sequences longer than 512 you can either instantiate this tokenizer with `model_max_length` or pass `max_length` when encoding/padding.\n",
      "- To avoid this warning, please instantiate this tokenizer with `model_max_length` set to your preferred value.\n",
      "  warnings.warn(\n"
     ]
    }
   ],
   "source": [
    "# /data/t5-large; google/t5-large-lm-adapt\n",
    "\n",
    "t5_generator = Seq2SeqGenerator(\n",
    "    model_name_or_path=\"t5-large\",\n",
    "    input_converter=_T5Converter(),\n",
    "    use_gpu=True,\n",
    "    top_k=1,\n",
    "    max_length=100,\n",
    "    min_length=2,\n",
    "    num_beams=2,\n",
    ")"
   ]
  },
  {
   "cell_type": "code",
   "execution_count": 10,
   "id": "78cc4a17-cb8b-43e6-9159-de555079f13c",
   "metadata": {},
   "outputs": [],
   "source": [
    "query = \"When will the mining difficulty of bitcoin increase?\"\n",
    "query1 = \"How to use the Lightining Network?\"\n",
    "query2 = \"What are some ethical considerations of Bitcoin?\""
   ]
  },
  {
   "cell_type": "code",
   "execution_count": 11,
   "id": "44ed5f12",
   "metadata": {},
   "outputs": [
    {
     "name": "stderr",
     "output_type": "stream",
     "text": [
      "WARNING:haystack.nodes.answer_generator.transformers:top_k value should not be greater than num_beams, hence setting it to 2\n"
     ]
    },
    {
     "name": "stdout",
     "output_type": "stream",
     "text": [
      "{'answers': [<Answer {'answer': 'more resistant to wild inflation and corrupt banks', 'type': 'generative', 'score': None, 'context': None, 'offsets_in_document': None, 'offsets_in_context': None, 'document_id': None, 'meta': {'doc_ids': ['c5cc43a36291e5923c46b7e83780336a', 'ae53227a774cdcffd656e84ba112500b', 'e62b58a98cf006806cca2ad57e6e8552', 'e3144e1df39c1a70b5db871317867bd2', 'cd5347b76b43ff36e0b177a571140f68'], 'doc_scores': [0.6930337833109571, 0.6887692681935076, 0.6887352327507607, 0.6884563466591075, 0.6867845451601701], 'content': [\"According to a study that was published in Scientific Reports, the environmental costs of mining the digital currency Bitcoin are more equivalent to the climatic harm caused by raising beef than they are to the costs of mining gold when expressed as a percentage of the market price.\\nAccording to the authors, Bitcoin should be compared to considerably more energy-intensive goods like meat, natural gas, and crude oil rather than being likened to 'digital gold.'Bitcoin had a market cap of around 960 billion US dollars in December 2021 and accounted for almost 41% of all cryptocurrencies worldwide.\", 'Bitcoin is the currency of the Internet: a distributed, worldwide, decentralized digital money. Unlike traditional currencies such as dollars, bitcoins are issued and managed without any central authority whatsoever: there is no government, company, or bank in charge of Bitcoin. As such, it is more resistant to wild inflation and corrupt banks. With Bitcoin, you can be your own bank.', \"Bitcoin is a major Cryptocurrency that dominates 40% of the cryptocurrency market share. Most times, this crypto asset determines the market's sentiments – either bullish or bearish. Many crypto traders and enthusiasts show interest in bitcoin as it offers one of the most reliable investments they can bank on. If crypto traders want to get more bitcoin for themselves, they use special machines to mine bitcoin. This mining operation enables them to become validators, which means they can validate transactions in a block, create transaction blocks, and mint new crypto coins.\", 'With a thing getting popular there come to some misconceptions about it. It is a well-known proverb that the more popular the more myths about it. One of the most popular items in the digital world is cryptocurrency. Crypto and the technology associated with it are so popular that every second person knows about it. They know cryptocurrency to be a source of easy money. Traders that are associated with the digital market are very aware of the fluctuations that a digital market goes through. He is very well aware that some assets in the digital market will jump to the top or can get buried in low sands within no time.', \"Disclaimer: The opinion expressed here is not investment advice – it is provided for informational purposes only. It does not necessarily reflect the opinion of U.Today. Every investment and all trading involves risk, so you should always perform your own research prior to making decisions. We do not recommend investing money you cannot afford to lose.\\n\\nAs reported by crypto analytics agency Santiment, Bitcoin's price at the moment seems attractive enough for whales to accumulate. Large holders of the cryptocurrency, whose wallets range in size from 100 to 10,000 BTC, have added 46,173 BTC to their balance since Sept.\"], 'titles': ['Bitcoin as dangerous to the environment as production of beef', \"Celsius published a 14,000-page document detailing every user's full name, linked to timestamp & amount of each deposit/withdrawal/liquidation\", 'Bitcoin Price is Tanking Because of the Environment; IMPT Token Offers Sustainable Alternative', 'Common Myths and Lies about Bitcoin', \"Bitcoin Whales' Smart Tactics Revealed, Here's How They Act Right Now\"]}}>,\n",
      "             <Answer {'answer': 'more resistant to wild inflation and corrupt banks.', 'type': 'generative', 'score': None, 'context': None, 'offsets_in_document': None, 'offsets_in_context': None, 'document_id': None, 'meta': {'doc_ids': ['c5cc43a36291e5923c46b7e83780336a', 'ae53227a774cdcffd656e84ba112500b', 'e62b58a98cf006806cca2ad57e6e8552', 'e3144e1df39c1a70b5db871317867bd2', 'cd5347b76b43ff36e0b177a571140f68'], 'doc_scores': [0.6930337833109571, 0.6887692681935076, 0.6887352327507607, 0.6884563466591075, 0.6867845451601701], 'content': [\"According to a study that was published in Scientific Reports, the environmental costs of mining the digital currency Bitcoin are more equivalent to the climatic harm caused by raising beef than they are to the costs of mining gold when expressed as a percentage of the market price.\\nAccording to the authors, Bitcoin should be compared to considerably more energy-intensive goods like meat, natural gas, and crude oil rather than being likened to 'digital gold.'Bitcoin had a market cap of around 960 billion US dollars in December 2021 and accounted for almost 41% of all cryptocurrencies worldwide.\", 'Bitcoin is the currency of the Internet: a distributed, worldwide, decentralized digital money. Unlike traditional currencies such as dollars, bitcoins are issued and managed without any central authority whatsoever: there is no government, company, or bank in charge of Bitcoin. As such, it is more resistant to wild inflation and corrupt banks. With Bitcoin, you can be your own bank.', \"Bitcoin is a major Cryptocurrency that dominates 40% of the cryptocurrency market share. Most times, this crypto asset determines the market's sentiments – either bullish or bearish. Many crypto traders and enthusiasts show interest in bitcoin as it offers one of the most reliable investments they can bank on. If crypto traders want to get more bitcoin for themselves, they use special machines to mine bitcoin. This mining operation enables them to become validators, which means they can validate transactions in a block, create transaction blocks, and mint new crypto coins.\", 'With a thing getting popular there come to some misconceptions about it. It is a well-known proverb that the more popular the more myths about it. One of the most popular items in the digital world is cryptocurrency. Crypto and the technology associated with it are so popular that every second person knows about it. They know cryptocurrency to be a source of easy money. Traders that are associated with the digital market are very aware of the fluctuations that a digital market goes through. He is very well aware that some assets in the digital market will jump to the top or can get buried in low sands within no time.', \"Disclaimer: The opinion expressed here is not investment advice – it is provided for informational purposes only. It does not necessarily reflect the opinion of U.Today. Every investment and all trading involves risk, so you should always perform your own research prior to making decisions. We do not recommend investing money you cannot afford to lose.\\n\\nAs reported by crypto analytics agency Santiment, Bitcoin's price at the moment seems attractive enough for whales to accumulate. Large holders of the cryptocurrency, whose wallets range in size from 100 to 10,000 BTC, have added 46,173 BTC to their balance since Sept.\"], 'titles': ['Bitcoin as dangerous to the environment as production of beef', \"Celsius published a 14,000-page document detailing every user's full name, linked to timestamp & amount of each deposit/withdrawal/liquidation\", 'Bitcoin Price is Tanking Because of the Environment; IMPT Token Offers Sustainable Alternative', 'Common Myths and Lies about Bitcoin', \"Bitcoin Whales' Smart Tactics Revealed, Here's How They Act Right Now\"]}}>],\n",
      " 'query': 'What are some ethical considerations of Bitcoin?'}\n"
     ]
    }
   ],
   "source": [
    "Q = query2\n",
    "\n",
    "ans = t5_generator.predict(Q, \n",
    "                           documents=dpr_retriever.retrieve(Q, top_k=5), \n",
    "                           top_k=3)\n",
    "\n",
    "# pprint(ans.get('answers'))\n",
    "pprint(ans)"
   ]
  },
  {
   "cell_type": "code",
   "execution_count": 29,
   "id": "57569b87-e638-48de-b080-63a9a9754b45",
   "metadata": {},
   "outputs": [
    {
     "data": {
      "text/plain": [
       "'more resistant to wild inflation and corrupt banks'"
      ]
     },
     "execution_count": 29,
     "metadata": {},
     "output_type": "execute_result"
    }
   ],
   "source": [
    "ans['answers'][0].answer"
   ]
  },
  {
   "cell_type": "code",
   "execution_count": 27,
   "id": "68e93ec3-98e8-4b2a-b2d4-6b2d57cbb084",
   "metadata": {},
   "outputs": [
    {
     "data": {
      "text/plain": [
       "[\"According to a study that was published in Scientific Reports, the environmental costs of mining the digital currency Bitcoin are more equivalent to the climatic harm caused by raising beef than they are to the costs of mining gold when expressed as a percentage of the market price.\\nAccording to the authors, Bitcoin should be compared to considerably more energy-intensive goods like meat, natural gas, and crude oil rather than being likened to 'digital gold.'Bitcoin had a market cap of around 960 billion US dollars in December 2021 and accounted for almost 41% of all cryptocurrencies worldwide.\",\n",
       " 'Bitcoin is the currency of the Internet: a distributed, worldwide, decentralized digital money. Unlike traditional currencies such as dollars, bitcoins are issued and managed without any central authority whatsoever: there is no government, company, or bank in charge of Bitcoin. As such, it is more resistant to wild inflation and corrupt banks. With Bitcoin, you can be your own bank.',\n",
       " \"Bitcoin is a major Cryptocurrency that dominates 40% of the cryptocurrency market share. Most times, this crypto asset determines the market's sentiments – either bullish or bearish. Many crypto traders and enthusiasts show interest in bitcoin as it offers one of the most reliable investments they can bank on. If crypto traders want to get more bitcoin for themselves, they use special machines to mine bitcoin. This mining operation enables them to become validators, which means they can validate transactions in a block, create transaction blocks, and mint new crypto coins.\",\n",
       " 'With a thing getting popular there come to some misconceptions about it. It is a well-known proverb that the more popular the more myths about it. One of the most popular items in the digital world is cryptocurrency. Crypto and the technology associated with it are so popular that every second person knows about it. They know cryptocurrency to be a source of easy money. Traders that are associated with the digital market are very aware of the fluctuations that a digital market goes through. He is very well aware that some assets in the digital market will jump to the top or can get buried in low sands within no time.',\n",
       " \"Disclaimer: The opinion expressed here is not investment advice – it is provided for informational purposes only. It does not necessarily reflect the opinion of U.Today. Every investment and all trading involves risk, so you should always perform your own research prior to making decisions. We do not recommend investing money you cannot afford to lose.\\n\\nAs reported by crypto analytics agency Santiment, Bitcoin's price at the moment seems attractive enough for whales to accumulate. Large holders of the cryptocurrency, whose wallets range in size from 100 to 10,000 BTC, have added 46,173 BTC to their balance since Sept.\"]"
      ]
     },
     "execution_count": 27,
     "metadata": {},
     "output_type": "execute_result"
    }
   ],
   "source": [
    "ans['answers'][0].meta.get('content')"
   ]
  },
  {
   "cell_type": "code",
   "execution_count": null,
   "id": "2ed84fd8",
   "metadata": {},
   "outputs": [],
   "source": []
  },
  {
   "cell_type": "markdown",
   "id": "6a95144f",
   "metadata": {},
   "source": [
    "## Pipeline"
   ]
  },
  {
   "cell_type": "code",
   "execution_count": 29,
   "id": "87e63cf6",
   "metadata": {},
   "outputs": [],
   "source": [
    "QUESTIONS = [\n",
    "    \"When was Bitcoin created?\",\n",
    "    \"How to use the Lightining Network?\",\n",
    "    \"What is the process of Bitcoin mining?\",\n",
    "    \"How is Bitcoin different from Ethereum?\",\n",
    "    \"What is Binance?\",\n",
    "    \"What are Bitcoin whales?\",\n",
    "    \"What was Bitcoin's price in 2020?\",\n",
    "    \"How much was Bitcoin's price in 2021?\",\n",
    "    \"Who is the founder of Ethereum?\",\n",
    "    \"What is ADA?\",\n",
    "    \"How did the Terra blockchain collaspe?\"\n",
    "]"
   ]
  },
  {
   "cell_type": "markdown",
   "id": "44fb2acc-fccf-445d-9891-8e8269b3e8e2",
   "metadata": {},
   "source": [
    "### T5"
   ]
  },
  {
   "cell_type": "markdown",
   "id": "94ac9b58-da86-41f0-9117-89b9d29ff0a1",
   "metadata": {},
   "source": [
    "SB retriever\n"
   ]
  },
  {
   "cell_type": "code",
   "execution_count": 70,
   "id": "5945421f-8ba9-4fb7-92a8-a31bb159015f",
   "metadata": {
    "collapsed": true,
    "jupyter": {
     "outputs_hidden": true
    },
    "tags": []
   },
   "outputs": [
    {
     "data": {
      "application/vnd.jupyter.widget-view+json": {
       "model_id": "ef15447c1b4c446f9a0f85f841484ac9",
       "version_major": 2,
       "version_minor": 0
      },
      "text/plain": [
       "Batches:   0%|          | 0/1 [00:00<?, ?it/s]"
      ]
     },
     "metadata": {},
     "output_type": "display_data"
    },
    {
     "name": "stdout",
     "output_type": "stream",
     "text": [
      "\n",
      "Query: When was Bitcoin created?\n",
      "Answers:\n",
      "[   <Answer {'answer': 'January 3, 2009', 'type': 'generative', 'score': None, 'context': None, 'offsets_in_document': None, 'offsets_in_context': None, 'document_id': None, 'meta': {'doc_ids': ['e78f855ac58aef6ca16f380a6667e07b', '159700ae048958151db904999f347ecc', 'b67559552250c34a8cc12af06ccdc6da', 'de2e2bc7d6532714d5ad2334942149c9', '6b62132efdd8d476494cdfd74228a5f3'], 'doc_scores': [0.5637134904684233, 0.557681140786695, 0.5531961057522989, 0.553056531842014, 0.5528918234010709], 'content': ['January 3, 2009 is not an ordinary date, but the beginning of a revolution that changed the course of money as we know it. Satoshi Nakamoto created the Bitcoin network by mining the first block of the chain, called the Genesis block. Bitcoin started its journey as A Peer-to-Peer Electronic Cash System and now has a trillion-dollar market capitalization with thousands of different cryptocurrencies that followed. In fact, in November 2021, the total market capitalization of all cryptocurrencies exceeded $3 trillion.', \"For those who don't know, BTC is the code for Bitcoin. BTC was founded in and around 2009 by Satoshi Nakamoto. It is a decentralized digital currency that does not require a central bank or single administrator and can be transmitted from user to user over the peer-to-peer Bitcoin network without intermediaries. Transactions are verified by the network nodes through cryptography and recorded on a publicly distributed ledger called a blockchain. However, while trading Bitcoin it is also important to know about the popularity of bitcoin.\", \"By Lyle Opolentisima | source:Here Oct 4th, 2022 The history of the world's first crypto began in 2008, when its creator, a Japanese named Satoshi Nakamoto, published the Bitcoin protocol openly.\\nFounder Holds Bitcoins worth $1.1 billion\\nSatoshi Nakamoto, the founder of bitcoins is said to hold 1 million bitcoins. Today, the value of these bitcoins stands at $1.1 billion.\\nNobel Prize for Satoshi Nakamoto\\nIn 2015 the bitcoin founder Satoshi Nakamoto got nominated for a Nobel Prize in Economic Science!Bitcoin is controlled by its users, not by any single entity\\nThe digital currency is not controlled by a bank or any single financial institute, unlike other currencies of this world.\", 'Released on April 31st, 2009, Bitcoin is a cryptocurrency (a.k.a. digital money) that allows users to facilitate pseudonymous transactions over the internet. Unlike Fiat money, Bitcoin is decentralized, which means that it is not regulated by a central governing body. Bitcoin users can, therefore, facilitate peer-to-peer cash transactions without the approval of any financial institution.\\nGamers enjoy numerous benefits by using Bitcoin. For instance, this cryptocurrency allows you to enjoy minimum transaction fees when transacting at your favorite bookie.', \"Bitcoin is popular, and presumably many investors might have weighed the option of putting money into it. Many might have decided against it, but there are also loyal supporters, also known as 'hodlers'. But all of this makes Bitcoin and later cryptocurrencies like Ether speculative assets. Was this why the creator(s) of Bitcoin introduced this blockchain-based 'currency' in 2009?\\nThere's a reason cryptocurrencies have 'currency' in their name. The first half, crypto, refers to cryptography or the technique of storing information and data.\"], 'titles': ['Top 5 Use Cases of Bitcoin and Cryptocurrencies', 'BTC Volatility Seems to Not End. Can BTC Rise to its Glory Again?', 'The Appearance of Bitcoin', 'What US Bookie Sites Can You Use Crypto On?', 'Can Bitcoin be used like real money?']}}>]\n"
     ]
    },
    {
     "data": {
      "application/vnd.jupyter.widget-view+json": {
       "model_id": "dab81ccf4d7845ad94a3b33e0e68b034",
       "version_major": 2,
       "version_minor": 0
      },
      "text/plain": [
       "Batches:   0%|          | 0/1 [00:00<?, ?it/s]"
      ]
     },
     "metadata": {},
     "output_type": "display_data"
    },
    {
     "name": "stdout",
     "output_type": "stream",
     "text": [
      "\n",
      "Query: How to use the Lightining Network?\n",
      "Answers:\n",
      "[   <Answer {'answer': 'send and receive payments on the Lightning Network', 'type': 'generative', 'score': None, 'context': None, 'offsets_in_document': None, 'offsets_in_context': None, 'document_id': None, 'meta': {'doc_ids': ['27cd0beeb996647097d0f2a71f42998f', '634567283bec87c354ca5b7a13798a38', '60f8ff7cde10b42596184c40a9768db9', 'b138da8a414ccb813888ebf5296084c0', '75262b2512dc66f1f765aa9cf1f45c65'], 'doc_scores': [0.5639476669566864, 0.549129193527416, 0.5476153015536874, 0.546535798698747, 0.5459032613460874], 'content': ['Lighting Network is a scaling solution that allows transactions on the Bitcoin network to be faster and cheaper. With a larger Lightning Network capacity, more Bitcoin can be tran …\\nRead Full Story', 'Lightning Labs is building the ability to use stablecoins on the Lightning Network using the new Taro protocol due to demand in emerging markets.', \"Source: Neutronpay\\n\\nNeutronpay, a Vancouver, Canada and Ho Chi Minh City, Vietnam based startup that enables consumers and businesses to send and receive payments on Bitcoin's Lightning Network raised USD$2.25M in Seed funding on June 1, 2022.\\n\\nThe Lightning Network is a 'layer 2' payment protocol which sits atop Bitcoin and facilitates instantly settled payments measured in milliseconds, is capable of millions of transactions per second and allows for exceptionally low fees, which all combined makes it the ideal payment network of any type, period.\", \"Terms of UsePrivacy PolicyDo Not Sell My InfoHelp CenterAboutThe American multinational fast food chain McDonald's has started accepting payments in Bitcoin and Tether in Switzerland's city of Lugana, populated by around 63,000 people. The announcement comes in a tweet by Bitcoin magazine on October 3. And it posted a video in which a customer ordered food using McDonald's kiosk and paid for it using a digital wallet app on mobile. The credit card machine used to scan the QR code to proceed with payment was labeled with Bitcoin and Tether.\", 'October 3, 2022 (Investorideas.com Newswire) According to data from BanklessTimes.com, Bitcoin held in public wallets has increased 96% within the last 12 months. Companies like Cash App, BitPay, Kraken, and Robinhood are leading the adoption by relying on LN. Speaking on the report, Jonathan Merry, CEO of BanklessTimes, said, \"Bitcoin\\'s original intent was as a peer-to-peer payment network. The Lightning Network (LN), a second-layer protocol designed to ease micropayment channels at scale, restores this intent.'], 'titles': ['Bitcoin Lightning Network Capacity Surges By 25% in Just 4 Months', \"Why It's Important To Build Stablecoins On Bitcoin\", 'Lightning network startup Neutronpay raises $2.25m', 'Bitcoin Price: Has BTC Reached The Final Stages Of The Bear Market?', 'Bitcoin Capacity Held in Public Channels Rose by 96% In the Last 1 Year']}}>]\n"
     ]
    },
    {
     "data": {
      "application/vnd.jupyter.widget-view+json": {
       "model_id": "414751dcdcbf4d94a6c86d4686cc8ec0",
       "version_major": 2,
       "version_minor": 0
      },
      "text/plain": [
       "Batches:   0%|          | 0/1 [00:00<?, ?it/s]"
      ]
     },
     "metadata": {},
     "output_type": "display_data"
    },
    {
     "name": "stdout",
     "output_type": "stream",
     "text": [
      "\n",
      "Query: What is Bitcoin mining?\n",
      "Answers:\n",
      "[   <Answer {'answer': 'process used to generate new coins and verify new transactions', 'type': 'generative', 'score': None, 'context': None, 'offsets_in_document': None, 'offsets_in_context': None, 'document_id': None, 'meta': {'doc_ids': ['da3d945c6fa1283e0701d984dce654ad', '6c2792ac0167a5155e69fe5c162bb271', 'b956b8ce0694edd16d5ea23adf6f08c', '65d306259283584b6307fd16c1263c54', 'e62b58a98cf006806cca2ad57e6e8552'], 'doc_scores': [0.571245242044047, 0.5688219552394569, 0.5676323396865649, 0.5611203927050911, 0.5607578647151138], 'content': ['Bitcoin mining is the process used to generate new coins and verify new transactions. The process involves vast, decentralized networks of computers …\\nRead Full Story', \"Bitcoin mining is the process used to generate new coins and verify new transactions. The process involves vast, decentralized networks of computers around the world that verify and secure blockchains, the virtual ledgers that document cryptocurrency transactions. In return for contributing their computing power, miners are rewarded with new coins. The process ultimately requires a lot of energy to perform, which is where power companies come in. 'Bitcoin mining can help the energy sector,' Andrew Webber, founder and CEO of Digital Power Optimization (DPO), said as a guest on The POWER Podcast.\", \"Bitcoin mining is the process used to generate new coins and verify new transactions. The process involves vast, decentralized networks of computers around the world that verify and secure blockchains, the virtual ledgers that document cryptocurrency transactions. In exchange for their computing power, miners are rewarded with new coins. The process ultimately requires a lot of energy to operate, and that's where power companies come in.\\n'Bitcoin mining can help the energy sector,' said Andrew Webber, Founder and CEO of Digital Power Optimization (DPO), as a guest on The POWER Podcast.\", 'Terms of UsePrivacy PolicyDo Not Sell My InfoHelp CenterAboutThe amount of processing and computing power being given to the network through mining is referred to as Bitcoin\\'s hash rate. A fixed-length alphanumeric code representing any length of words, messages, or data is called a \"hash.\"Blockchain technology is the foundation of Bitcoin (BTC) and many other cryptocurrencies....Bitcoin (BTC), along with other cryptocurrencies, has provided people with a venue to earn passive income, making money without any active involvement.', \"Bitcoin is a major Cryptocurrency that dominates 40% of the cryptocurrency market share. Most times, this crypto asset determines the market's sentiments – either bullish or bearish. Many crypto traders and enthusiasts show interest in bitcoin as it offers one of the most reliable investments they can bank on. If crypto traders want to get more bitcoin for themselves, they use special machines to mine bitcoin. This mining operation enables them to become validators, which means they can validate transactions in a block, create transaction blocks, and mint new crypto coins.\"], 'titles': ['How Bitcoin Mining Can Help Power Companies Optimize Generation Assets', 'How Bitcoin Mining Can Help Power Companies Optimize Generation Assets', 'How Bitcoin Mining Can Help Power Utilities Optimize Generation Assets', 'Bitcoin price sees first October spike above $20K as daily gains hit 5%', 'Bitcoin Price is Tanking Because of the Environment; IMPT Token Offers Sustainable Alternative']}}>]\n"
     ]
    },
    {
     "data": {
      "application/vnd.jupyter.widget-view+json": {
       "model_id": "57e06740256d44ecb7bab2fb2e896dad",
       "version_major": 2,
       "version_minor": 0
      },
      "text/plain": [
       "Batches:   0%|          | 0/1 [00:00<?, ?it/s]"
      ]
     },
     "metadata": {},
     "output_type": "display_data"
    },
    {
     "name": "stdout",
     "output_type": "stream",
     "text": [
      "\n",
      "Query: What is the difference between Bitcoin and Ethereum?\n",
      "Answers:\n",
      "[   <Answer {'answer': 'Bitcoin revolutionized and proved the concept of artificial digital scarcity, but now other cryptocurrencies rule the ball', 'type': 'generative', 'score': None, 'context': None, 'offsets_in_document': None, 'offsets_in_context': None, 'document_id': None, 'meta': {'doc_ids': ['ae9ea104155ec5216cec696a4bc8d004', 'a814905d65efac13bb2e787a824d5181', '8a08d62047fd0597670f655eb0f2efa9', 'd7f6780685c3c3d241bbcec2ae96879e', '69ad142dd7184b01629ece65266768d2'], 'doc_scores': [0.5571493068961343, 0.5555615101339246, 0.5540567330375912, 0.5535426304547756, 0.5534943617496249], 'content': ['In explaining the difference between Bitcoin and other cryptocurrencies, Matt Hamilton, former director of development at Ripple, approached the answer from a nonstandard angle.\\nThus, the developer stated that the main difference is that Bitcoin revolutionized and proved the concept of artificial digital scarcity, but now other cryptocurrencies rule the ball. All new developments, innovations and business models are now being built and shaped not based on Bitcoin, said Hamilton.\\n\\nEasy: Bitcoin was revolutionary and proved the concept of artificial digital scarcity.', \"The cryptocurrency world is at an inflection point. The Merge is here. When complete, Ethereum's consensus mechanism will have changed from a modified version of Bitcoin's Proof of Work to its own Proof of Stake. Since its inception, Ethereum was never meant to be like Bitcoin. Ethereum's focus has always been on interoperability, composability, and scalability. It was always meant to scale to a PoS chain when the moment presented itself.\", 'Bitcoin is a currency that is preferred by most people in the world of cryptocurrency. This network is capable of issuing as well as transmitting bitcoins. It is a digital protocol platform that has emerged as a purely P2P and an online network usually consisting of nodes or computers of miners. All bitcoin transactions are time-stamped and known as the blockchain record before the block is publicly displayed in a digital ledger.\\nIt is a process through which blockchain technology helps to create a transaction history for all bitcoins.', 'Bitcoin is the founding father of the digital revolution and trading in reality. After bitcoin was introduced, many new terms came into existence. The terms blockchain, mining, and Crypto asset were new to the world when bitcoin was introduced to the physical world. Within a decade, bitcoin became so popular that people started using bitcoin and cryptocurrency interchangeably. Bitcoin became the soul of the crypto network and is still living in the hearts of investors. Every person who is active in the digital market is very well aware of bitcoin and its highly volatile nature.', 'There is no denying that cryptocurrency and traditional bidding have big differences. Crypto is entirely virtual, exists on a blockchain, is largely unregulated, and can be very difficult to understand. But one similarity that cryptocurrencies and physical currencies share is that they both need to be kept in a wallet. All cryptocurrencies require wallets, including Bitcoin, but how do you get one and what should you pay attention to when choosing a cryptocurrency wallet? Hardware vs software wallets\\n\\nIn crypto, you get both hardware and software wallets.'], 'titles': [\"Ex-Ripple Top Developer Tells Sad Truth About Bitcoin, Here's What It Is\", 'The cryptocurrency world is at an inflection point.', 'What May Be the Primary Concerns for Bitcoin Investors?', \"What is Bitcoin mining's difficulty?\", 'How to Get a Bitcoin Wallet to Hold Your Crypto']}}>]\n"
     ]
    },
    {
     "data": {
      "application/vnd.jupyter.widget-view+json": {
       "model_id": "8d72bde03d11404a8ee9c7bb8aa8a4f2",
       "version_major": 2,
       "version_minor": 0
      },
      "text/plain": [
       "Batches:   0%|          | 0/1 [00:00<?, ?it/s]"
      ]
     },
     "metadata": {},
     "output_type": "display_data"
    },
    {
     "name": "stdout",
     "output_type": "stream",
     "text": [
      "\n",
      "Query: What is Binance?\n",
      "Answers:\n",
      "[   <Answer {'answer': 'cryptocurrency exchange giant', 'type': 'generative', 'score': None, 'context': None, 'offsets_in_document': None, 'offsets_in_context': None, 'document_id': None, 'meta': {'doc_ids': ['274207503808a926dd5b7adc38e77065', '5d2b05314c4a5b94a7994b400624b6e0', '15f60124d1995b2d3fe9ac27c77e605d', '4e47e8f947712d7212c6ffb2258903b2', 'a66c459a7c4de842e5e941a0a33450af'], 'doc_scores': [0.5518496030809471, 0.5513631079408906, 0.5509074803817374, 0.548587592408547, 0.5479703706172456], 'content': ['Joaquin Victor Tacla, Tech Times 07 October 2022, 07:10 am Binance, a cryptocurrency exchange giant, momentarily shut down its blockchain network after cyber hackers stole BNB tokens valued at about $570 million, as reported first by\\xa0CNBC. The crypto company reported on Thursday, Oct. 6, that a\\xa0cross-chain bridge\\xa0connecting with its BNB Chain had been compromised, allowing hackers to remove BNB coins from the network.\\xa0 This form of cyber hacking is called cross-chain bridges because they enable the movement of tokens from one blockchain to another.', \"BNB Chain, Binance's native contracts\\xa0blockchain, suspended operations today after discovering an exploit that saw a large number of new BNB assets minted. The company's estimates said the impact was between U.S.$70-110 million in BNB—which it is working to identify and contain before the hacker can gain control of funds.\\nIn just a few years, BNB has become the world's fourth highest ranked digital asset (including Tether), with a market cap of U.S.$46.68 billion. BNB's price dropped from $293 to $282 after the news broke, though, at press time, it had recovered slightly.\", 'The third quarter of 2022 was quite eventful for the cryptocurrency market. As the crypto prices continued to plunge, Binance, the largest exchange by trading volumes, announced eliminating trading fees for 13 Bitcoin trading pairs and later removed fees for the ETH-BUSD trading pair. However, there are now questions on how long Binance can sustain these changes.\\n\\nBinance eliminates trading fees\\n\\nThe action of Binance removing the trading fees was of an unprecedented scale, given that the Binance BTC-USDT trading pair is the most liquid in the crypto market.', \"An October 6th hack led to the theft of 2 million BNB coins from Binance equivalent to $570 millionIn the wake of the theft, the industry is attempting to answer the vulnerabilities\\n\\nGet Your Free Bitcoin Forecast\\n\\nOn Thursday, October 6, a hacker stole 2mn BNB coins from Binance, the world's largest cryptocurrency exchange. The initial total value of the BNB hack was $570mn.Despite the scale of the theft, the broader crypto market seemed to absorb the news with limited concern. From Bitcoin (BTCUSD) the most ubiquitous cryptocurrency, the news coincided with the slide back below 20,000, but there was little deviation from normal market movement.\", \"Binance strikes again! Kazakhstan becomes latest country to grant licence Zodia Markets turn to Miano as CTO ‘Buying Bitcoin for $1 then selling for $75 was a beautiful sensation Re-imagining the route to market for film and TV through NFT series on Cardano Celebrity names behind star-studded crypto capital fund WWVentures Planet Crypto: Where's WalDo Kwon? Binance officially registered in New Zealand Matt Hancock to deliver keynote speech at Crypto AM Summit and Awards 2022\"], 'titles': [\"Binance's BNB Chain Resumes Operations After Losing $570 Million in Cross-Chain Bridges\", 'Binance suspends BNB Chain after hacker creates millions of dollars in new coins', 'How Long Can Binance Forego Trading Profits with its No Fee Market Share Grab', '$100 Million Stolen From Binance in Hack, Bitcoin Brushes Off the News', 'Bitcoin now more correlated to stocks and still has value in traditional portfolios']}}>]\n"
     ]
    },
    {
     "data": {
      "application/vnd.jupyter.widget-view+json": {
       "model_id": "bf458aad5a604388b437170f5236cbc6",
       "version_major": 2,
       "version_minor": 0
      },
      "text/plain": [
       "Batches:   0%|          | 0/1 [00:00<?, ?it/s]"
      ]
     },
     "metadata": {},
     "output_type": "display_data"
    },
    {
     "name": "stdout",
     "output_type": "stream",
     "text": [
      "\n",
      "Query: What are Bitcoin whales?\n",
      "Answers:\n",
      "[   <Answer {'answer': 'crypto whales', 'type': 'generative', 'score': None, 'context': None, 'offsets_in_document': None, 'offsets_in_context': None, 'document_id': None, 'meta': {'doc_ids': ['af27664cc144a92deb1ebf58a3892ae5', 'd859c798bbaf2551f4958487b7ee5be4', 'f7fbb342e39a90969ad4b4c390aa00e', 'cd5347b76b43ff36e0b177a571140f68', '3a3740cbcb81597b9c9fd0d2453ad0c4'], 'doc_scores': [0.5643794611174318, 0.5618503706323196, 0.5611575136922107, 0.5610819417244418, 0.5609328891011023], 'content': ['Bitcoin (BTC) worth millions of dollars is suddenly being purchased by a crypto whale.In early Q4, 2022, Bitcoin, like all the other major cryptocurrencies, failed to end its recession.Some whales, though, are certain that dips are for purchase and the statistics of an unusual address on the Bitcoin network were revealed by anonymous Bitcoin analyst and investor @Capital15C on Twitter.The unknown address began making a lot of aggressive purchases of digital gold on September 17, 2022. They typically purchase BTC for 100–200 coins.', 'A Bitcoin whale has sold 70,000 BTC and remains sidelined during the current downtrend. Bitcoin price hovers near the summertime lows prompting investors to question if buying a dip is worth the risk.\\nRead Full Story', '1 hour ago\\nFlash News\\nCoinpedia\\n132\\nPrint this Page\\n\\nThe post Fear Rise in Crypto Market With Unusual Bitcoin Whale Behaviour appeared first on Coinpedia Fintech News Bitcoin (BTC) worth millions of dollars is suddenly being purchased by a crypto whale.In early Q4, 2022, Bitcoin, like all the other major cryptocurrencies, failed to end its recession. Some whales, though, are certain that dips are for purchase and the statistics of an unusual address on the Bitcoin network were revealed by anonymous Bitcoin analyst and investor @Capital15C on Twitter.', \"Disclaimer: The opinion expressed here is not investment advice – it is provided for informational purposes only. It does not necessarily reflect the opinion of U.Today. Every investment and all trading involves risk, so you should always perform your own research prior to making decisions. We do not recommend investing money you cannot afford to lose.\\n\\nAs reported by crypto analytics agency Santiment, Bitcoin's price at the moment seems attractive enough for whales to accumulate. Large holders of the cryptocurrency, whose wallets range in size from 100 to 10,000 BTC, have added 46,173 BTC to their balance since Sept.\", 'Just like all the other major cryptocurrencies, Bitcoin (BTC) has failed to end its bearish recession in early Q4, 2022. However, some whales are sure that dips are for buying.\\n$500 million\\xa0whale keeps buying: Analyst\\nAnonymous Bitcoin (BTC) analyst and investor who goes by\\xa0@Capital15C on Twitter has shared the statistics of an unusual address on the Bitcoin (BTC) network.\\n\\nBuy #Bitcoin like this guy 👇 pic.twitter.com/v3hf1B5a2e\\n— CC15Capital 🇺🇸 (@Capital15C) October 8, 2022\\nStarting Sept.\\xa017, 2022, they have been\\xa0aggressively purchasing digital gold.'], 'titles': ['Fear Rise in Crypto Market With Unusual Bitcoin Whale Behaviour – Coinpedia Fintech News', \"This Bitcoin whale sold all of its' 70,000 BTC and has not looked back since\", 'Fear Rise in Crypto Market With Unusual Bitcoin Whale Behaviour', \"Bitcoin Whales' Smart Tactics Revealed, Here's How They Act Right Now\", 'Mysterious Bitcoin Whale Allocated Almost 5,000 BTC Since Mid-September']}}>]\n"
     ]
    },
    {
     "data": {
      "application/vnd.jupyter.widget-view+json": {
       "model_id": "7306ddbba54e46649e19412ea8f1a006",
       "version_major": 2,
       "version_minor": 0
      },
      "text/plain": [
       "Batches:   0%|          | 0/1 [00:00<?, ?it/s]"
      ]
     },
     "metadata": {},
     "output_type": "display_data"
    },
    {
     "name": "stdout",
     "output_type": "stream",
     "text": [
      "\n",
      "Query: What was Bitcoin's price in 2020?\n",
      "Answers:\n",
      "[   <Answer {'answer': '$20k', 'type': 'generative', 'score': None, 'context': None, 'offsets_in_document': None, 'offsets_in_context': None, 'document_id': None, 'meta': {'doc_ids': ['e6b6cfec233d9202d470f7ccd9ca3e20', '963dc93ae03d5e4e8936321a56f2a555', 'a0a73947090a58c905098f7c3e354ecb', '13129967218780584891ae9bad8d07b4', '85369e9d635ec94e48daa98f2f7d0ddd'], 'doc_scores': [0.561720021880423, 0.5615765767571395, 0.5606089573617276, 0.5605384815476503, 0.5599611084072811], 'content': [\"The Bitcoin price is currently trading just under $20k, and many analysts believe that there isn't much resistance before it breaks back over this crucial area and overcomes it.\\n\\nBitcoin will break $20k again\\n\\nAs the ATH during the 2018 bull market, the $20k level is a significant one, and one that investors are extremely interested in breaking above once more.\\n\\nIn an inflationary environment, even with interest rates rising, Bitcoin is well-poised to once again reclaim $20k and break upwards from there.\", \"51 minutes ago\\nFlash News\\nCoinpedia\\n108\\nPrint this Page\\n\\nThe post Bitcoin (BTC) Price Won't Surge Above $30K in 2022 – Predicts Mike Novogratz appeared first on Coinpedia Fintech News On Tuesday, Bitcoin finally overcame the psychological threshold of the $20,000 milestone after nearly ten days. BTC experienced a steep decline after reaching a peak of $22,540 earlier in September. While analysts are positive about BTC's journey ahead, Mike Novogratz's forecast of Bitcoin's price is quite optimistic.\", \"TevarakNobody seems to be talking about Bitcoin (BTC-USD) anymore. The biggest cryptocurrency has not moved much in the last three months after a wild first half of 2022. Remarkably, long-dated Treasuries were just about as volatile as Bitcoin during the latter half of September as the market grappled with intense uncertainty about what central bankers around the world will do next. Perhaps the latest hot coin is the 30-year UK Gilt! But seriously, since the middle of June, Bitcoin's price range is roughly $17,000 to $25,000.\", \"On Tuesday, Bitcoin finally overcame the psychological threshold of the $20,000 milestone after nearly ten days. BTC experienced a steep decline after reaching a peak of $22,540 earlier in September. While analysts are positive about BTC's journey ahead, Mike Novogratz's forecast of Bitcoin's price is quite optimistic.\\xa0Chief Executive Officer of Galaxy Investment Partners Novogratz has always supported Bitcoin investment (BTC). He does not, however, think that BTC will make a significant comeback by the end of 2022.\", \"2 hours ago\\nCrypto World News\\nNewsBTC\\n138\\nPrint this Page\\n\\nIn this episode of NewsBTC's daily technical analysis videos,\\xa0we compare Bitcoin price with the S&P 500, WTI Crude Oil, Gold, and the almighty dollar through the DXY. Take a look at the video below: VIDEO: Bitcoin Price Analysis (BTCUSD): October 4, 2022 Bitcoin price is back over $20,000 and you can finally feel the sentiment starting to change. The change is happening all across the rest of finance, and not just crypto, which is the focal point of this video.\"], 'titles': ['The Bitcoin Price is Ready for New Assault to Break $20k Resistance', \"Bitcoin (BTC) Price Won't Surge Above $30K in 2022 – Predicts Mike Novogratz\", 'Bitcoin Rallies During Q3, GBTC Continues To Struggle', \"Bitcoin (BTC) Price Won't Surge Above $30K in 2022\", 'Bitcoin Bounce Coincides With Possible Macro Reversal']}}>]\n"
     ]
    },
    {
     "data": {
      "application/vnd.jupyter.widget-view+json": {
       "model_id": "4af72bacf9f44ef3ac40150ff8e7e092",
       "version_major": 2,
       "version_minor": 0
      },
      "text/plain": [
       "Batches:   0%|          | 0/1 [00:00<?, ?it/s]"
      ]
     },
     "metadata": {},
     "output_type": "display_data"
    },
    {
     "name": "stdout",
     "output_type": "stream",
     "text": [
      "\n",
      "Query: How much was Bitcoin's price in 2021?\n",
      "Answers:\n",
      "[   <Answer {'answer': '$18,500', 'type': 'generative', 'score': None, 'context': None, 'offsets_in_document': None, 'offsets_in_context': None, 'document_id': None, 'meta': {'doc_ids': ['2e83e5fe456d232af67a2b1f8819bd7', '963dc93ae03d5e4e8936321a56f2a555', 'a0a73947090a58c905098f7c3e354ecb', 'e5f322581b6491c8cec753ee563b9a7c', '3314a73df2154a2f55ebcd9304183db1'], 'doc_scores': [0.5618259355865707, 0.5612397758316945, 0.5607172833178701, 0.5602156476690802, 0.560169543175218], 'content': [\"Oct. 4, 2022 5:35 am ET\\n\\nOrder Reprints Print Article\\n\\nBitcoin and other cryptocurrencies were rallying Tuesday amid a broad return of appetite for risky bets among investors. But analysts cautioned that gains may be short-lived, with headwinds in both the macro picture and within crypto itself. The price of Bitcoin has risen 4% over the past 24 hours to $19,900 as the largest digital asset moved further away from last week's trough near $18,500—around the lowest levels all year—but remained below the psychologically important $20,000 mark.\", \"51 minutes ago\\nFlash News\\nCoinpedia\\n108\\nPrint this Page\\n\\nThe post Bitcoin (BTC) Price Won't Surge Above $30K in 2022 – Predicts Mike Novogratz appeared first on Coinpedia Fintech News On Tuesday, Bitcoin finally overcame the psychological threshold of the $20,000 milestone after nearly ten days. BTC experienced a steep decline after reaching a peak of $22,540 earlier in September. While analysts are positive about BTC's journey ahead, Mike Novogratz's forecast of Bitcoin's price is quite optimistic.\", \"TevarakNobody seems to be talking about Bitcoin (BTC-USD) anymore. The biggest cryptocurrency has not moved much in the last three months after a wild first half of 2022. Remarkably, long-dated Treasuries were just about as volatile as Bitcoin during the latter half of September as the market grappled with intense uncertainty about what central bankers around the world will do next. Perhaps the latest hot coin is the 30-year UK Gilt! But seriously, since the middle of June, Bitcoin's price range is roughly $17,000 to $25,000.\", \"On\\xa0 October 5th 2022 the Crypto market was depicting some strength before declining and falling on bearish trend once again. There was a similar pattern witnessed in the stock market as well as the market managed to enter the recovery phase.Bitcoin, the world's largest crypto by market cap, had dropped nearly $19,755 before crawling back above $20,000 where bulls are striving to hold on. At the time of publication, Bitcoin is trading at $20,229 with a surge of 0.19% over the last 24hrs.Meanwhile, a well-known crypto analyst Willy Woo is of the opinion that the current bear market will be more deep.\", \"Bitcoin has bounced this week, climbing back toward $20,000 per bitcoin—helped by a surprise bitcoin price prediction from a top U.S. regulator. Subscribe now to Forbes' CryptoAsset & Blockchain Advisor and successfully navigate the volatile bitcoin and crypto market The bitcoin price has failed to regain its 2021 momentum, however, with the price of ethereum and other major cryptocurrencies struggling in the face of harsh Federal Reserve interest rate hikes designed to drive down soaring inflation that surged to a 40-year high this summer.\"], 'titles': [\"Bitcoin Prices Rise. Why Crypto Holders Shouldn't Get Too Excited.\", \"Bitcoin (BTC) Price Won't Surge Above $30K in 2022 – Predicts Mike Novogratz\", 'Bitcoin Rallies During Q3, GBTC Continues To Struggle', 'Top Analyst Predicts Bitcoin (BTC) Is Due For 50% Crash In Coming Days', \"Fed ‘Pivot' Warning Triggers Serious 2023 U.S. Dollar ‘Crash' Prediction—Potentially Boosting The Price Of Bitcoin, Ethereum And Crypto\"]}}>]\n"
     ]
    },
    {
     "data": {
      "application/vnd.jupyter.widget-view+json": {
       "model_id": "72c9cf2efc3c41d492851c84103b7837",
       "version_major": 2,
       "version_minor": 0
      },
      "text/plain": [
       "Batches:   0%|          | 0/1 [00:00<?, ?it/s]"
      ]
     },
     "metadata": {},
     "output_type": "display_data"
    },
    {
     "name": "stdout",
     "output_type": "stream",
     "text": [
      "\n",
      "Query: Who is the creator of Ethereum?\n",
      "Answers:\n",
      "[   <Answer {'answer': 'Satoshi Nakamoto', 'type': 'generative', 'score': None, 'context': None, 'offsets_in_document': None, 'offsets_in_context': None, 'document_id': None, 'meta': {'doc_ids': ['f0997fb8a948048dcf813c6107e120d', '9091eef42f4176eb7ccf9f2bb1ce9ce2', 'e78f855ac58aef6ca16f380a6667e07b', 'd5fa4690e7f34570828770d7d1072955', '67dc8539a6198ef096f979aa4bbc43d8'], 'doc_scores': [0.5594395060398699, 0.5554381180678135, 0.5540113687498042, 0.5537281963043288, 0.5525070231928333], 'content': [\"John McAfee is the creator of Bitcoin. This is the remarkable claim of a TikTok influencer who calls himself Harry the Soul Coach.\\nHe says, 'John McAfee is the creator of Bitcoin. If we go back and look at his past, he created internet security software McAfee in 1987. So he had backdoor access then.'The influencer goes on to say that he thinks McAfee is still alive.\\nJohn McAfee and Conspiracy Theories\\nWhile there have been some very wild suggestions about who created Bitcoin, this one might just get traction, especially for conspiracy theorists.\", 'Coinspeaker\\nCould It Be? TikTok Influencer Claims John McAfee Is Bitcoin Creator\\nMcAfee was believed to be highly knowledgeable about the blockchain.\\nCould It Be? TikTok Influencer Claims John McAfee Is Bitcoin Creator', 'January 3, 2009 is not an ordinary date, but the beginning of a revolution that changed the course of money as we know it. Satoshi Nakamoto created the Bitcoin network by mining the first block of the chain, called the Genesis block. Bitcoin started its journey as A Peer-to-Peer Electronic Cash System and now has a trillion-dollar market capitalization with thousands of different cryptocurrencies that followed. In fact, in November 2021, the total market capitalization of all cryptocurrencies exceeded $3 trillion.', 'Bitcoin inventor Dr. Craig Wright is busy educating the world—not only about Bitcoin though. In the past months, Dr. Wright has been lecturing on philosophy in depth.\\nThere already are 11 philosophy classes by Dr. Wright recorded so far, which are published on the Theory of Bitcoin YouTube channel:\\n– Introductory and Foundational Lesson\\n– Plato – Apology and Crito\\n– Plato – Republic (Book I & II)\\n– Aristotle – Nicomachean Ethics\\n– Aristotle – Politics\\n– Aristotle – Metaphysics\\n– Aristotle – Athenian Constitution\\n– Aeschylus – Prometheus Bound\\n– Aeschylus – Agamemnon, Choephoroe and Eumenides\\n– Lucretius – On the nature of things\\n– Additional Content – Revolutionary America the Federalist Number 10\\n\\nCraig Wright is into education—and that influenced Bitcoin, too!\\n', \"The invention of cryptocurrency is attributed to Satoshi Nakamoto , the pseudonym for the creator or group of creators of Bitcoin. The exact identity of Satoshi Nakamoto remains unknown.\\n\\nCryptocurrency can be stored in online exchanges, such as Coinbase and PayPal , or cryptocurrency owners can store their crypto cash on hardware wallets. Trezor and Ledger are examples of companies that sell these small devices to securely store crypto tokens. These wallets can be 'hot,' meaning users are connected to the Internet and have easier access to their crypto tokens, or 'cold,' meaning that the crypto tokens are encrypted in wallets with private keys whose passwords are not stored on Internet-connected computers.\"], 'titles': ['TikTok Influencer Makes Wild Claim', 'Could It Be? TikTok Influencer Claims John McAfee Is Bitcoin Creator', 'Top 5 Use Cases of Bitcoin and Cryptocurrencies', \"Craig Wright's philosophy course starting again in October 2022\", 'cryptocurrency']}}>]\n"
     ]
    },
    {
     "data": {
      "application/vnd.jupyter.widget-view+json": {
       "model_id": "76351a62f6904c4da0917ff8b3c0b2dd",
       "version_major": 2,
       "version_minor": 0
      },
      "text/plain": [
       "Batches:   0%|          | 0/1 [00:00<?, ?it/s]"
      ]
     },
     "metadata": {},
     "output_type": "display_data"
    },
    {
     "name": "stdout",
     "output_type": "stream",
     "text": [
      "\n",
      "Query: What is ADA?\n",
      "Answers:\n",
      "[   <Answer {'answer': 'Cardano', 'type': 'generative', 'score': None, 'context': None, 'offsets_in_document': None, 'offsets_in_context': None, 'document_id': None, 'meta': {'doc_ids': ['5dc5418da69f08d3492e712cd29de81', '743c039131af338dd8f2af771f24d17a', '636f84d7be76456de0ab857c30daba54', 'fedb9dbf090e117ee81e82fcab59f0a3', 'd29ddf60ea9657c80539b359d66b20a0'], 'doc_scores': [0.5400985328535065, 0.5380991941051138, 0.5380864511176288, 0.5377526529776744, 0.5371861440740896], 'content': [\"Cardano (ADA) creator Charles Hoskinson is unveiling his take on Bitcoin's (BTC) value proposition as it increasingly becomes used in the realm of decentralized finance (DeFi).\\nHoskinson believes 'wrapped' coins that are pegged to the price of Bitcoin will spread like wildfire across a wide swath of smart contract-enabled blockchains. Wrapped tokens have grown in popularity by essentially giving investors – in this case Bitcoin holders – a way to trade and utilize their BTC in decentralized applications.\", 'Terms of UsePrivacy PolicyDo Not Sell My InfoHelp CenterAboutThe amount of processing and computing power being given to the network through mining is referred to as Bitcoin\\'s hash rate. A fixed-length alphanumeric code representing any length of words, messages, or data is called a \"hash.\"Blockchain technology is the foundation of Bitcoin (BTC) and many other cryptocurrencies....The executive chairman of MicroStrategy, Michael Saylor, does not like to be called out. He responded to a poll shared by Eric Wall, a crypto researcher, that suggested he had not used Bitcoin\\'s layer-2 Lightning Network more than three times with a Twitter poll of his own.', 'nan', \"1 hour ago\\nBlogs and more\\nDailyHodl\\n248\\nPrint this Page\\n\\nCardano ( ADA ) creator Charles Hoskinson is unveiling his take on Bitcoin's ( BTC ) value proposition as it increasingly becomes used in the realm of decentralized finance (DeFi). Hoskinson believes 'wrapped' coins that are pegged to the price of Bitcoin will spread like wildfire across a wide swath of smart contract-enabled blockchains. Wrapped tokens have grown in popularity by essentially giving investors – in this case Bitcoin holders – a way to trade and utilize their BTC in decentralized applications.\", 'The Enforcement Department (ED) has issued a 12.8 billion dollar lawsuit under the provisions of the Prevention of Money Laundering Act (PMLA) following an investigation into one Aamir Khan and others in connection with the mobile game application – E-Nugget. 30 million rupee worth of bitcoin has been frozen. – It was conducted.Law Enforcement said on February 15, 2021 Park Street Police Station, Kolkata Police launched an investigation based on his FIR filed with various sections of his IPC against Aamir Khan and others.'], 'titles': [\"Cardano Creator Charles Hoskinson Predicts 'Vastly Superior' Versions of Bitcoin Will Burst Across Crypto Markets\", \"McDonald's starts to accept Bitcoin and Tether in Swiss town\", \"Sleuth Discovers Satoshi's Long-Lost Bitcoin Version 0.1 Codebase, Raw Code Contains Bitcoin Inventor's Never-Before-Seen...\", \"Cardano Creator Charles Hoskinson Predicts ‘Vastly Superior' Versions of Bitcoin Will Burst Across Crypto Markets\", '$12.83 Million Worth of Bitcoins Frozen by ED in E-nuggets Gambling Case']}}>]\n"
     ]
    },
    {
     "data": {
      "application/vnd.jupyter.widget-view+json": {
       "model_id": "89258ab04db24be08d31fbb9c7e40be4",
       "version_major": 2,
       "version_minor": 0
      },
      "text/plain": [
       "Batches:   0%|          | 0/1 [00:00<?, ?it/s]"
      ]
     },
     "metadata": {},
     "output_type": "display_data"
    },
    {
     "name": "stdout",
     "output_type": "stream",
     "text": [
      "\n",
      "Query: How did the Terra blockchain collaspe?\n",
      "Answers:\n",
      "[   <Answer {'answer': 'an arrest warrant was issued against him', 'type': 'generative', 'score': None, 'context': None, 'offsets_in_document': None, 'offsets_in_context': None, 'document_id': None, 'meta': {'doc_ids': ['69a4f1f92e18f832d6b49779145b91b3', '28448a2601a767df4c07531171250672', '58fea8106900050732c2e38dbf5c0cb8', 'e78f855ac58aef6ca16f380a6667e07b', '6d96aa22eb5ef2759a643f9d0bde5505'], 'doc_scores': [0.5608760807676864, 0.5540187111711634, 0.5528620903422082, 0.5513777574493502, 0.5484529546644917], 'content': ['Buterin has shared his opinion about the Terra collapseButerin has previously criticized \"algostable\" and called it \"a propaganda term\"Do Kwon is the CEO and co-founder of Terraform Labs, the developer behind Terra blockchainFollowing Ethereum\\'s monumental success on The Merge, one of its founders, Vitalik Buterin, explained the reason behind Terra\\'s collapse and why it caused a major setback in the decentralization of cryptocurrency.In an interview with New York Times\\' Ezra Klein, Buterin points out that Terra\\'s collapse is one of the biggest instances where decentralization has not \"improved things.', 'Amid reports that the beleaguered founder of Terra blockchain Do Kwon moved 3,313 Bitcoin (CRYPTO: BTC) to two cryptocurrency exchanges outside South Korea just after an arrest warrant was issued …\\nRead Full Story', \"Amid reports that the beleaguered founder of Terra blockchain Do Kwon moved 3,313 Bitcoin BTC/USD to two cryptocurrency exchanges outside South Korea just after an arrest warrant was issued against him, KuCoin CEO Johnny Lyu on Monday said the crypto exchange was working to cooperate with the government and regulators 'as things go on.'According to reports, the transferred Bitcoin was worth over $69 million.Also read:\\xa0Terra Crisis: Family Bonds Shattered, Dreams Ripped ApartCrypto market in a crisis far worse than earlier onesIn an exclusive interview with Benzinga, Lyu also said the ongoing crisis in the crypto market was 'a lot worse' than earlier ones and that it will take a major event or rational economic policies to help the ailing markets.\", 'January 3, 2009 is not an ordinary date, but the beginning of a revolution that changed the course of money as we know it. Satoshi Nakamoto created the Bitcoin network by mining the first block of the chain, called the Genesis block. Bitcoin started its journey as A Peer-to-Peer Electronic Cash System and now has a trillion-dollar market capitalization with thousands of different cryptocurrencies that followed. In fact, in November 2021, the total market capitalization of all cryptocurrencies exceeded $3 trillion.', 'South Korean authorities issued an arrest warrant against Do Kwon on Sept. 14On Sept. 15, 3,313 Bitcoin were reportedly moved from LFG to two CEX by a wallet allegedly associated with KwonKwon and LFG denied the allegationsKuCoin, one of the largest cryptocurrency exchanges in the world, confirmed it was working with South Korean authorities concerning the issue of Bitcoin that Terraform Labs CEO and co-founder Do Kwon moved following the issuance of his arrest warrant.\"As a crypto exchange, we are open to cooperating with all prosecutors or regulators around the world but for a specific incident, we would like you to clarify with South Korean officials or regulators,\" KuCoin CEO Johnny Lyu said in an interview with Benzinga.'], 'titles': [\"Ethereum's Buterin Explains Why Terra Luna Collapsed, Describes It's Mechanism 'Fundamentally Bad'\", 'EXCLUSIVE: KuCoin Cooperating With South Korea To Freeze Bitcoin In Do Kwon Fiasco, Says CEO', 'KuCoin Cooperating With South Korea To Freeze Bitcoin In Do Kwon Fiasco, Says CEO – Bitcoin (BTC/USD), E – Benzinga', 'Top 5 Use Cases of Bitcoin and Cryptocurrencies', 'KuCoin Confirms Working With South Korean Authorities To Freeze BTC Kwon Allegedly Moved']}}>]\n"
     ]
    }
   ],
   "source": [
    "pipe_GQA = GenerativeQAPipeline(generator=t5_generator, retriever=embedd_retriever)\n",
    "\n",
    "for question in QUESTIONS:\n",
    "    res = pipe_GQA.run(query=question, \n",
    "                       params={\"Generator\": {\"top_k\": 1}, \"Retriever\": {\"top_k\": 5}})\n",
    "    \n",
    "    (print_answers(res, details=\"all\"))"
   ]
  },
  {
   "cell_type": "code",
   "execution_count": null,
   "id": "7a6c475d-f6b4-4be4-b1cf-464022d9ccfb",
   "metadata": {},
   "outputs": [],
   "source": []
  },
  {
   "cell_type": "markdown",
   "id": "1c61f0cd-7b0a-4ae1-b0bb-ab80f2544ef4",
   "metadata": {},
   "source": [
    "DPR retriever\n"
   ]
  },
  {
   "cell_type": "code",
   "execution_count": 30,
   "id": "9bf929df",
   "metadata": {},
   "outputs": [
    {
     "name": "stdout",
     "output_type": "stream",
     "text": [
      "\n",
      "Query: When was Bitcoin created?\n",
      "Answers:\n",
      "[   <Answer {'answer': '2008', 'type': 'generative', 'score': None, 'context': None, 'offsets_in_document': None, 'offsets_in_context': None, 'document_id': None, 'meta': {'doc_ids': ['b67559552250c34a8cc12af06ccdc6da', 'de2e2bc7d6532714d5ad2334942149c9', '3107a00846fef491728266abbabb5c59', 'a25cc76071b03efed19fe3535373d9a9', '49d82e74e302615bdbb8ee19a9b35291'], 'doc_scores': [0.6909430707528474, 0.683088018888498, 0.6829614265625314, 0.682790060932464, 0.6827812038214758], 'content': [\"By Lyle Opolentisima | source:Here Oct 4th, 2022 The history of the world's first crypto began in 2008, when its creator, a Japanese named Satoshi Nakamoto, published the Bitcoin protocol openly.\\nFounder Holds Bitcoins worth $1.1 billion\\nSatoshi Nakamoto, the founder of bitcoins is said to hold 1 million bitcoins. Today, the value of these bitcoins stands at $1.1 billion.\\nNobel Prize for Satoshi Nakamoto\\nIn 2015 the bitcoin founder Satoshi Nakamoto got nominated for a Nobel Prize in Economic Science!Bitcoin is controlled by its users, not by any single entity\\nThe digital currency is not controlled by a bank or any single financial institute, unlike other currencies of this world.\", 'Released on April 31st, 2009, Bitcoin is a cryptocurrency (a.k.a. digital money) that allows users to facilitate pseudonymous transactions over the internet. Unlike Fiat money, Bitcoin is decentralized, which means that it is not regulated by a central governing body. Bitcoin users can, therefore, facilitate peer-to-peer cash transactions without the approval of any financial institution.\\nGamers enjoy numerous benefits by using Bitcoin. For instance, this cryptocurrency allows you to enjoy minimum transaction fees when transacting at your favorite bookie.', \"Conceived in\\xa02008\\xa0and launched in\\xa02009, bitcoin is the world's first and largest cryptocurrency.\\xa0Back in 2010, a single bitcoin could be purchased for roughly $0.0011 Australian dollars. Today, its value is more than 24,000,000% higher—but it hasn't all been gains.In the years since, we've seen prices peak as high as\\xa0almost US$69,000, but we've also seen prices fall by as much as $US22,000\\xa0in as little as three weeks.Here's a brief history of bitcoin's biggest price movements and the milestones along the path, from thousandths of a cent to tens of thousands of US dollars.\", \"Conceived in\\xa02008\\xa0and launched in\\xa02009, bitcoin is the world's first and largest cryptocurrency.\\xa0 Back in 2010, a single bitcoin could be purchased for roughly $0.0011 Australian dollars. Today, its value is more than 24,000,000% higher—but it hasn't all been gains. In the years since, we've seen prices peak as high as\\xa0almost US$69,000, but we've also seen prices fall by as much as $US22,000\\xa0in as little as three weeks. Here's a brief history of bitcoin's biggest price movements and the milestones along the path, from thousandths of a cent to tens of thousands of US dollars.\", \"Conceived in\\xa02008\\xa0and launched in\\xa02009, bitcoin is the world's first and largest cryptocurrency.\\nBack in 2010, a single bitcoin could be purchased for roughly $0.0011 Australian dollars. Today, its value is more than 24,000,000% higher—but it hasn't all been gains.\\nIn the years since, we've seen prices peak as high as\\xa0almost US$69,000, but we've also seen prices fall by as much as $US22,000\\xa0in as little as three weeks.\\nHere's a brief history of bitcoin's biggest price movements and the milestones along the path, from thousandths of a cent to tens of thousands of US dollars.\"], 'titles': ['The Appearance of Bitcoin', 'What US Bookie Sites Can You Use Crypto On?', \"Bitcoin's price history – Forbes Advisor Australia – Forbes\", 'Bitcoin 2008–2022: From Bouncing Baby To Troubled Teenager', \"Bitcoin's price history – Forbes Advisor Australia\"]}}>]\n",
      "\n",
      "Query: How to use the Lightining Network?\n",
      "Answers:\n",
      "[   <Answer {'answer': 'send and receive payments', 'type': 'generative', 'score': None, 'context': None, 'offsets_in_document': None, 'offsets_in_context': None, 'document_id': None, 'meta': {'doc_ids': ['60f8ff7cde10b42596184c40a9768db9', '5b6b8aacfcde31dac029ba028451e791', 'd38b30ace360f84e2463abb1c8e96e32', 'ed7963635a701a435ff26667946ebfde', '8e786f9757b067b055e2af81a3c98fcc'], 'doc_scores': [0.6589387306733556, 0.6563229603634382, 0.6556153200109741, 0.6552289599431452, 0.6543070750591604], 'content': [\"Source: Neutronpay\\n\\nNeutronpay, a Vancouver, Canada and Ho Chi Minh City, Vietnam based startup that enables consumers and businesses to send and receive payments on Bitcoin's Lightning Network raised USD$2.25M in Seed funding on June 1, 2022.\\n\\nThe Lightning Network is a 'layer 2' payment protocol which sits atop Bitcoin and facilitates instantly settled payments measured in milliseconds, is capable of millions of transactions per second and allows for exceptionally low fees, which all combined makes it the ideal payment network of any type, period.\", 'BTC added the layer-2 protocol to mitigate the scaling challenges, Bitcoin Lightning Network (BLN). The BLN was created to offer better scalability, make transactions cheaper, and increase the transaction speed on Bitcoin Network.\\nScalability has been a deterrent factor to the mass adoption of many cryptocurrencies. For example, High transaction fees and slow speed are some of the challenges encountered on the Bitcoin Network. After the introduction of BLN, the scaling issues remained unsolved due to low capacity, among other shortcomings.', \"Increased operating capacity to >3.7 EH/sPrince George (50MW) fully commissioned on scheduleOn track to achieve near-term operating capacity of 4.7 EH/sDeployment pathway to 6.0 EH/s SYDNEY, Australia, Oct. 07, 2022 (GLOBE NEWSWIRE) -- Iris Energy Limited (NASDAQ: IREN) ('Iris Energy' or 'the Company'), a leading owner and operator of institutional-grade, highly efficient proprietary Bitcoin mining data centers powered by 100% renewable energy, today published a monthly investor update for\\xa0September 2022, containing its results from operations as well as construction and development updates.\", \"Terms of UsePrivacy PolicyDo Not Sell My InfoHelp CenterAboutRead full article on original websiteBig money's involvement has lifted investor confidence, but it also raises questions as to just how decentralized SushiSwap really is. Global asset management firm GoldenTree revealed a $5.3 million token stake in decentralized exchange (DEX) SushiSwap, with the SUSHI token soaring 13% as bullish investors piled in. GoldenTree has...Leon Li Lin, the Chinese founder of Seychelles-based crypto exchange Huobi Global, is selling his controlling stake to a Hong Kong investment firm called About Capital, according to a blog post today on Huobi's website.\", \"/EIN News/ -- Increased operating capacity to >3.7 EH/s\\n\\nPrince George (50MW) fully commissioned on schedule\\n\\nOn track to achieve near-term operating capacity of 4.7 EH/s\\n\\nDeployment pathway to 6.0 EH/s\\n\\nSYDNEY, Australia, Oct. 07, 2022 (GLOBE NEWSWIRE) -- Iris Energy Limited (NASDAQ: IREN) ('Iris Energy' or 'the Company'), a leading owner and operator of institutional-grade, highly efficient proprietary Bitcoin mining data centers powered by 100% renewable energy, today published a monthly investor update for September 2022, containing its results from operations as well as construction and development updates.\"], 'titles': ['Lightning network startup Neutronpay raises $2.25m', 'Public Capacity Of Bitcoin Lightning Network Rises Over 5,000 BTC', 'Iris Energy Announces Monthly Investor Update for September 2022', 'NFT Monthly Sales Top $947M as Solana Gains Ground on Ethereum', 'Iris Energy Announces Monthly Investor Update for September 2022']}}>]\n",
      "\n",
      "Query: What is the process of Bitcoin mining?\n",
      "Answers:\n",
      "[   <Answer {'answer': 'to generate new coins and verify new transactions', 'type': 'generative', 'score': None, 'context': None, 'offsets_in_document': None, 'offsets_in_context': None, 'document_id': None, 'meta': {'doc_ids': ['5323100ade27d773eec3ebcc4b65521', '7411498bc20c0fc50fd5550b0282acf5', '10133cab79a62fdb758453c62bd05d5b', 'c5cc43a36291e5923c46b7e83780336a', 'da3d945c6fa1283e0701d984dce654ad'], 'doc_scores': [0.6908712353031556, 0.6890464640841312, 0.6890464640841312, 0.6877057503759108, 0.6872799816957207], 'content': [\"Bitcoin has come a long way since its inception in 2008, becoming the most popular and valued cryptocurrency of all time. But with time, its inefficiencies were also exposed -- lack of consumer protection leading to money laundering and black market trading. Perhaps the most concerning issue is the huge impact its production has on the environment.\\n\\nMining Bitcoins could be worse than extracting gold and is as bad as industries related to cattle farming and crude oil. At least that's what the latest study published in the journal Scientific Reports suggests.\", \"Bitcoin mining's climate impact is comparable to farming cattle or burning gasoline when taken as a proportion of market value, according to researchers at the University of New Mexico in Albuquerque. Cryptocurrency mining is energy intensive because it requires highly specialized computers - and most of the electricity it consumes is generated by burning planet-warming fossil fuels. The climate-related economic damage caused by mining the popular digital token, bitcoin, exceeded its market value on 6.\", \"Bitcoin mining's climate impact is comparable to farming cattle or burning gasoline when taken as a proportion of market value, according to researchers at the University of New Mexico in Albuquerque.\\nCryptocurrency mining is energy intensive because it requires highly specialized computers - and most of the electricity it consumes is generated by burning planet-warming fossil fuels. The climate-related economic damage caused by mining the popular digital token, bitcoin, exceeded its market value on 6.\", \"According to a study that was published in Scientific Reports, the environmental costs of mining the digital currency Bitcoin are more equivalent to the climatic harm caused by raising beef than they are to the costs of mining gold when expressed as a percentage of the market price.\\nAccording to the authors, Bitcoin should be compared to considerably more energy-intensive goods like meat, natural gas, and crude oil rather than being likened to 'digital gold.'Bitcoin had a market cap of around 960 billion US dollars in December 2021 and accounted for almost 41% of all cryptocurrencies worldwide.\", 'Bitcoin mining is the process used to generate new coins and verify new transactions. The process involves vast, decentralized networks of computers …\\nRead Full Story'], 'titles': ['Bitcoin Mining Might Be As Grave As Oil Drilling For Earth', 'Bitcoin could be as bad for the planet as beef', 'Bitcoin could be as bad for the planet as beef', 'Bitcoin as dangerous to the environment as production of beef', 'How Bitcoin Mining Can Help Power Companies Optimize Generation Assets']}}>]\n",
      "\n",
      "Query: How is Bitcoin different from Ethereum?\n",
      "Answers:\n",
      "[   <Answer {'answer': 'interoperability, composability, and scalability', 'type': 'generative', 'score': None, 'context': None, 'offsets_in_document': None, 'offsets_in_context': None, 'document_id': None, 'meta': {'doc_ids': ['a814905d65efac13bb2e787a824d5181', '8e8fc301f51702774a9cb14d896bdc91', '48389e7fbb97ffce1861e26da6193e08', 'cb1828af23b93179ecb343ffe1918923', '2fea7924eb953cf898f93b2ec8538646'], 'doc_scores': [0.6855911993305494, 0.6836800029730128, 0.6828942872812415, 0.6808062344026762, 0.6799993563884945], 'content': [\"The cryptocurrency world is at an inflection point. The Merge is here. When complete, Ethereum's consensus mechanism will have changed from a modified version of Bitcoin's Proof of Work to its own Proof of Stake. Since its inception, Ethereum was never meant to be like Bitcoin. Ethereum's focus has always been on interoperability, composability, and scalability. It was always meant to scale to a PoS chain when the moment presented itself.\", \"Cryptocurrency prices: Check today's rates of Bitcoin, Ethereum, Cardano, XRP Oct 03, 2022, 10:51 am 3 min read Ethereum's value has gone down by 0.4% since last week Bitcoin has shed 1.1% over the last 24 hours, trading at $19,121.40. It is 1.7% higher than the previous week. The second most popular token, Ethereum, has dropped 1.8% from yesterday and is trading at $1,289.19. From the previous week, it is down 0.4%. The market capitalization of Bitcoin and Ethereum is now at $366.53 billion and $155.\", \"As if the words blockchain' and ‘cryptocurrency' didn't already sound complicated enough, newcomers to the crypto space also have to contend with a lot of similarly-sounding concepts.\\xa0Take Ethereum, for example. As the second crypto coin by market cap, it's arguably as famous as Bitcoin. But traders and investors might also run into terms such as ‘ether,' ‘Ethereum Classic,' and ‘Ethereum 2.0.'Do they all refer to the same thing? Not really. So, to prevent any confusion, we figured a short guide on all Ethereum-related concepts might be in order.\", \"Ethereum is the most well-known altcoin, and for many investors and fans, it is much more than just another cryptocurrency. Though it had a terrible first half of the year, investors expect Ethereum price to rise above $4,000 in 2022. Ether (ETH), Ethereum's native asset, has seen phenomenal growth in value since its inception in 2015.\\n\\nEther, the cryptocurrency created by programmer Vitalik Buterin, has seen its value rise from $0.311 in 2015 to approximately $4,800 at its peak late last year, albeit with significant price swings.\", \"1 Min(s) ReadMajor cryptocurrencies extended gains/losses on Friday. Bitcoin prices declined, but remained above the crucial $20,000. Bitcoin | The world's largest and most popular virtual currency, Bitcoin, fell by 0.8 percent to $20,027 . Its market value stood at $383 billion. The trade volume was at $31.9 billion. Ethereum | The second largest virtual currency, Ethererum or Ether, climbed 0.16 percent to $1356.5 with a market capitalisation of $166.5 billion. The trade volume of Ethereum was almost $10.\"], 'titles': ['The cryptocurrency world is at an inflection point.', \"Cryptocurrency prices: Check today's rates of Bitcoin, Ethereum, Cardano, XRP\", \"Ethereum, Ethereum Classic, And Ethereum 2.0: What's What?\", 'Former Genesis Executive Says Ethereum Price Likely to Rocket for these 3 Reasons', 'Cryptocurrency prices today: Bitcoin falls but continues to be above $20,000, Ethereum, Dogecoin, Shiba Inu, Solna and Polygon edge lower']}}>]\n",
      "\n",
      "Query: What is Binance?\n",
      "Answers:\n",
      "[   <Answer {'answer': 'cryptocurrency exchange', 'type': 'generative', 'score': None, 'context': None, 'offsets_in_document': None, 'offsets_in_context': None, 'document_id': None, 'meta': {'doc_ids': ['9747246983216684601dca1fb5337a5', 'f32f0ee0fe80f45007dd58f92369ee53', '4a3d98d73ae4a16c9c57cb58f5d69f49', '5c67b87022712b23e583df8563f820d5', '65d306259283584b6307fd16c1263c54'], 'doc_scores': [0.6509673962290293, 0.649933316955847, 0.6495349153554967, 0.6490043880766633, 0.6487027146017502], 'content': ['Wrapped Bitcoin (WBTC) traded up 2% against the U.S. dollar during the 24-hour period ending at 0:00 AM Eastern on October 4th. One Wrapped Bitcoin coin can now be purchased for $20,178.94 or 1.00038917 BTC on popular exchanges. During the last seven days, Wrapped Bitcoin has traded down 2.4% against the U.S. dollar. Wrapped Bitcoin has a market cap of $4.94 billion and $317.61 million worth of Wrapped Bitcoin was traded on exchanges in the last 24 hours.\\nHere is how similar cryptocurrencies have performed during the last 24 hours:\\nZoo Token (ZOOT) traded down 2.', \"On July 28, 2010, users discovered that they could 'steal' another's Bitcoin by simply prepending any locked script with OP_TRUE OP_RETURN. Since the opcode OP_RETURN halts execution of script (like a return function in any programming language), it would return the previous value on the stack, OP_TRUE, which returns a true condition allowing spending of anyone's coins, regardless of their spending conditions.\\nThis 'bug' was quickly patched by Satoshi Nakamoto, changing the functionality of OP_RETURN to immediately return false instead.\", \"Bitcoin, tether, and the Wazirx token are among the cryptocurrencies that India's Directorate of Enforcement (ED) claims to have frozen. Its study of the mobile gaming app E-nuggets includes the action. The ED recently announced that almost 86 bitcoins discovered at the cryptocurrency exchange Binance had been blocked.The WRX (utility token of Wazirx) and USDT (tether, an Ethereum token that is tethered to the value of a U.S. dollar) crypto currencies, each worth Rs 47.64 lakhs, have been frozen by the Directorate of Enforcement (ED).\", \"Unlike gold, which has a tangible value, a fiat currency is backed only by the government's authority. Fiat money includes the U.S. dollar, the euro, the pound, and the yen.\\n'Fiat' refers to 'authoritative or arbitrary order.'So in the case of 'fiat money,' a mandate from the government renders them legal tender and gives them value. When nations abandoned the gold standard, in which currencies are tied to gold, the present fiat-money system emerged in the twentieth century. Across 180 fiat currencies are in use now around the globe.\", 'Terms of UsePrivacy PolicyDo Not Sell My InfoHelp CenterAboutThe amount of processing and computing power being given to the network through mining is referred to as Bitcoin\\'s hash rate. A fixed-length alphanumeric code representing any length of words, messages, or data is called a \"hash.\"Blockchain technology is the foundation of Bitcoin (BTC) and many other cryptocurrencies....Bitcoin (BTC), along with other cryptocurrencies, has provided people with a venue to earn passive income, making money without any active involvement.'], 'titles': ['Wrapped Bitcoin (WBTC) Reaches Market Capitalization of $4.94 Billion', 'Asset seizure was possible in original Bitcoin', 'As the investigation involving Binance and Wazirx deepens, India freezes further cryptocurrencies, including Bitcoin and Tether', \"Fiat vs Crypto: What's the Difference?\", 'Bitcoin price sees first October spike above $20K as daily gains hit 5%']}}>]\n",
      "\n",
      "Query: What are Bitcoin whales?\n",
      "Answers:\n",
      "[   <Answer {'answer': 'wallets that have more than 1,000 BTC', 'type': 'generative', 'score': None, 'context': None, 'offsets_in_document': None, 'offsets_in_context': None, 'document_id': None, 'meta': {'doc_ids': ['28b4298b552172e5437f40982394dbe7', 'fd61fcec076c1170418fd66f9f1887d4', '1e6e12b95e9a08f10598e1e2421b4c10', 'cd5347b76b43ff36e0b177a571140f68', '3a3740cbcb81597b9c9fd0d2453ad0c4'], 'doc_scores': [0.685483667976254, 0.6808051899015202, 0.6804693135879455, 0.6791262978530824, 0.6770663728821716], 'content': [\"Bitcoin's price appears to be stuck in a relatively wide range between $18,000 and $24,000 for the past couple of months, and it's unable to escape.\\nMeanwhile, data from the popular cryptocurrency analytics resource, Glassnode, revealed the average price that whales have been accumulating since January 2017.\\n\\nAccording to Glassnode, Bitcoin whales bought Bitcoin at an average price of about $15,800 for the period between now and January 2017.\\nTo be precise, these are wallets that have more than 1,000 BTC.\", \"Following the most recent short-term price increase for Bitcoin (BTC), it would seem that whales have returned to the market, accounting for major transactions that have likely influenced the digital asset's value.\\nSince September 27, addresses that held between 100 and 10,000 Bitcoin have added a combined 46,173 BTC back to their wallets over the previous week. This comes as significant Tether (USDT) stablecoin holdings have decreased, per data from behavior analysis platform Santiment on October 5.\", \"Bitcoin (BTC) worth hundreds of millions of dollars is suddenly being moved by a crypto whale over two different transactions.Blockchain.com data shows that although the wallet doesn't seem to have any connections to exchanges for virtual assets, it has sent and received over $3 billion worth of the top virtual asset by market cap across 309 separate transactions on the BTC blockchain.The wealthy investor initially transferred 11,299 BTC worth over $228 million from an unknown wallet to an unknown wallet before moving 14,545 BTC worth almost $290.\", \"Disclaimer: The opinion expressed here is not investment advice – it is provided for informational purposes only. It does not necessarily reflect the opinion of U.Today. Every investment and all trading involves risk, so you should always perform your own research prior to making decisions. We do not recommend investing money you cannot afford to lose.\\n\\nAs reported by crypto analytics agency Santiment, Bitcoin's price at the moment seems attractive enough for whales to accumulate. Large holders of the cryptocurrency, whose wallets range in size from 100 to 10,000 BTC, have added 46,173 BTC to their balance since Sept.\", 'Just like all the other major cryptocurrencies, Bitcoin (BTC) has failed to end its bearish recession in early Q4, 2022. However, some whales are sure that dips are for buying.\\n$500 million\\xa0whale keeps buying: Analyst\\nAnonymous Bitcoin (BTC) analyst and investor who goes by\\xa0@Capital15C on Twitter has shared the statistics of an unusual address on the Bitcoin (BTC) network.\\n\\nBuy #Bitcoin like this guy 👇 pic.twitter.com/v3hf1B5a2e\\n— CC15Capital 🇺🇸 (@Capital15C) October 8, 2022\\nStarting Sept.\\xa017, 2022, they have been\\xa0aggressively purchasing digital gold.'], 'titles': ['Since January 2017, Whales Bought BTC at an Average Price of $15,800 (Analysis)', \"Bitcoin whales show ‘rare' signs of sustained accumulation – what it indicates?\", 'Bitcoin Whale Transacts $516,537,079 in Two Massive Cryptocurrency Transactions Suddenly', \"Bitcoin Whales' Smart Tactics Revealed, Here's How They Act Right Now\", 'Mysterious Bitcoin Whale Allocated Almost 5,000 BTC Since Mid-September']}}>]\n",
      "\n",
      "Query: What was Bitcoin's price in 2020?\n",
      "Answers:\n",
      "[   <Answer {'answer': '$20022.15', 'type': 'generative', 'score': None, 'context': None, 'offsets_in_document': None, 'offsets_in_context': None, 'document_id': None, 'meta': {'doc_ids': ['a11c3bff56164e2b37d1a1b8e8efc4de', '11685ab3e9b3a7273352884550b4a92e', 'fccbdc53c17c3a092cefc8ab96301460', 'e41932986f4d6565e172a0e846c4c2a0', '585c9fc801467c62815650bccefba2d5'], 'doc_scores': [0.6919388852137633, 0.689806000739021, 0.6894076632795615, 0.6892074413364621, 0.6882477021208986], 'content': ['Bitcoin is down $499.22 today or 2.49% to $19549.48\\n\\n--Largest percentage decrease since Sept. 20, 2022, when it dropped 2.81%\\n--Down two of the past three days\\n--Up 0.67% month-to-date\\n--Down 57.8% year-to-date\\n--Down 71.17% from its all-time high of $67802.30 on Nov. 9, 2021 (based on 5 p.m. levels)\\n--Down 63.76% from 52 weeks ago (Oct. 8, 2021), when it traded at $53950.58\\n--Down 71.17% from its 52-week high of $67802.30 on Nov. 9, 2021 (based on 5 p.m. levels)\\n--Up 10.28% from its 52-week low of $17726.', 'Bitcoin is down $328.29 today or 1.61% to $20022.15\\n\\n--Largest percentage decrease since Sept. 23, 2022, when it dropped 2.05%\\n--Snaps a two day winning streak\\n--Down 56.78% year-to-date\\n--Down 70.47% from its all-time high of $67802.30 on Nov. 9, 2021 (based on 5 p.m. levels)\\n--Down 63.53% from 52 weeks ago (Oct. 6, 2021), when it traded at $54903.22\\n--Down 70.47% from its 52-week high of $67802.30 on Nov. 9, 2021 (based on 5 p.m. levels)\\n--Up 12.95% from its 52-week low of $17726.', \"Bitcoin's price is down roughly 56% since January but crypto-related stocks such as MicroStrategy, Riot Blockchain, Coinbase, and Hut8 Mining are down up to 74%.The orange line in the chart below shows Bitcoin's decline in 2022 as a percentage of the January price. The other lines represent major Bitcoin equities, none of which have had a good year in terms of stock price.Source: TradingViewCoinbaseCoinbase reported a $1.1 billion loss in Q2 2022 as assets held on the exchange fell to just $96 million.\", 'Updated Oct. 7, 2022 9:01 am ET / Original Oct. 7, 2022 6:24 am ET\\n\\nOrder Reprints Print Article\\n\\nBitcoin and other cryptocurrencies fell Friday after U.S. economic data revealed that the labor market remains strong—potentially paving the way for even more aggressive monetary policy from the Federal Reserve. The price of Bitcoin has fallen 2.5% over the past 24 hours to below $19,800 immediately after the release of the nonfarm payrolls report for September. The largest digital asset had previously been trading around $20,000, a level at which it has floated for much of the period since a mid-June selloff drove the largest digital asset down from $30,000.', 'Bitcoin is up $358.47 today or 1.86% to $19589.94\\n\\n--Highest 5 p.m. level since Sept. 18, 2022, when it traded at $19720.55\\n--Snaps a four day losing streak\\n--Down 57.71% year-to-date\\n--Down 71.11% from its all-time high of $67802.30 on Nov. 9, 2021 (based on 5 p.m. levels)\\n--Down 60.03% from 52 weeks ago (Oct. 4, 2021), when it traded at $49016.05\\n--Down 71.11% from its 52-week high of $67802.30 on Nov. 9, 2021 (based on 5 p.m. levels)\\n--Up 10.51% from its 52-week low of $17726.51 on June 18, 2022 (based on 5 p.'], 'titles': ['Bitcoin Lost 2.49% to $19549.48 at 5 p.m. ET -- Data Talk', 'Bitcoin Lost 1.61% to $20022.15 at 5 p.m. ET -- Data Talk', 'Bitcoin outperforms traditional crypto stocks in 2022 by up to 22%', 'Bitcoin Prices Fall Below $20,000 as Cryptos React Poorly to Jobs Report', 'Bitcoin Gained 1.86% to $19589.94 at 5 p.m. ET -- Data Talk']}}>]\n",
      "\n",
      "Query: How much was Bitcoin's price in 2021?\n",
      "Answers:\n",
      "[   <Answer {'answer': '$67802.30', 'type': 'generative', 'score': None, 'context': None, 'offsets_in_document': None, 'offsets_in_context': None, 'document_id': None, 'meta': {'doc_ids': ['a11c3bff56164e2b37d1a1b8e8efc4de', '11685ab3e9b3a7273352884550b4a92e', 'b8cf7b18bdd7562ec4e2e4dcd3c83851', 'e41932986f4d6565e172a0e846c4c2a0', 'c5cc43a36291e5923c46b7e83780336a'], 'doc_scores': [0.6831050466598829, 0.6810267326904593, 0.6800568615263383, 0.6791943422228411, 0.6790541056436991], 'content': ['Bitcoin is down $499.22 today or 2.49% to $19549.48\\n\\n--Largest percentage decrease since Sept. 20, 2022, when it dropped 2.81%\\n--Down two of the past three days\\n--Up 0.67% month-to-date\\n--Down 57.8% year-to-date\\n--Down 71.17% from its all-time high of $67802.30 on Nov. 9, 2021 (based on 5 p.m. levels)\\n--Down 63.76% from 52 weeks ago (Oct. 8, 2021), when it traded at $53950.58\\n--Down 71.17% from its 52-week high of $67802.30 on Nov. 9, 2021 (based on 5 p.m. levels)\\n--Up 10.28% from its 52-week low of $17726.', 'Bitcoin is down $328.29 today or 1.61% to $20022.15\\n\\n--Largest percentage decrease since Sept. 23, 2022, when it dropped 2.05%\\n--Snaps a two day winning streak\\n--Down 56.78% year-to-date\\n--Down 70.47% from its all-time high of $67802.30 on Nov. 9, 2021 (based on 5 p.m. levels)\\n--Down 63.53% from 52 weeks ago (Oct. 6, 2021), when it traded at $54903.22\\n--Down 70.47% from its 52-week high of $67802.30 on Nov. 9, 2021 (based on 5 p.m. levels)\\n--Up 12.95% from its 52-week low of $17726.', \"As of 9:11am today, the price of Bitcoin (BTC) is £17,113, according to CoinMarketCap. It's down 1.06% on yesterday's figure of £17,294, 1.31% on last week and 3.28% on one month ago.The 24-hour trading volume is around £22.0 billion, and it has a market cap of about £328.0 billion.The 52-week high of Bitcoin is £50,843, while the 52-week low is £14,485.Buy 70+ crypto assets with a fixed & transparent 1% fee on a highly secure platform.Join 25M UsersCryptoassets are highly volatile and unregulated in the UK.\", 'Updated Oct. 7, 2022 9:01 am ET / Original Oct. 7, 2022 6:24 am ET\\n\\nOrder Reprints Print Article\\n\\nBitcoin and other cryptocurrencies fell Friday after U.S. economic data revealed that the labor market remains strong—potentially paving the way for even more aggressive monetary policy from the Federal Reserve. The price of Bitcoin has fallen 2.5% over the past 24 hours to below $19,800 immediately after the release of the nonfarm payrolls report for September. The largest digital asset had previously been trading around $20,000, a level at which it has floated for much of the period since a mid-June selloff drove the largest digital asset down from $30,000.', \"According to a study that was published in Scientific Reports, the environmental costs of mining the digital currency Bitcoin are more equivalent to the climatic harm caused by raising beef than they are to the costs of mining gold when expressed as a percentage of the market price.\\nAccording to the authors, Bitcoin should be compared to considerably more energy-intensive goods like meat, natural gas, and crude oil rather than being likened to 'digital gold.'Bitcoin had a market cap of around 960 billion US dollars in December 2021 and accounted for almost 41% of all cryptocurrencies worldwide.\"], 'titles': ['Bitcoin Lost 2.49% to $19549.48 at 5 p.m. ET -- Data Talk', 'Bitcoin Lost 1.61% to $20022.15 at 5 p.m. ET -- Data Talk', \"Bitcoin's price falls 1.06%\", 'Bitcoin Prices Fall Below $20,000 as Cryptos React Poorly to Jobs Report', 'Bitcoin as dangerous to the environment as production of beef']}}>]\n",
      "\n",
      "Query: Who is the founder of Ethereum?\n",
      "Answers:\n",
      "[   <Answer {'answer': 'Buterin', 'type': 'generative', 'score': None, 'context': None, 'offsets_in_document': None, 'offsets_in_context': None, 'document_id': None, 'meta': {'doc_ids': ['cb1828af23b93179ecb343ffe1918923', 'f9f0085fc71ef779876b2a1779b18786', '547a52acd2a2551f0b986c935be61068', '69a4f1f92e18f832d6b49779145b91b3', 'db381993479b91f43c4cbd122b7eb879'], 'doc_scores': [0.671388783207914, 0.6657463567262693, 0.6607987572666867, 0.6606229216525635, 0.6557941204727572], 'content': [\"Ethereum is the most well-known altcoin, and for many investors and fans, it is much more than just another cryptocurrency. Though it had a terrible first half of the year, investors expect Ethereum price to rise above $4,000 in 2022. Ether (ETH), Ethereum's native asset, has seen phenomenal growth in value since its inception in 2015.\\n\\nEther, the cryptocurrency created by programmer Vitalik Buterin, has seen its value rise from $0.311 in 2015 to approximately $4,800 at its peak late last year, albeit with significant price swings.\", \"Terms of UsePrivacy PolicyDo Not Sell My InfoHelp CenterAboutRead full article on original websiteStash president and cofounder Ed Robinson (left) with cofounder and CEO Brandon Krieg. The investing and banking app Stash announced today that it's launched a crypto platform for its 2 million active subscribers, providing them with access to eight coins, including Bitcoin, Ether, Avalanche, and Solana. While retail investing...Disclaimer: The opinion expressed here is not investment advice – it is provided for informational purposes only.\", \"Fidelity Investments, a financial services corporation with $9.9 trillion in assets under management, has launched the new Ethereum Index Fund, giving its clients access to the world's second-biggest crypto asset, Ether.As per a filing with the U.S. Securities and Exchange Commission on Tuesday, the Ethereum Index Fund has raised close to $5 million since its inception on Sept. 26 with the minimum investment being around $50,000.Fidelity established its crypto asset arm Fidelity Digital Assets in 2018 and since then has launched two exchange-traded crypto funds dedicated to the metaverse and crypto payments, respectively.\", 'Buterin has shared his opinion about the Terra collapseButerin has previously criticized \"algostable\" and called it \"a propaganda term\"Do Kwon is the CEO and co-founder of Terraform Labs, the developer behind Terra blockchainFollowing Ethereum\\'s monumental success on The Merge, one of its founders, Vitalik Buterin, explained the reason behind Terra\\'s collapse and why it caused a major setback in the decentralization of cryptocurrency.In an interview with New York Times\\' Ezra Klein, Buterin points out that Terra\\'s collapse is one of the biggest instances where decentralization has not \"improved things.', 'Despite a months-long rut in crypto markets, it\\'s been a historic year for Ethereum\\'s network.The Merge — a technical upgrade that transitioned ethereum from an energy-intensive Proof of Work (PoW) to Proof of Stake (PoS) consensus mechanism — finally took place. It was the \"most ambitious thing\" that the industry has ever seen and the single-most important event in crypto\\'s history after the invention of bitcoin and ethereum, ConsenSys\\' Ben Edgington previously told Insider.Edgington, who worked on the upgrade for the past 4.'], 'titles': ['Former Genesis Executive Says Ethereum Price Likely to Rocket for these 3 Reasons', 'Ethereum Aims at Big Market Return If It Breaks This Level Successfully: Crypto Market Review, October 4', 'Fidelity Investments Launches New Ethereum Index Fund', \"Ethereum's Buterin Explains Why Terra Luna Collapsed, Describes It's Mechanism 'Fundamentally Bad'\", \"A former trading exec at Galaxy Digital and Genesis Global breaks down 3 reasons why he thinks Ethereum will be the 'primary on-ramp into crypto'\"]}}>]\n",
      "\n",
      "Query: What is ADA?\n",
      "Answers:\n",
      "[   <Answer {'answer': 'Cardano', 'type': 'generative', 'score': None, 'context': None, 'offsets_in_document': None, 'offsets_in_context': None, 'document_id': None, 'meta': {'doc_ids': ['5dc5418da69f08d3492e712cd29de81', '415403f53db7b6e766d54509c610d36d', '11982c6133de6e3fe7c9a002a401e3ff', '829f5a695f02f32d5381125782e54d17', 'fedb9dbf090e117ee81e82fcab59f0a3'], 'doc_scores': [0.6418974332772079, 0.6402112545419933, 0.6389086982281863, 0.6380165977853692, 0.637837980434759], 'content': [\"Cardano (ADA) creator Charles Hoskinson is unveiling his take on Bitcoin's (BTC) value proposition as it increasingly becomes used in the realm of decentralized finance (DeFi).\\nHoskinson believes 'wrapped' coins that are pegged to the price of Bitcoin will spread like wildfire across a wide swath of smart contract-enabled blockchains. Wrapped tokens have grown in popularity by essentially giving investors – in this case Bitcoin holders – a way to trade and utilize their BTC in decentralized applications.\", \"On September 28, the Taro daemon's alpha version was revealed, allowing programmers to create, transfer, and acquire assets on the bitcoin blockchain. Taro, a Taproot-powered system for generating assets that can be exchanged through bitcoin and, in the coming years, the Lightning Network for an instantaneous, huge amount, low fee payments. Thanks to the bitcoin developer community for their insightful comments, which they have integrated into the protocol's draft Bitcoin Improvement Proposals (BIPs), the Taro alpha daemon implementations, and other documents.\", 'Disclaimer: The opinion expressed here is not investment advice – it is provided for informational purposes only. It does not necessarily reflect the opinion of U.Today. Every investment and all trading involves risk, so you should always perform your own research prior to making decisions. We do not recommend investing money you cannot afford to lose.\\n\\nThe price performance of Cardano against Bitcoin was showing far more potential than against USD as the cryptocurrency had numerous chances to break through the upper border of a common chart pattern and enter full reversal mode.', 'Are you wondering which cryptocurrencies can maximize your gains? Oryen (ORY), Bitcoin (BTC), Avalanche (AVAX) and Cardano (ADA) are excellent picks. This article discusses each crypto asset and why each one is a strong addition to your portfolio.\\n\\nOryen (ORY)\\n\\nOryen is a new digital currency built on the Binance Smart Chain with unmatched auto-compounding capabilities. It implements the Oryen AutoStaking Technic (OAT), which is built with a special Buy-Hold-Earn function. With OAT, the simple act of buying and holding ORY in a wallet generates rebasing rewards.', \"1 hour ago\\nBlogs and more\\nDailyHodl\\n248\\nPrint this Page\\n\\nCardano ( ADA ) creator Charles Hoskinson is unveiling his take on Bitcoin's ( BTC ) value proposition as it increasingly becomes used in the realm of decentralized finance (DeFi). Hoskinson believes 'wrapped' coins that are pegged to the price of Bitcoin will spread like wildfire across a wide swath of smart contract-enabled blockchains. Wrapped tokens have grown in popularity by essentially giving investors – in this case Bitcoin holders – a way to trade and utilize their BTC in decentralized applications.\"], 'titles': [\"Cardano Creator Charles Hoskinson Predicts 'Vastly Superior' Versions of Bitcoin Will Burst Across Crypto Markets\", 'Taro to Develop the (Tap)Root of the Global Financial Network Using Bitcoin', \"Cardano (ADA) Drops Heavily Against BTC, Here's What Comes Next\", 'Strong Picks for Maximum Gains: Oryen (ORY), Bitcoin (BTC), Avalanche (AVAX) and Cardano (ADA)', \"Cardano Creator Charles Hoskinson Predicts ‘Vastly Superior' Versions of Bitcoin Will Burst Across Crypto Markets\"]}}>]\n",
      "\n",
      "Query: How did the Terra blockchain collaspe?\n",
      "Answers:\n",
      "[   <Answer {'answer': 'Proof of Stake', 'type': 'generative', 'score': None, 'context': None, 'offsets_in_document': None, 'offsets_in_context': None, 'document_id': None, 'meta': {'doc_ids': ['a814905d65efac13bb2e787a824d5181', '66a618ef78536c9b5bde330bd123cd4f', 'ae53227a774cdcffd656e84ba112500b', '2e6e5675cb0b19999fe6cafe7c66e8e', '41c77ca9539a48710c0b3053e3eea49b'], 'doc_scores': [0.6531475603357552, 0.6494335345026843, 0.6477084801804025, 0.6471045379641296, 0.6468808094923512], 'content': [\"The cryptocurrency world is at an inflection point. The Merge is here. When complete, Ethereum's consensus mechanism will have changed from a modified version of Bitcoin's Proof of Work to its own Proof of Stake. Since its inception, Ethereum was never meant to be like Bitcoin. Ethereum's focus has always been on interoperability, composability, and scalability. It was always meant to scale to a PoS chain when the moment presented itself.\", \"© Reuters Blockchain Data Confirms LUNA Foundation Withdrew $67M By Proxy\\n\\nLFG denied withdrawing $67M after Terra's founder became wanted.Blockchain data shows the foundation carried out the transactions by proxy.The wallets that transferred the 3,133 BTC were active during UST de-pegging.Contrary evidence has surfaced, confirming that Luna Foundation Guard (LFG) attempted to withdraw $67 million worth of (BTC) a day after its founder was declared wanted.\\nLast month, a report said South Korean authorities ordered the KuCoin and OkEx exchanges to freeze 3,133 BTC tied to the controversial LUNA founder, Do Kwon.\", 'Bitcoin is the currency of the Internet: a distributed, worldwide, decentralized digital money. Unlike traditional currencies such as dollars, bitcoins are issued and managed without any central authority whatsoever: there is no government, company, or bank in charge of Bitcoin. As such, it is more resistant to wild inflation and corrupt banks. With Bitcoin, you can be your own bank.', \"This article was first published on\\xa0Dr. Craig Wright's blog, and we republished with permission from the author.\\nA purely peer-to-peer version of electronic cash would allow online payments to be sent directly from one party to another without going through a financial institution.\\nThe Bitcoin white paper is a contract (Caruso, 2018). Whether you're using Bitcoin or some poor copy of Bitcoin, such as the BTC Core network, the terms of the document are binding, and include all the nodes and all of the developers (Tiersma, 1992).\", 'Wrapped Bitcoin and Uniswap tokens were created with two very different purposes, and their mandate goes beyond mere financial transactions. Wrapped bitcoin intends to bring the benefits of DeFi use cases to the world of bitcoin, while Uniswap seeks to make liquidity available for platform stakeholders like dapps developers. Although they offer diverging functional benefits to their respective users, passive income investors had previously considered both of them as top candidates for long-term investment.'], 'titles': ['The cryptocurrency world is at an inflection point.', 'Blockchain Data Confirms LUNA Foundation Withdrew $67M By Proxy', \"Celsius published a 14,000-page document detailing every user's full name, linked to timestamp & amount of each deposit/withdrawal/liquidation\", 'Directly from one party to another…', 'Snowfallprotocol.io Replaces Wrapped Bitcoin and Uniswap']}}>]\n"
     ]
    }
   ],
   "source": [
    "pipe_GQA = GenerativeQAPipeline(generator=t5_generator, retriever=dpr_retriever)\n",
    "\n",
    "for question in QUESTIONS:\n",
    "    res = pipe_GQA.run(query=question, \n",
    "                       params={\"Generator\": {\"top_k\": 1}, \"Retriever\": {\"top_k\": 5}})\n",
    "    \n",
    "    (print_answers(res, details=\"all\"))"
   ]
  },
  {
   "cell_type": "markdown",
   "id": "801d6bf0-0461-41d8-9ece-437a355a8de1",
   "metadata": {},
   "source": [
    "### RAG\n",
    "\n",
    "RAG generator did not perform so well"
   ]
  },
  {
   "cell_type": "code",
   "execution_count": 34,
   "id": "f40d88c7-f9a7-498d-99b1-5ed26deb789a",
   "metadata": {},
   "outputs": [
    {
     "name": "stdout",
     "output_type": "stream",
     "text": [
      "\n",
      "Query: When was Bitcoin created?\n",
      "Answers:\n",
      "[   <Answer {'answer': ' 2009', 'type': 'generative', 'score': None, 'context': None, 'offsets_in_document': None, 'offsets_in_context': None, 'document_id': None, 'meta': {'doc_ids': ['de2e2bc7d6532714d5ad2334942149c9', '3107a00846fef491728266abbabb5c59', 'a25cc76071b03efed19fe3535373d9a9', '49d82e74e302615bdbb8ee19a9b35291', 'edd3c9c1fd287eb22d2a730539d82d42'], 'doc_scores': [0.6950108059107912, 0.6878239914940308, 0.6878239914940308, 0.6878239914940308, 0.6874300817937259], 'content': ['Released on April 31st, 2009, Bitcoin is a cryptocurrency (a.k.a. digital money) that allows users to facilitate pseudonymous transactions over the internet. Unlike Fiat money, Bitcoin is decentralized, which means that it is not regulated by a central governing body. Bitcoin users can, therefore, facilitate peer-to-peer cash transactions without the approval of any financial institution.\\nGamers enjoy numerous benefits by using Bitcoin. For instance, this cryptocurrency allows you to enjoy minimum transaction fees when transacting at your favorite bookie.', \"Conceived in\\xa02008\\xa0and launched in\\xa02009, bitcoin is the world's first and largest cryptocurrency.\\xa0Back in 2010, a single bitcoin could be purchased for roughly $0.0011 Australian dollars. Today, its value is more than 24,000,000% higher—but it hasn't all been gains.In the years since, we've seen prices peak as high as\\xa0almost US$69,000, but we've also seen prices fall by as much as $US22,000\\xa0in as little as three weeks.Here's a brief history of bitcoin's biggest price movements and the milestones along the path, from thousandths of a cent to tens of thousands of US dollars.\", \"Conceived in\\xa02008\\xa0and launched in\\xa02009, bitcoin is the world's first and largest cryptocurrency.\\xa0 Back in 2010, a single bitcoin could be purchased for roughly $0.0011 Australian dollars. Today, its value is more than 24,000,000% higher—but it hasn't all been gains. In the years since, we've seen prices peak as high as\\xa0almost US$69,000, but we've also seen prices fall by as much as $US22,000\\xa0in as little as three weeks. Here's a brief history of bitcoin's biggest price movements and the milestones along the path, from thousandths of a cent to tens of thousands of US dollars.\", \"Conceived in\\xa02008\\xa0and launched in\\xa02009, bitcoin is the world's first and largest cryptocurrency.\\nBack in 2010, a single bitcoin could be purchased for roughly $0.0011 Australian dollars. Today, its value is more than 24,000,000% higher—but it hasn't all been gains.\\nIn the years since, we've seen prices peak as high as\\xa0almost US$69,000, but we've also seen prices fall by as much as $US22,000\\xa0in as little as three weeks.\\nHere's a brief history of bitcoin's biggest price movements and the milestones along the path, from thousandths of a cent to tens of thousands of US dollars.\", 'Altcoins are cryptocurrencies other than bitcoin. Bitcoin was known to be invented in 2009 by the legendary Satoshi Nakamoto. It was the first time when people of the world saw and experience digital currency systems that has no physical presence. After that, followed by this model numerous other cryptocurrencies have been created. All of them are known as bitcoin excluding the first crypto bitcoin.\\nHowever, another cryptocurrency known as ether is also sometimes excluded from this list of an altcoin.'], 'titles': ['', '', '', '', '']}}>]\n",
      "\n",
      "Query: How to use the Lightining Network?\n",
      "Answers:\n",
      "[   <Answer {'answer': ' how to use lightining technology', 'type': 'generative', 'score': None, 'context': None, 'offsets_in_document': None, 'offsets_in_context': None, 'document_id': None, 'meta': {'doc_ids': ['27cd0beeb996647097d0f2a71f42998f', 'd38b30ace360f84e2463abb1c8e96e32', '60f8ff7cde10b42596184c40a9768db9', 'a30d17036c33104210ea7067327f203b', '8e786f9757b067b055e2af81a3c98fcc'], 'doc_scores': [0.6640513451779676, 0.6570752073332109, 0.6552303732203937, 0.6547999380421162, 0.6547122751600243], 'content': ['Lighting Network is a scaling solution that allows transactions on the Bitcoin network to be faster and cheaper. With a larger Lightning Network capacity, more Bitcoin can be tran …\\nRead Full Story', \"Increased operating capacity to >3.7 EH/sPrince George (50MW) fully commissioned on scheduleOn track to achieve near-term operating capacity of 4.7 EH/sDeployment pathway to 6.0 EH/s SYDNEY, Australia, Oct. 07, 2022 (GLOBE NEWSWIRE) -- Iris Energy Limited (NASDAQ: IREN) ('Iris Energy' or 'the Company'), a leading owner and operator of institutional-grade, highly efficient proprietary Bitcoin mining data centers powered by 100% renewable energy, today published a monthly investor update for\\xa0September 2022, containing its results from operations as well as construction and development updates.\", \"Source: Neutronpay\\n\\nNeutronpay, a Vancouver, Canada and Ho Chi Minh City, Vietnam based startup that enables consumers and businesses to send and receive payments on Bitcoin's Lightning Network raised USD$2.25M in Seed funding on June 1, 2022.\\n\\nThe Lightning Network is a 'layer 2' payment protocol which sits atop Bitcoin and facilitates instantly settled payments measured in milliseconds, is capable of millions of transactions per second and allows for exceptionally low fees, which all combined makes it the ideal payment network of any type, period.\", 'eclipse_images/E+ via Getty Images CleanSpark (NASDAQ:CLSK) mined 448 bitcoins (BTC-USD) in September, a 13% rise from August. At the same time, the company, in an effort to fund its growth, sold 380 BTC at an average price of $19,783 for $7.5M in proceeds. \"The growth in our HODL balance is a direct reflection of our free cash flow resulting from our recent acquisitions, low operating costs and minimal debt service,\\' said CleanSpark CFO Gary A. Vecchiarelli. Its deployed fleet of over 42K bitcoin (BTC-USD) miners has a hashrate of 4.', \"/EIN News/ -- Increased operating capacity to >3.7 EH/s\\n\\nPrince George (50MW) fully commissioned on schedule\\n\\nOn track to achieve near-term operating capacity of 4.7 EH/s\\n\\nDeployment pathway to 6.0 EH/s\\n\\nSYDNEY, Australia, Oct. 07, 2022 (GLOBE NEWSWIRE) -- Iris Energy Limited (NASDAQ: IREN) ('Iris Energy' or 'the Company'), a leading owner and operator of institutional-grade, highly efficient proprietary Bitcoin mining data centers powered by 100% renewable energy, today published a monthly investor update for September 2022, containing its results from operations as well as construction and development updates.\"], 'titles': ['', '', '', '', '']}}>]\n",
      "\n",
      "Query: What is Bitcoin mining?\n",
      "Answers:\n",
      "[   <Answer {'answer': ' generate new coins', 'type': 'generative', 'score': None, 'context': None, 'offsets_in_document': None, 'offsets_in_context': None, 'document_id': None, 'meta': {'doc_ids': ['5323100ade27d773eec3ebcc4b65521', 'da3d945c6fa1283e0701d984dce654ad', 'c5cc43a36291e5923c46b7e83780336a', '7411498bc20c0fc50fd5550b0282acf5', '10133cab79a62fdb758453c62bd05d5b'], 'doc_scores': [0.6976991824052634, 0.6934953021726374, 0.6927373812673804, 0.6916624142932156, 0.6916624142932156], 'content': [\"Bitcoin has come a long way since its inception in 2008, becoming the most popular and valued cryptocurrency of all time. But with time, its inefficiencies were also exposed -- lack of consumer protection leading to money laundering and black market trading. Perhaps the most concerning issue is the huge impact its production has on the environment.\\n\\nMining Bitcoins could be worse than extracting gold and is as bad as industries related to cattle farming and crude oil. At least that's what the latest study published in the journal Scientific Reports suggests.\", 'Bitcoin mining is the process used to generate new coins and verify new transactions. The process involves vast, decentralized networks of computers …\\nRead Full Story', \"According to a study that was published in Scientific Reports, the environmental costs of mining the digital currency Bitcoin are more equivalent to the climatic harm caused by raising beef than they are to the costs of mining gold when expressed as a percentage of the market price.\\nAccording to the authors, Bitcoin should be compared to considerably more energy-intensive goods like meat, natural gas, and crude oil rather than being likened to 'digital gold.'Bitcoin had a market cap of around 960 billion US dollars in December 2021 and accounted for almost 41% of all cryptocurrencies worldwide.\", \"Bitcoin mining's climate impact is comparable to farming cattle or burning gasoline when taken as a proportion of market value, according to researchers at the University of New Mexico in Albuquerque. Cryptocurrency mining is energy intensive because it requires highly specialized computers - and most of the electricity it consumes is generated by burning planet-warming fossil fuels. The climate-related economic damage caused by mining the popular digital token, bitcoin, exceeded its market value on 6.\", \"Bitcoin mining's climate impact is comparable to farming cattle or burning gasoline when taken as a proportion of market value, according to researchers at the University of New Mexico in Albuquerque.\\nCryptocurrency mining is energy intensive because it requires highly specialized computers - and most of the electricity it consumes is generated by burning planet-warming fossil fuels. The climate-related economic damage caused by mining the popular digital token, bitcoin, exceeded its market value on 6.\"], 'titles': ['', '', '', '', '']}}>]\n",
      "\n",
      "Query: What is the difference between Bitcoin and Ethereum?\n",
      "Answers:\n",
      "[   <Answer {'answer': ' bitcoin ( fiat )', 'type': 'generative', 'score': None, 'context': None, 'offsets_in_document': None, 'offsets_in_context': None, 'document_id': None, 'meta': {'doc_ids': ['8e8fc301f51702774a9cb14d896bdc91', '81d2a24cd2398ebce0417d0a60e2d74a', 'cb1828af23b93179ecb343ffe1918923', '891e6494a659d6c8156ade0d4a2195bb', '2fea7924eb953cf898f93b2ec8538646'], 'doc_scores': [0.6890580211893421, 0.6867317134501916, 0.6858819670978911, 0.6841344203370276, 0.6837793213116116], 'content': [\"Cryptocurrency prices: Check today's rates of Bitcoin, Ethereum, Cardano, XRP Oct 03, 2022, 10:51 am 3 min read Ethereum's value has gone down by 0.4% since last week Bitcoin has shed 1.1% over the last 24 hours, trading at $19,121.40. It is 1.7% higher than the previous week. The second most popular token, Ethereum, has dropped 1.8% from yesterday and is trading at $1,289.19. From the previous week, it is down 0.4%. The market capitalization of Bitcoin and Ethereum is now at $366.53 billion and $155.\", \"1 / 6Bitcoin | The world's largest and most popular virtual currency, Bitcoin, rose 1.6 percent to $20,280. Its market value stood at $388.3 billion. The trade volume was at $35.1 billion.2 / 6Ethereum | The second largest virtual currency, Ethererum or Ether, climbed 1.2 percent to $1,355 with a market capitalisation of $166.2 billion. The trade volume of Ethereum was almost $9.5 billion in the last 24 hours.3 / 6Dogecoin | Meme-based virtual currency, Dogecoin, jumped 7.5 percent to $0.1. Its market value stood at $8.\", \"Ethereum is the most well-known altcoin, and for many investors and fans, it is much more than just another cryptocurrency. Though it had a terrible first half of the year, investors expect Ethereum price to rise above $4,000 in 2022. Ether (ETH), Ethereum's native asset, has seen phenomenal growth in value since its inception in 2015.\\n\\nEther, the cryptocurrency created by programmer Vitalik Buterin, has seen its value rise from $0.311 in 2015 to approximately $4,800 at its peak late last year, albeit with significant price swings.\", \"Ethereum has been following the general trend in the crypto market, giving back its profit obtained over the past week. The cryptocurrency was moving in tandem with Bitcoin and large cryptocurrencies, but now ETH's price is reacting to new economic data published in the United States.\\nAt the time of writing, Ethereum trades at $1,300 with a 2% loss and sideways movement in the last week. Other cryptocurrencies in the top 10 by market capitalization record similar price action with the exception of XRP.\", \"1 Min(s) ReadMajor cryptocurrencies extended gains/losses on Friday. Bitcoin prices declined, but remained above the crucial $20,000. Bitcoin | The world's largest and most popular virtual currency, Bitcoin, fell by 0.8 percent to $20,027 . Its market value stood at $383 billion. The trade volume was at $31.9 billion. Ethereum | The second largest virtual currency, Ethererum or Ether, climbed 0.16 percent to $1356.5 with a market capitalisation of $166.5 billion. The trade volume of Ethereum was almost $10.\"], 'titles': ['', '', '', '', '']}}>]\n",
      "\n",
      "Query: What is Binance?\n",
      "Answers:\n",
      "[   <Answer {'answer': \" is or isn't entertainment\", 'type': 'generative', 'score': None, 'context': None, 'offsets_in_document': None, 'offsets_in_context': None, 'document_id': None, 'meta': {'doc_ids': ['a807273ad1ac6982464e9519867542da', '9747246983216684601dca1fb5337a5', '494934a3f2af48decc433ce89434463d', '6c1c22b766a43c9e539e450cda00ef2', '80490131d2a1e5c80da65bbc5b20bcaf'], 'doc_scores': [0.6519585699868994, 0.6514299419252328, 0.651007429559475, 0.6506564262572354, 0.6496169984219295], 'content': ['Wrapped Bitcoin (WBTC) traded 2% higher against the U.S. dollar during the 1-day period ending at 18:00 PM E.T. on October 9th. During the last week, Wrapped Bitcoin has traded 2.4% lower against the U.S. dollar. One Wrapped Bitcoin token can currently be purchased for about $19,420.66 or 1.00029174 BTC on major cryptocurrency exchanges. Wrapped Bitcoin has a total market capitalization of $4.76 billion and approximately $317.61 million worth of Wrapped Bitcoin was traded on exchanges in the last day.', 'Wrapped Bitcoin (WBTC) traded up 2% against the U.S. dollar during the 24-hour period ending at 0:00 AM Eastern on October 4th. One Wrapped Bitcoin coin can now be purchased for $20,178.94 or 1.00038917 BTC on popular exchanges. During the last seven days, Wrapped Bitcoin has traded down 2.4% against the U.S. dollar. Wrapped Bitcoin has a market cap of $4.94 billion and $317.61 million worth of Wrapped Bitcoin was traded on exchanges in the last 24 hours.\\nHere is how similar cryptocurrencies have performed during the last 24 hours:\\nZoo Token (ZOOT) traded down 2.', 'Wrapped Bitcoin (WBTC) traded 2% higher against the US dollar during the 1-day period ending at 9:00 AM Eastern on October 3rd. In the last week, Wrapped Bitcoin has traded down 2.4% against the US dollar. One Wrapped Bitcoin coin can currently be bought for $19,274.67 or 0.99997769 BTC on major exchanges. Wrapped Bitcoin has a total market cap of $4.72 billion and approximately $317.61 million worth of Wrapped Bitcoin was traded on exchanges in the last 24 hours.\\nHere is how related cryptocurrencies have performed in the last 24 hours:\\nZoo Token (ZOOT) traded 2.', \"Wrapped Bitcoin's (CRYPTO: WBTC) price has decreased 3.43% over the past 24 hours to $19,427.73, continuing its downward trend over the past week of -2.0%, moving from $19,688.31 to its current price.\\nRead Full Story\", \"Bitcoin miner Merkle Standard, which has a joint venture with Bitmain, one of the world's largest bitcoin mining rig manufacturers, increased its total computing power or hashrate to 3.1 exahash (EH/s …\\nRead Full Story\"], 'titles': ['', '', '', '', '']}}>]\n",
      "\n",
      "Query: What are Bitcoin whales?\n",
      "Answers:\n",
      "[   <Answer {'answer': ' unknown', 'type': 'generative', 'score': None, 'context': None, 'offsets_in_document': None, 'offsets_in_context': None, 'document_id': None, 'meta': {'doc_ids': ['28b4298b552172e5437f40982394dbe7', 'af27664cc144a92deb1ebf58a3892ae5', 'c4c74872db1e4db38c6867c3b3c87467', 'cd5347b76b43ff36e0b177a571140f68', '62d835d02f76eb6bd35bc16611a5453c'], 'doc_scores': [0.688029908883174, 0.6800469180442165, 0.6795533067844876, 0.6742403720063386, 0.6721280415608125], 'content': [\"Bitcoin's price appears to be stuck in a relatively wide range between $18,000 and $24,000 for the past couple of months, and it's unable to escape.\\nMeanwhile, data from the popular cryptocurrency analytics resource, Glassnode, revealed the average price that whales have been accumulating since January 2017.\\n\\nAccording to Glassnode, Bitcoin whales bought Bitcoin at an average price of about $15,800 for the period between now and January 2017.\\nTo be precise, these are wallets that have more than 1,000 BTC.\", 'Bitcoin (BTC) worth millions of dollars is suddenly being purchased by a crypto whale.In early Q4, 2022, Bitcoin, like all the other major cryptocurrencies, failed to end its recession.Some whales, though, are certain that dips are for purchase and the statistics of an unusual address on the Bitcoin network were revealed by anonymous Bitcoin analyst and investor @Capital15C on Twitter.The unknown address began making a lot of aggressive purchases of digital gold on September 17, 2022. They typically purchase BTC for 100–200 coins.', 'Bitcoin whales have accumulated the asset in a sustained manner since September 27. Large wallet investors holding 100 to 10,000 Bitcoins have added upwards of $931 million in BTC to their portfolio.\\nRead Full Story', \"Disclaimer: The opinion expressed here is not investment advice – it is provided for informational purposes only. It does not necessarily reflect the opinion of U.Today. Every investment and all trading involves risk, so you should always perform your own research prior to making decisions. We do not recommend investing money you cannot afford to lose.\\n\\nAs reported by crypto analytics agency Santiment, Bitcoin's price at the moment seems attractive enough for whales to accumulate. Large holders of the cryptocurrency, whose wallets range in size from 100 to 10,000 BTC, have added 46,173 BTC to their balance since Sept.\", \"Cryptocurrency analytics platform Santiment says Bitcoin (BTC) whales have accumulated heavily over the past nine days.\\nSantiment says that since Tuesday last week, Bitcoin whales have added Bitcoin worth approximately $931,309,410 at time of writing. According to the crypto analytics platform, this is the longest period of sustained accumulation by Bitcoin whales since May.\\n'Bitcoin whales are showing signs of sustained accumulation, which has been a rarity in 2022. Since September 27th, addresses holding 100 to 10,000 BTC have collectively added back 46,173 BTC back to their wallets as large USDT [Tether] holdings have dropped.\"], 'titles': ['', '', '', '', '']}}>]\n",
      "\n",
      "Query: What was Bitcoin's price in 2020?\n",
      "Answers:\n",
      "[   <Answer {'answer': ' $800 -- $1,150', 'type': 'generative', 'score': None, 'context': None, 'offsets_in_document': None, 'offsets_in_context': None, 'document_id': None, 'meta': {'doc_ids': ['a11c3bff56164e2b37d1a1b8e8efc4de', '11685ab3e9b3a7273352884550b4a92e', '585c9fc801467c62815650bccefba2d5', '1447b0ffc268117da5431d8e59937181', 'fccbdc53c17c3a092cefc8ab96301460'], 'doc_scores': [0.6924401376159526, 0.6919910537498312, 0.6897113900264176, 0.6896345959284748, 0.687775351267321], 'content': ['Bitcoin is down $499.22 today or 2.49% to $19549.48\\n\\n--Largest percentage decrease since Sept. 20, 2022, when it dropped 2.81%\\n--Down two of the past three days\\n--Up 0.67% month-to-date\\n--Down 57.8% year-to-date\\n--Down 71.17% from its all-time high of $67802.30 on Nov. 9, 2021 (based on 5 p.m. levels)\\n--Down 63.76% from 52 weeks ago (Oct. 8, 2021), when it traded at $53950.58\\n--Down 71.17% from its 52-week high of $67802.30 on Nov. 9, 2021 (based on 5 p.m. levels)\\n--Up 10.28% from its 52-week low of $17726.', 'Bitcoin is down $328.29 today or 1.61% to $20022.15\\n\\n--Largest percentage decrease since Sept. 23, 2022, when it dropped 2.05%\\n--Snaps a two day winning streak\\n--Down 56.78% year-to-date\\n--Down 70.47% from its all-time high of $67802.30 on Nov. 9, 2021 (based on 5 p.m. levels)\\n--Down 63.53% from 52 weeks ago (Oct. 6, 2021), when it traded at $54903.22\\n--Down 70.47% from its 52-week high of $67802.30 on Nov. 9, 2021 (based on 5 p.m. levels)\\n--Up 12.95% from its 52-week low of $17726.', 'Bitcoin is up $358.47 today or 1.86% to $19589.94\\n\\n--Highest 5 p.m. level since Sept. 18, 2022, when it traded at $19720.55\\n--Snaps a four day losing streak\\n--Down 57.71% year-to-date\\n--Down 71.11% from its all-time high of $67802.30 on Nov. 9, 2021 (based on 5 p.m. levels)\\n--Down 60.03% from 52 weeks ago (Oct. 4, 2021), when it traded at $49016.05\\n--Down 71.11% from its 52-week high of $67802.30 on Nov. 9, 2021 (based on 5 p.m. levels)\\n--Up 10.51% from its 52-week low of $17726.51 on June 18, 2022 (based on 5 p.', 'Bitcoin is up $26.55 today or 0.13% to $20048.70\\n\\n--Up three of the past four days\\n--Down 56.72% year-to-date\\n--Down 70.43% from its all-time high of $67802.30 on Nov. 9, 2021 (based on 5 p.m. levels)\\n--Down 63.01% from 52 weeks ago (Oct. 7, 2021), when it traded at $54204.61\\n--Down 70.43% from its 52-week high of $67802.30 on Nov. 9, 2021 (based on 5 p.m. levels)\\n--Up 13.10% from its 52-week low of $17726.51 on June 18, 2022 (based on 5 p.m. levels)\\n--Traded as high as 20437.78; highest intraday level since Sept.', \"Bitcoin's price is down roughly 56% since January but crypto-related stocks such as MicroStrategy, Riot Blockchain, Coinbase, and Hut8 Mining are down up to 74%.The orange line in the chart below shows Bitcoin's decline in 2022 as a percentage of the January price. The other lines represent major Bitcoin equities, none of which have had a good year in terms of stock price.Source: TradingViewCoinbaseCoinbase reported a $1.1 billion loss in Q2 2022 as assets held on the exchange fell to just $96 million.\"], 'titles': ['', '', '', '', '']}}>]\n",
      "\n",
      "Query: How much was Bitcoin's price in 2021?\n",
      "Answers:\n",
      "[   <Answer {'answer': ' $800 -- $1,150', 'type': 'generative', 'score': None, 'context': None, 'offsets_in_document': None, 'offsets_in_context': None, 'document_id': None, 'meta': {'doc_ids': ['11685ab3e9b3a7273352884550b4a92e', 'a11c3bff56164e2b37d1a1b8e8efc4de', '585c9fc801467c62815650bccefba2d5', '8e00e5ebe45cc1a8758823363f8ab856', '1447b0ffc268117da5431d8e59937181'], 'doc_scores': [0.6836979871042409, 0.6830865654769515, 0.6814280363627622, 0.6808858266812858, 0.680028674068024], 'content': ['Bitcoin is down $328.29 today or 1.61% to $20022.15\\n\\n--Largest percentage decrease since Sept. 23, 2022, when it dropped 2.05%\\n--Snaps a two day winning streak\\n--Down 56.78% year-to-date\\n--Down 70.47% from its all-time high of $67802.30 on Nov. 9, 2021 (based on 5 p.m. levels)\\n--Down 63.53% from 52 weeks ago (Oct. 6, 2021), when it traded at $54903.22\\n--Down 70.47% from its 52-week high of $67802.30 on Nov. 9, 2021 (based on 5 p.m. levels)\\n--Up 12.95% from its 52-week low of $17726.', 'Bitcoin is down $499.22 today or 2.49% to $19549.48\\n\\n--Largest percentage decrease since Sept. 20, 2022, when it dropped 2.81%\\n--Down two of the past three days\\n--Up 0.67% month-to-date\\n--Down 57.8% year-to-date\\n--Down 71.17% from its all-time high of $67802.30 on Nov. 9, 2021 (based on 5 p.m. levels)\\n--Down 63.76% from 52 weeks ago (Oct. 8, 2021), when it traded at $53950.58\\n--Down 71.17% from its 52-week high of $67802.30 on Nov. 9, 2021 (based on 5 p.m. levels)\\n--Up 10.28% from its 52-week low of $17726.', 'Bitcoin is up $358.47 today or 1.86% to $19589.94\\n\\n--Highest 5 p.m. level since Sept. 18, 2022, when it traded at $19720.55\\n--Snaps a four day losing streak\\n--Down 57.71% year-to-date\\n--Down 71.11% from its all-time high of $67802.30 on Nov. 9, 2021 (based on 5 p.m. levels)\\n--Down 60.03% from 52 weeks ago (Oct. 4, 2021), when it traded at $49016.05\\n--Down 71.11% from its 52-week high of $67802.30 on Nov. 9, 2021 (based on 5 p.m. levels)\\n--Up 10.51% from its 52-week low of $17726.51 on June 18, 2022 (based on 5 p.', \"s of 9:11am today, the price of Bitcoin (BTC) is £17,854, according to CoinMarketCap. That's down 1.94% on yesterday's figure of £18,200, 0.57% on last week and up 5.88% on one month ago. The 24-hour …\\nRead Full Story\", 'Bitcoin is up $26.55 today or 0.13% to $20048.70\\n\\n--Up three of the past four days\\n--Down 56.72% year-to-date\\n--Down 70.43% from its all-time high of $67802.30 on Nov. 9, 2021 (based on 5 p.m. levels)\\n--Down 63.01% from 52 weeks ago (Oct. 7, 2021), when it traded at $54204.61\\n--Down 70.43% from its 52-week high of $67802.30 on Nov. 9, 2021 (based on 5 p.m. levels)\\n--Up 13.10% from its 52-week low of $17726.51 on June 18, 2022 (based on 5 p.m. levels)\\n--Traded as high as 20437.78; highest intraday level since Sept.'], 'titles': ['', '', '', '', '']}}>]\n",
      "\n",
      "Query: Who is the founder of Ethereum?\n",
      "Answers:\n",
      "[   <Answer {'answer': ' Vitalik buterin', 'type': 'generative', 'score': None, 'context': None, 'offsets_in_document': None, 'offsets_in_context': None, 'document_id': None, 'meta': {'doc_ids': ['cb1828af23b93179ecb343ffe1918923', '891e6494a659d6c8156ade0d4a2195bb', '547a52acd2a2551f0b986c935be61068', 'a814905d65efac13bb2e787a824d5181', 'db381993479b91f43c4cbd122b7eb879'], 'doc_scores': [0.6759674397126582, 0.661125528403046, 0.6587748284451568, 0.6566782235311914, 0.652754787920797], 'content': [\"Ethereum is the most well-known altcoin, and for many investors and fans, it is much more than just another cryptocurrency. Though it had a terrible first half of the year, investors expect Ethereum price to rise above $4,000 in 2022. Ether (ETH), Ethereum's native asset, has seen phenomenal growth in value since its inception in 2015.\\n\\nEther, the cryptocurrency created by programmer Vitalik Buterin, has seen its value rise from $0.311 in 2015 to approximately $4,800 at its peak late last year, albeit with significant price swings.\", \"Ethereum has been following the general trend in the crypto market, giving back its profit obtained over the past week. The cryptocurrency was moving in tandem with Bitcoin and large cryptocurrencies, but now ETH's price is reacting to new economic data published in the United States.\\nAt the time of writing, Ethereum trades at $1,300 with a 2% loss and sideways movement in the last week. Other cryptocurrencies in the top 10 by market capitalization record similar price action with the exception of XRP.\", \"Fidelity Investments, a financial services corporation with $9.9 trillion in assets under management, has launched the new Ethereum Index Fund, giving its clients access to the world's second-biggest crypto asset, Ether.As per a filing with the U.S. Securities and Exchange Commission on Tuesday, the Ethereum Index Fund has raised close to $5 million since its inception on Sept. 26 with the minimum investment being around $50,000.Fidelity established its crypto asset arm Fidelity Digital Assets in 2018 and since then has launched two exchange-traded crypto funds dedicated to the metaverse and crypto payments, respectively.\", \"The cryptocurrency world is at an inflection point. The Merge is here. When complete, Ethereum's consensus mechanism will have changed from a modified version of Bitcoin's Proof of Work to its own Proof of Stake. Since its inception, Ethereum was never meant to be like Bitcoin. Ethereum's focus has always been on interoperability, composability, and scalability. It was always meant to scale to a PoS chain when the moment presented itself.\", 'Despite a months-long rut in crypto markets, it\\'s been a historic year for Ethereum\\'s network.The Merge — a technical upgrade that transitioned ethereum from an energy-intensive Proof of Work (PoW) to Proof of Stake (PoS) consensus mechanism — finally took place. It was the \"most ambitious thing\" that the industry has ever seen and the single-most important event in crypto\\'s history after the invention of bitcoin and ethereum, ConsenSys\\' Ben Edgington previously told Insider.Edgington, who worked on the upgrade for the past 4.'], 'titles': ['', '', '', '', '']}}>]\n",
      "\n",
      "Query: What is ADA?\n",
      "Answers:\n",
      "[   <Answer {'answer': ' adenosine triphosphate ( atp )', 'type': 'generative', 'score': None, 'context': None, 'offsets_in_document': None, 'offsets_in_context': None, 'document_id': None, 'meta': {'doc_ids': ['5dc5418da69f08d3492e712cd29de81', '415403f53db7b6e766d54509c610d36d', '879a5c1c1e44e45a28d1b99cb10e51f8', 'cb1828af23b93179ecb343ffe1918923', '674f1e726a423c1c291fc0f061697763'], 'doc_scores': [0.6489380907764656, 0.6487727352754554, 0.6403797857247424, 0.6395411900862786, 0.6394526829819052], 'content': [\"Cardano (ADA) creator Charles Hoskinson is unveiling his take on Bitcoin's (BTC) value proposition as it increasingly becomes used in the realm of decentralized finance (DeFi).\\nHoskinson believes 'wrapped' coins that are pegged to the price of Bitcoin will spread like wildfire across a wide swath of smart contract-enabled blockchains. Wrapped tokens have grown in popularity by essentially giving investors – in this case Bitcoin holders – a way to trade and utilize their BTC in decentralized applications.\", \"On September 28, the Taro daemon's alpha version was revealed, allowing programmers to create, transfer, and acquire assets on the bitcoin blockchain. Taro, a Taproot-powered system for generating assets that can be exchanged through bitcoin and, in the coming years, the Lightning Network for an instantaneous, huge amount, low fee payments. Thanks to the bitcoin developer community for their insightful comments, which they have integrated into the protocol's draft Bitcoin Improvement Proposals (BIPs), the Taro alpha daemon implementations, and other documents.\", \"Image provided by iStock.Valora Group, a Switzerland-based convenience store chain, has introduced a kiosk that sells bitcoin at the company's k kiosk, Press & Books and avec stores, according to a press release.The company has partnered with Smart2Coin, a bitcoin wallet, to allow customers to buy bitcoin at the current daily price.Valora has previously offered bitcoin vouchers since April 2021, where funds loaded online has to be converted to bitcoin first.The Start2Coin offers a plastic card with a memory chip costing CHF 29.\", \"Ethereum is the most well-known altcoin, and for many investors and fans, it is much more than just another cryptocurrency. Though it had a terrible first half of the year, investors expect Ethereum price to rise above $4,000 in 2022. Ether (ETH), Ethereum's native asset, has seen phenomenal growth in value since its inception in 2015.\\n\\nEther, the cryptocurrency created by programmer Vitalik Buterin, has seen its value rise from $0.311 in 2015 to approximately $4,800 at its peak late last year, albeit with significant price swings.\", \"Image provided by iStock.Valora Group, a Switzerland-based convenience store chain, has introduced a kiosk that sells bitcoin at the company's k kiosk, Press & Books and avec stores, according to a press release.The company has partnered with Smart2Coin, a bitcoin wallet, to allow customers to buy bitcoin at the current daily price.Valora has offered bitcoin vouchers since April 2021, where funds loaded online had to be converted to bitcoin first.The Start2Coin offers a plastic card with a memory chip costing CHF 29.\"], 'titles': ['', '', '', '', '']}}>]\n"
     ]
    }
   ],
   "source": [
    "pipe_GQA_2 = GenerativeQAPipeline(generator=rag_generator, retriever=dpr_retriever)\n",
    "\n",
    "for question in QUESTIONS:\n",
    "    res = pipe_GQA_2.run(query=question, \n",
    "                         params={\"Generator\": {\"top_k\": 1}, \"Retriever\": {\"top_k\": 5}})\n",
    "    \n",
    "    (print_answers(res, details=\"all\"))"
   ]
  },
  {
   "cell_type": "code",
   "execution_count": null,
   "id": "6ca3b26a",
   "metadata": {},
   "outputs": [],
   "source": []
  },
  {
   "cell_type": "code",
   "execution_count": null,
   "id": "07dcffe3",
   "metadata": {},
   "outputs": [],
   "source": []
  },
  {
   "cell_type": "code",
   "execution_count": null,
   "id": "001222a9",
   "metadata": {},
   "outputs": [],
   "source": []
  }
 ],
 "metadata": {
  "kernelspec": {
   "display_name": "Python 3 (ipykernel)",
   "language": "python",
   "name": "python3"
  },
  "language_info": {
   "codemirror_mode": {
    "name": "ipython",
    "version": 3
   },
   "file_extension": ".py",
   "mimetype": "text/x-python",
   "name": "python",
   "nbconvert_exporter": "python",
   "pygments_lexer": "ipython3",
   "version": "3.9.5"
  }
 },
 "nbformat": 4,
 "nbformat_minor": 5
}
